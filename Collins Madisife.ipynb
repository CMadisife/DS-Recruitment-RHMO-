{
 "cells": [
  {
   "cell_type": "markdown",
   "metadata": {},
   "source": [
    "# Recruitment Task: Reliance Health\n",
    "\n",
    "This notebook takes a look at claims data of over 5000 enrollees and tries to draw insight from them. A machine learning model is also built which predicts the Total Price afterwards"
   ]
  },
  {
   "cell_type": "markdown",
   "metadata": {},
   "source": [
    "### Import relevant packages for the analysis"
   ]
  },
  {
   "cell_type": "code",
   "execution_count": 1,
   "metadata": {},
   "outputs": [],
   "source": [
    "import numpy as np\n",
    "import pandas as pd\n",
    "from scipy import stats\n",
    "import datetime\n",
    "import matplotlib.pyplot as plt\n",
    "%matplotlib inline\n",
    "import seaborn as sns\n",
    "from sklearn.preprocessing import StandardScaler\n",
    "from sklearn.cluster import KMeans\n",
    "from sklearn.linear_model import LinearRegression\n",
    "from sklearn.svm import SVR\n",
    "from sklearn.svm import LinearSVR\n",
    "from sklearn.preprocessing import PolynomialFeatures\n",
    "from sklearn.pipeline import Pipeline\n",
    "from sklearn.model_selection import train_test_split\n",
    "from sklearn.metrics import mean_squared_error, mean_absolute_error\n",
    "from math import sqrt"
   ]
  },
  {
   "cell_type": "markdown",
   "metadata": {},
   "source": [
    "### Import dataset into notebook and store in DataFrame"
   ]
  },
  {
   "cell_type": "code",
   "execution_count": 2,
   "metadata": {},
   "outputs": [
    {
     "data": {
      "text/html": [
       "<div>\n",
       "<style scoped>\n",
       "    .dataframe tbody tr th:only-of-type {\n",
       "        vertical-align: middle;\n",
       "    }\n",
       "\n",
       "    .dataframe tbody tr th {\n",
       "        vertical-align: top;\n",
       "    }\n",
       "\n",
       "    .dataframe thead th {\n",
       "        text-align: right;\n",
       "    }\n",
       "</style>\n",
       "<table border=\"1\" class=\"dataframe\">\n",
       "  <thead>\n",
       "    <tr style=\"text-align: right;\">\n",
       "      <th></th>\n",
       "      <th>S/N</th>\n",
       "      <th>AGE</th>\n",
       "      <th>SEX</th>\n",
       "      <th>PLAN</th>\n",
       "      <th>COMPANY</th>\n",
       "      <th>PROVIDER NAME</th>\n",
       "      <th>PATIENT ENCOUNTER DATE</th>\n",
       "      <th>MEDICAL CLAIMS SUBMISSION DATE</th>\n",
       "      <th>PAYMENT DATE</th>\n",
       "      <th>SERVICE TYPE</th>\n",
       "      <th>DIAGNOSIS</th>\n",
       "      <th>TOTAL PRICE</th>\n",
       "    </tr>\n",
       "  </thead>\n",
       "  <tbody>\n",
       "    <tr>\n",
       "      <td>0</td>\n",
       "      <td>1</td>\n",
       "      <td>29</td>\n",
       "      <td>M</td>\n",
       "      <td>RED Individual</td>\n",
       "      <td>CORPORATE</td>\n",
       "      <td>JOY HOSPITAL-LAGOS</td>\n",
       "      <td>1997-12-12</td>\n",
       "      <td>1998-01-02</td>\n",
       "      <td>1998-01-02</td>\n",
       "      <td>Outpatient</td>\n",
       "      <td>ACUTE MALARIA WITH URTI</td>\n",
       "      <td>17000.00</td>\n",
       "    </tr>\n",
       "    <tr>\n",
       "      <td>1</td>\n",
       "      <td>2</td>\n",
       "      <td>31</td>\n",
       "      <td>F</td>\n",
       "      <td>Yellow Individual</td>\n",
       "      <td>CORPORATE</td>\n",
       "      <td>CHARMAINE HOSPITAL</td>\n",
       "      <td>1997-12-24</td>\n",
       "      <td>1998-01-02</td>\n",
       "      <td>1998-01-02</td>\n",
       "      <td>Outpatient</td>\n",
       "      <td>LEFT MODERATE TO PROFOUND SNHL</td>\n",
       "      <td>20000.00</td>\n",
       "    </tr>\n",
       "    <tr>\n",
       "      <td>2</td>\n",
       "      <td>3</td>\n",
       "      <td>31</td>\n",
       "      <td>F</td>\n",
       "      <td>Yellow Individual</td>\n",
       "      <td>CORPORATE</td>\n",
       "      <td>CHARMAINE HOSPITAL</td>\n",
       "      <td>1997-12-28</td>\n",
       "      <td>1998-01-02</td>\n",
       "      <td>1998-01-02</td>\n",
       "      <td>Inpatient</td>\n",
       "      <td>LEFT MODERATE TO PROFOUND SNHL</td>\n",
       "      <td>15000.00</td>\n",
       "    </tr>\n",
       "    <tr>\n",
       "      <td>3</td>\n",
       "      <td>4</td>\n",
       "      <td>23</td>\n",
       "      <td>M</td>\n",
       "      <td>Yellow Individual</td>\n",
       "      <td>CORPORATE</td>\n",
       "      <td>CILANTRO HOSPITAL</td>\n",
       "      <td>1997-12-19</td>\n",
       "      <td>1998-01-03</td>\n",
       "      <td>1998-01-09</td>\n",
       "      <td>Outpatient</td>\n",
       "      <td>URTI</td>\n",
       "      <td>2160.00</td>\n",
       "    </tr>\n",
       "    <tr>\n",
       "      <td>4</td>\n",
       "      <td>5</td>\n",
       "      <td>30</td>\n",
       "      <td>F</td>\n",
       "      <td>RED Individual</td>\n",
       "      <td>CORPORATE</td>\n",
       "      <td>JOY HOSPITAL-LAGOS</td>\n",
       "      <td>1997-12-01</td>\n",
       "      <td>1998-01-04</td>\n",
       "      <td>1998-01-09</td>\n",
       "      <td>Outpatient</td>\n",
       "      <td>PLASMODIASIS</td>\n",
       "      <td>10399.99</td>\n",
       "    </tr>\n",
       "  </tbody>\n",
       "</table>\n",
       "</div>"
      ],
      "text/plain": [
       "   S/N  AGE SEX               PLAN    COMPANY       PROVIDER NAME  \\\n",
       "0    1   29   M     RED Individual  CORPORATE  JOY HOSPITAL-LAGOS   \n",
       "1    2   31   F  Yellow Individual  CORPORATE  CHARMAINE HOSPITAL   \n",
       "2    3   31   F  Yellow Individual  CORPORATE  CHARMAINE HOSPITAL   \n",
       "3    4   23   M  Yellow Individual  CORPORATE   CILANTRO HOSPITAL   \n",
       "4    5   30   F     RED Individual  CORPORATE  JOY HOSPITAL-LAGOS   \n",
       "\n",
       "  PATIENT ENCOUNTER DATE MEDICAL CLAIMS SUBMISSION DATE PAYMENT DATE  \\\n",
       "0             1997-12-12                     1998-01-02   1998-01-02   \n",
       "1             1997-12-24                     1998-01-02   1998-01-02   \n",
       "2             1997-12-28                     1998-01-02   1998-01-02   \n",
       "3             1997-12-19                     1998-01-03   1998-01-09   \n",
       "4             1997-12-01                     1998-01-04   1998-01-09   \n",
       "\n",
       "  SERVICE TYPE                       DIAGNOSIS  TOTAL PRICE  \n",
       "0   Outpatient         ACUTE MALARIA WITH URTI     17000.00  \n",
       "1   Outpatient  LEFT MODERATE TO PROFOUND SNHL     20000.00  \n",
       "2    Inpatient  LEFT MODERATE TO PROFOUND SNHL     15000.00  \n",
       "3   Outpatient                            URTI      2160.00  \n",
       "4   Outpatient                    PLASMODIASIS     10399.99  "
      ]
     },
     "execution_count": 2,
     "metadata": {},
     "output_type": "execute_result"
    }
   ],
   "source": [
    "data = pd.read_excel(\"Claims Data _ RHData.xlsx\")\n",
    "data.head()"
   ]
  },
  {
   "cell_type": "markdown",
   "metadata": {},
   "source": [
    "### Data Munging and Wrangling"
   ]
  },
  {
   "cell_type": "code",
   "execution_count": 3,
   "metadata": {},
   "outputs": [
    {
     "data": {
      "text/html": [
       "<div>\n",
       "<style scoped>\n",
       "    .dataframe tbody tr th:only-of-type {\n",
       "        vertical-align: middle;\n",
       "    }\n",
       "\n",
       "    .dataframe tbody tr th {\n",
       "        vertical-align: top;\n",
       "    }\n",
       "\n",
       "    .dataframe thead th {\n",
       "        text-align: right;\n",
       "    }\n",
       "</style>\n",
       "<table border=\"1\" class=\"dataframe\">\n",
       "  <thead>\n",
       "    <tr style=\"text-align: right;\">\n",
       "      <th></th>\n",
       "      <th>s/n</th>\n",
       "      <th>age</th>\n",
       "      <th>sex</th>\n",
       "      <th>plan</th>\n",
       "      <th>company</th>\n",
       "      <th>provider_name</th>\n",
       "      <th>patient_encounter_date</th>\n",
       "      <th>medical_claims_submission_date</th>\n",
       "      <th>payment_date</th>\n",
       "      <th>service_type</th>\n",
       "      <th>diagnosis</th>\n",
       "      <th>total_price</th>\n",
       "    </tr>\n",
       "  </thead>\n",
       "  <tbody>\n",
       "    <tr>\n",
       "      <td>0</td>\n",
       "      <td>1</td>\n",
       "      <td>29</td>\n",
       "      <td>M</td>\n",
       "      <td>RED Individual</td>\n",
       "      <td>CORPORATE</td>\n",
       "      <td>JOY HOSPITAL-LAGOS</td>\n",
       "      <td>1997-12-12</td>\n",
       "      <td>1998-01-02</td>\n",
       "      <td>1998-01-02</td>\n",
       "      <td>Outpatient</td>\n",
       "      <td>ACUTE MALARIA WITH URTI</td>\n",
       "      <td>17000.00</td>\n",
       "    </tr>\n",
       "    <tr>\n",
       "      <td>1</td>\n",
       "      <td>2</td>\n",
       "      <td>31</td>\n",
       "      <td>F</td>\n",
       "      <td>Yellow Individual</td>\n",
       "      <td>CORPORATE</td>\n",
       "      <td>CHARMAINE HOSPITAL</td>\n",
       "      <td>1997-12-24</td>\n",
       "      <td>1998-01-02</td>\n",
       "      <td>1998-01-02</td>\n",
       "      <td>Outpatient</td>\n",
       "      <td>LEFT MODERATE TO PROFOUND SNHL</td>\n",
       "      <td>20000.00</td>\n",
       "    </tr>\n",
       "    <tr>\n",
       "      <td>2</td>\n",
       "      <td>3</td>\n",
       "      <td>31</td>\n",
       "      <td>F</td>\n",
       "      <td>Yellow Individual</td>\n",
       "      <td>CORPORATE</td>\n",
       "      <td>CHARMAINE HOSPITAL</td>\n",
       "      <td>1997-12-28</td>\n",
       "      <td>1998-01-02</td>\n",
       "      <td>1998-01-02</td>\n",
       "      <td>Inpatient</td>\n",
       "      <td>LEFT MODERATE TO PROFOUND SNHL</td>\n",
       "      <td>15000.00</td>\n",
       "    </tr>\n",
       "    <tr>\n",
       "      <td>3</td>\n",
       "      <td>4</td>\n",
       "      <td>23</td>\n",
       "      <td>M</td>\n",
       "      <td>Yellow Individual</td>\n",
       "      <td>CORPORATE</td>\n",
       "      <td>CILANTRO HOSPITAL</td>\n",
       "      <td>1997-12-19</td>\n",
       "      <td>1998-01-03</td>\n",
       "      <td>1998-01-09</td>\n",
       "      <td>Outpatient</td>\n",
       "      <td>URTI</td>\n",
       "      <td>2160.00</td>\n",
       "    </tr>\n",
       "    <tr>\n",
       "      <td>4</td>\n",
       "      <td>5</td>\n",
       "      <td>30</td>\n",
       "      <td>F</td>\n",
       "      <td>RED Individual</td>\n",
       "      <td>CORPORATE</td>\n",
       "      <td>JOY HOSPITAL-LAGOS</td>\n",
       "      <td>1997-12-01</td>\n",
       "      <td>1998-01-04</td>\n",
       "      <td>1998-01-09</td>\n",
       "      <td>Outpatient</td>\n",
       "      <td>PLASMODIASIS</td>\n",
       "      <td>10399.99</td>\n",
       "    </tr>\n",
       "  </tbody>\n",
       "</table>\n",
       "</div>"
      ],
      "text/plain": [
       "   s/n  age sex               plan    company       provider_name  \\\n",
       "0    1   29   M     RED Individual  CORPORATE  JOY HOSPITAL-LAGOS   \n",
       "1    2   31   F  Yellow Individual  CORPORATE  CHARMAINE HOSPITAL   \n",
       "2    3   31   F  Yellow Individual  CORPORATE  CHARMAINE HOSPITAL   \n",
       "3    4   23   M  Yellow Individual  CORPORATE   CILANTRO HOSPITAL   \n",
       "4    5   30   F     RED Individual  CORPORATE  JOY HOSPITAL-LAGOS   \n",
       "\n",
       "  patient_encounter_date medical_claims_submission_date payment_date  \\\n",
       "0             1997-12-12                     1998-01-02   1998-01-02   \n",
       "1             1997-12-24                     1998-01-02   1998-01-02   \n",
       "2             1997-12-28                     1998-01-02   1998-01-02   \n",
       "3             1997-12-19                     1998-01-03   1998-01-09   \n",
       "4             1997-12-01                     1998-01-04   1998-01-09   \n",
       "\n",
       "  service_type                       diagnosis  total_price  \n",
       "0   Outpatient         ACUTE MALARIA WITH URTI     17000.00  \n",
       "1   Outpatient  LEFT MODERATE TO PROFOUND SNHL     20000.00  \n",
       "2    Inpatient  LEFT MODERATE TO PROFOUND SNHL     15000.00  \n",
       "3   Outpatient                            URTI      2160.00  \n",
       "4   Outpatient                    PLASMODIASIS     10399.99  "
      ]
     },
     "execution_count": 3,
     "metadata": {},
     "output_type": "execute_result"
    }
   ],
   "source": [
    "# Firstly, let fix the messy column names for easy referencing and usage\n",
    "\n",
    "data.columns = data.columns.str.strip().str.lower().str.replace(' ','_')\n",
    "data.head()"
   ]
  },
  {
   "cell_type": "code",
   "execution_count": 4,
   "metadata": {},
   "outputs": [
    {
     "data": {
      "text/plain": [
       "s/n                                        int64\n",
       "age                                        int64\n",
       "sex                                       object\n",
       "plan                                      object\n",
       "company                                   object\n",
       "provider_name                             object\n",
       "patient_encounter_date            datetime64[ns]\n",
       "medical_claims_submission_date    datetime64[ns]\n",
       "payment_date                      datetime64[ns]\n",
       "service_type                              object\n",
       "diagnosis                                 object\n",
       "total_price                              float64\n",
       "dtype: object"
      ]
     },
     "execution_count": 4,
     "metadata": {},
     "output_type": "execute_result"
    }
   ],
   "source": [
    "#Checking to be sure the data types were read correctly. Fix where necessary\n",
    "data.dtypes"
   ]
  },
  {
   "cell_type": "markdown",
   "metadata": {},
   "source": [
    "All variables had their data types read correctly by pandas"
   ]
  },
  {
   "cell_type": "code",
   "execution_count": 5,
   "metadata": {},
   "outputs": [
    {
     "data": {
      "text/plain": [
       "total_price                       0\n",
       "diagnosis                         0\n",
       "service_type                      0\n",
       "payment_date                      0\n",
       "medical_claims_submission_date    0\n",
       "patient_encounter_date            0\n",
       "provider_name                     0\n",
       "company                           0\n",
       "plan                              0\n",
       "sex                               0\n",
       "age                               0\n",
       "s/n                               0\n",
       "dtype: int64"
      ]
     },
     "execution_count": 5,
     "metadata": {},
     "output_type": "execute_result"
    }
   ],
   "source": [
    "#Check for missing data in the dataset\n",
    "\n",
    "missing = data.isna().sum().sort_values(ascending=False)\n",
    "missing"
   ]
  },
  {
   "cell_type": "markdown",
   "metadata": {},
   "source": [
    "There are no missing data points in the dataset. All variables had entries for each observation"
   ]
  },
  {
   "cell_type": "code",
   "execution_count": 6,
   "metadata": {
    "scrolled": true
   },
   "outputs": [
    {
     "data": {
      "text/html": [
       "<div>\n",
       "<style scoped>\n",
       "    .dataframe tbody tr th:only-of-type {\n",
       "        vertical-align: middle;\n",
       "    }\n",
       "\n",
       "    .dataframe tbody tr th {\n",
       "        vertical-align: top;\n",
       "    }\n",
       "\n",
       "    .dataframe thead th {\n",
       "        text-align: right;\n",
       "    }\n",
       "</style>\n",
       "<table border=\"1\" class=\"dataframe\">\n",
       "  <thead>\n",
       "    <tr style=\"text-align: right;\">\n",
       "      <th></th>\n",
       "      <th>age</th>\n",
       "      <th>sex</th>\n",
       "      <th>plan</th>\n",
       "      <th>company</th>\n",
       "      <th>provider_name</th>\n",
       "      <th>patient_encounter_date</th>\n",
       "      <th>medical_claims_submission_date</th>\n",
       "      <th>payment_date</th>\n",
       "      <th>service_type</th>\n",
       "      <th>diagnosis</th>\n",
       "      <th>total_price</th>\n",
       "    </tr>\n",
       "  </thead>\n",
       "  <tbody>\n",
       "    <tr>\n",
       "      <td>0</td>\n",
       "      <td>29</td>\n",
       "      <td>M</td>\n",
       "      <td>RED Individual</td>\n",
       "      <td>CORPORATE</td>\n",
       "      <td>JOY HOSPITAL-LAGOS</td>\n",
       "      <td>1997-12-12</td>\n",
       "      <td>1998-01-02</td>\n",
       "      <td>1998-01-02</td>\n",
       "      <td>Outpatient</td>\n",
       "      <td>ACUTE MALARIA WITH URTI</td>\n",
       "      <td>17000.00</td>\n",
       "    </tr>\n",
       "    <tr>\n",
       "      <td>1</td>\n",
       "      <td>31</td>\n",
       "      <td>F</td>\n",
       "      <td>Yellow Individual</td>\n",
       "      <td>CORPORATE</td>\n",
       "      <td>CHARMAINE HOSPITAL</td>\n",
       "      <td>1997-12-24</td>\n",
       "      <td>1998-01-02</td>\n",
       "      <td>1998-01-02</td>\n",
       "      <td>Outpatient</td>\n",
       "      <td>LEFT MODERATE TO PROFOUND SNHL</td>\n",
       "      <td>20000.00</td>\n",
       "    </tr>\n",
       "    <tr>\n",
       "      <td>2</td>\n",
       "      <td>31</td>\n",
       "      <td>F</td>\n",
       "      <td>Yellow Individual</td>\n",
       "      <td>CORPORATE</td>\n",
       "      <td>CHARMAINE HOSPITAL</td>\n",
       "      <td>1997-12-28</td>\n",
       "      <td>1998-01-02</td>\n",
       "      <td>1998-01-02</td>\n",
       "      <td>Inpatient</td>\n",
       "      <td>LEFT MODERATE TO PROFOUND SNHL</td>\n",
       "      <td>15000.00</td>\n",
       "    </tr>\n",
       "    <tr>\n",
       "      <td>3</td>\n",
       "      <td>23</td>\n",
       "      <td>M</td>\n",
       "      <td>Yellow Individual</td>\n",
       "      <td>CORPORATE</td>\n",
       "      <td>CILANTRO HOSPITAL</td>\n",
       "      <td>1997-12-19</td>\n",
       "      <td>1998-01-03</td>\n",
       "      <td>1998-01-09</td>\n",
       "      <td>Outpatient</td>\n",
       "      <td>URTI</td>\n",
       "      <td>2160.00</td>\n",
       "    </tr>\n",
       "    <tr>\n",
       "      <td>4</td>\n",
       "      <td>30</td>\n",
       "      <td>F</td>\n",
       "      <td>RED Individual</td>\n",
       "      <td>CORPORATE</td>\n",
       "      <td>JOY HOSPITAL-LAGOS</td>\n",
       "      <td>1997-12-01</td>\n",
       "      <td>1998-01-04</td>\n",
       "      <td>1998-01-09</td>\n",
       "      <td>Outpatient</td>\n",
       "      <td>PLASMODIASIS</td>\n",
       "      <td>10399.99</td>\n",
       "    </tr>\n",
       "  </tbody>\n",
       "</table>\n",
       "</div>"
      ],
      "text/plain": [
       "   age sex               plan    company       provider_name  \\\n",
       "0   29   M     RED Individual  CORPORATE  JOY HOSPITAL-LAGOS   \n",
       "1   31   F  Yellow Individual  CORPORATE  CHARMAINE HOSPITAL   \n",
       "2   31   F  Yellow Individual  CORPORATE  CHARMAINE HOSPITAL   \n",
       "3   23   M  Yellow Individual  CORPORATE   CILANTRO HOSPITAL   \n",
       "4   30   F     RED Individual  CORPORATE  JOY HOSPITAL-LAGOS   \n",
       "\n",
       "  patient_encounter_date medical_claims_submission_date payment_date  \\\n",
       "0             1997-12-12                     1998-01-02   1998-01-02   \n",
       "1             1997-12-24                     1998-01-02   1998-01-02   \n",
       "2             1997-12-28                     1998-01-02   1998-01-02   \n",
       "3             1997-12-19                     1998-01-03   1998-01-09   \n",
       "4             1997-12-01                     1998-01-04   1998-01-09   \n",
       "\n",
       "  service_type                       diagnosis  total_price  \n",
       "0   Outpatient         ACUTE MALARIA WITH URTI     17000.00  \n",
       "1   Outpatient  LEFT MODERATE TO PROFOUND SNHL     20000.00  \n",
       "2    Inpatient  LEFT MODERATE TO PROFOUND SNHL     15000.00  \n",
       "3   Outpatient                            URTI      2160.00  \n",
       "4   Outpatient                    PLASMODIASIS     10399.99  "
      ]
     },
     "execution_count": 6,
     "metadata": {},
     "output_type": "execute_result"
    }
   ],
   "source": [
    "#Drop unnecessary columns from the dataframe\n",
    "\n",
    "data = data.drop('s/n', axis=1)\n",
    "data.head()"
   ]
  },
  {
   "cell_type": "markdown",
   "metadata": {},
   "source": [
    "## Exploratory Data Analysis"
   ]
  },
  {
   "cell_type": "code",
   "execution_count": 7,
   "metadata": {},
   "outputs": [
    {
     "data": {
      "text/html": [
       "<div>\n",
       "<style scoped>\n",
       "    .dataframe tbody tr th:only-of-type {\n",
       "        vertical-align: middle;\n",
       "    }\n",
       "\n",
       "    .dataframe tbody tr th {\n",
       "        vertical-align: top;\n",
       "    }\n",
       "\n",
       "    .dataframe thead th {\n",
       "        text-align: right;\n",
       "    }\n",
       "</style>\n",
       "<table border=\"1\" class=\"dataframe\">\n",
       "  <thead>\n",
       "    <tr style=\"text-align: right;\">\n",
       "      <th></th>\n",
       "      <th>age</th>\n",
       "      <th>sex</th>\n",
       "      <th>plan</th>\n",
       "      <th>company</th>\n",
       "      <th>provider_name</th>\n",
       "      <th>patient_encounter_date</th>\n",
       "      <th>medical_claims_submission_date</th>\n",
       "      <th>payment_date</th>\n",
       "      <th>service_type</th>\n",
       "      <th>diagnosis</th>\n",
       "      <th>total_price</th>\n",
       "    </tr>\n",
       "  </thead>\n",
       "  <tbody>\n",
       "    <tr>\n",
       "      <td>count</td>\n",
       "      <td>5000.000000</td>\n",
       "      <td>5000</td>\n",
       "      <td>5000</td>\n",
       "      <td>5000</td>\n",
       "      <td>5000</td>\n",
       "      <td>5000</td>\n",
       "      <td>5000</td>\n",
       "      <td>5000</td>\n",
       "      <td>5000</td>\n",
       "      <td>5000</td>\n",
       "      <td>5000.000000</td>\n",
       "    </tr>\n",
       "    <tr>\n",
       "      <td>unique</td>\n",
       "      <td>NaN</td>\n",
       "      <td>2</td>\n",
       "      <td>58</td>\n",
       "      <td>3</td>\n",
       "      <td>302</td>\n",
       "      <td>407</td>\n",
       "      <td>288</td>\n",
       "      <td>133</td>\n",
       "      <td>2</td>\n",
       "      <td>3622</td>\n",
       "      <td>NaN</td>\n",
       "    </tr>\n",
       "    <tr>\n",
       "      <td>top</td>\n",
       "      <td>NaN</td>\n",
       "      <td>M</td>\n",
       "      <td>RED Family</td>\n",
       "      <td>CORPORATE</td>\n",
       "      <td>IGWE HOSPITAL NIG. LTD</td>\n",
       "      <td>1998-10-08 00:00:00</td>\n",
       "      <td>1998-12-06 00:00:00</td>\n",
       "      <td>1998-12-11 00:00:00</td>\n",
       "      <td>Outpatient</td>\n",
       "      <td>MALARIA</td>\n",
       "      <td>NaN</td>\n",
       "    </tr>\n",
       "    <tr>\n",
       "      <td>freq</td>\n",
       "      <td>NaN</td>\n",
       "      <td>2773</td>\n",
       "      <td>1469</td>\n",
       "      <td>2693</td>\n",
       "      <td>175</td>\n",
       "      <td>42</td>\n",
       "      <td>73</td>\n",
       "      <td>166</td>\n",
       "      <td>4662</td>\n",
       "      <td>141</td>\n",
       "      <td>NaN</td>\n",
       "    </tr>\n",
       "    <tr>\n",
       "      <td>first</td>\n",
       "      <td>NaN</td>\n",
       "      <td>NaN</td>\n",
       "      <td>NaN</td>\n",
       "      <td>NaN</td>\n",
       "      <td>NaN</td>\n",
       "      <td>1997-02-18 00:00:00</td>\n",
       "      <td>1997-11-28 00:00:00</td>\n",
       "      <td>1998-01-02 00:00:00</td>\n",
       "      <td>NaN</td>\n",
       "      <td>NaN</td>\n",
       "      <td>NaN</td>\n",
       "    </tr>\n",
       "    <tr>\n",
       "      <td>last</td>\n",
       "      <td>NaN</td>\n",
       "      <td>NaN</td>\n",
       "      <td>NaN</td>\n",
       "      <td>NaN</td>\n",
       "      <td>NaN</td>\n",
       "      <td>1999-02-27 00:00:00</td>\n",
       "      <td>1999-02-27 00:00:00</td>\n",
       "      <td>1999-02-27 00:00:00</td>\n",
       "      <td>NaN</td>\n",
       "      <td>NaN</td>\n",
       "      <td>NaN</td>\n",
       "    </tr>\n",
       "    <tr>\n",
       "      <td>mean</td>\n",
       "      <td>30.460400</td>\n",
       "      <td>NaN</td>\n",
       "      <td>NaN</td>\n",
       "      <td>NaN</td>\n",
       "      <td>NaN</td>\n",
       "      <td>NaN</td>\n",
       "      <td>NaN</td>\n",
       "      <td>NaN</td>\n",
       "      <td>NaN</td>\n",
       "      <td>NaN</td>\n",
       "      <td>9588.575166</td>\n",
       "    </tr>\n",
       "    <tr>\n",
       "      <td>std</td>\n",
       "      <td>15.143365</td>\n",
       "      <td>NaN</td>\n",
       "      <td>NaN</td>\n",
       "      <td>NaN</td>\n",
       "      <td>NaN</td>\n",
       "      <td>NaN</td>\n",
       "      <td>NaN</td>\n",
       "      <td>NaN</td>\n",
       "      <td>NaN</td>\n",
       "      <td>NaN</td>\n",
       "      <td>17933.369188</td>\n",
       "    </tr>\n",
       "    <tr>\n",
       "      <td>min</td>\n",
       "      <td>0.000000</td>\n",
       "      <td>NaN</td>\n",
       "      <td>NaN</td>\n",
       "      <td>NaN</td>\n",
       "      <td>NaN</td>\n",
       "      <td>NaN</td>\n",
       "      <td>NaN</td>\n",
       "      <td>NaN</td>\n",
       "      <td>NaN</td>\n",
       "      <td>NaN</td>\n",
       "      <td>90.000000</td>\n",
       "    </tr>\n",
       "    <tr>\n",
       "      <td>25%</td>\n",
       "      <td>26.000000</td>\n",
       "      <td>NaN</td>\n",
       "      <td>NaN</td>\n",
       "      <td>NaN</td>\n",
       "      <td>NaN</td>\n",
       "      <td>NaN</td>\n",
       "      <td>NaN</td>\n",
       "      <td>NaN</td>\n",
       "      <td>NaN</td>\n",
       "      <td>NaN</td>\n",
       "      <td>3215.000000</td>\n",
       "    </tr>\n",
       "    <tr>\n",
       "      <td>50%</td>\n",
       "      <td>32.000000</td>\n",
       "      <td>NaN</td>\n",
       "      <td>NaN</td>\n",
       "      <td>NaN</td>\n",
       "      <td>NaN</td>\n",
       "      <td>NaN</td>\n",
       "      <td>NaN</td>\n",
       "      <td>NaN</td>\n",
       "      <td>NaN</td>\n",
       "      <td>NaN</td>\n",
       "      <td>5279.200000</td>\n",
       "    </tr>\n",
       "    <tr>\n",
       "      <td>75%</td>\n",
       "      <td>38.000000</td>\n",
       "      <td>NaN</td>\n",
       "      <td>NaN</td>\n",
       "      <td>NaN</td>\n",
       "      <td>NaN</td>\n",
       "      <td>NaN</td>\n",
       "      <td>NaN</td>\n",
       "      <td>NaN</td>\n",
       "      <td>NaN</td>\n",
       "      <td>NaN</td>\n",
       "      <td>9630.000000</td>\n",
       "    </tr>\n",
       "    <tr>\n",
       "      <td>max</td>\n",
       "      <td>134.000000</td>\n",
       "      <td>NaN</td>\n",
       "      <td>NaN</td>\n",
       "      <td>NaN</td>\n",
       "      <td>NaN</td>\n",
       "      <td>NaN</td>\n",
       "      <td>NaN</td>\n",
       "      <td>NaN</td>\n",
       "      <td>NaN</td>\n",
       "      <td>NaN</td>\n",
       "      <td>400000.000000</td>\n",
       "    </tr>\n",
       "  </tbody>\n",
       "</table>\n",
       "</div>"
      ],
      "text/plain": [
       "                age   sex        plan    company           provider_name  \\\n",
       "count   5000.000000  5000        5000       5000                    5000   \n",
       "unique          NaN     2          58          3                     302   \n",
       "top             NaN     M  RED Family  CORPORATE  IGWE HOSPITAL NIG. LTD   \n",
       "freq            NaN  2773        1469       2693                     175   \n",
       "first           NaN   NaN         NaN        NaN                     NaN   \n",
       "last            NaN   NaN         NaN        NaN                     NaN   \n",
       "mean      30.460400   NaN         NaN        NaN                     NaN   \n",
       "std       15.143365   NaN         NaN        NaN                     NaN   \n",
       "min        0.000000   NaN         NaN        NaN                     NaN   \n",
       "25%       26.000000   NaN         NaN        NaN                     NaN   \n",
       "50%       32.000000   NaN         NaN        NaN                     NaN   \n",
       "75%       38.000000   NaN         NaN        NaN                     NaN   \n",
       "max      134.000000   NaN         NaN        NaN                     NaN   \n",
       "\n",
       "       patient_encounter_date medical_claims_submission_date  \\\n",
       "count                    5000                           5000   \n",
       "unique                    407                            288   \n",
       "top       1998-10-08 00:00:00            1998-12-06 00:00:00   \n",
       "freq                       42                             73   \n",
       "first     1997-02-18 00:00:00            1997-11-28 00:00:00   \n",
       "last      1999-02-27 00:00:00            1999-02-27 00:00:00   \n",
       "mean                      NaN                            NaN   \n",
       "std                       NaN                            NaN   \n",
       "min                       NaN                            NaN   \n",
       "25%                       NaN                            NaN   \n",
       "50%                       NaN                            NaN   \n",
       "75%                       NaN                            NaN   \n",
       "max                       NaN                            NaN   \n",
       "\n",
       "               payment_date service_type diagnosis    total_price  \n",
       "count                  5000         5000      5000    5000.000000  \n",
       "unique                  133            2      3622            NaN  \n",
       "top     1998-12-11 00:00:00   Outpatient   MALARIA            NaN  \n",
       "freq                    166         4662       141            NaN  \n",
       "first   1998-01-02 00:00:00          NaN       NaN            NaN  \n",
       "last    1999-02-27 00:00:00          NaN       NaN            NaN  \n",
       "mean                    NaN          NaN       NaN    9588.575166  \n",
       "std                     NaN          NaN       NaN   17933.369188  \n",
       "min                     NaN          NaN       NaN      90.000000  \n",
       "25%                     NaN          NaN       NaN    3215.000000  \n",
       "50%                     NaN          NaN       NaN    5279.200000  \n",
       "75%                     NaN          NaN       NaN    9630.000000  \n",
       "max                     NaN          NaN       NaN  400000.000000  "
      ]
     },
     "execution_count": 7,
     "metadata": {},
     "output_type": "execute_result"
    }
   ],
   "source": [
    "#Descriptive statistics of data using \"describe\"\n",
    "\n",
    "data.describe(include='all')"
   ]
  },
  {
   "cell_type": "markdown",
   "metadata": {},
   "source": [
    "#### Q1: Most Common Retail Plan and distribution"
   ]
  },
  {
   "cell_type": "code",
   "execution_count": 8,
   "metadata": {},
   "outputs": [
    {
     "data": {
      "text/html": [
       "<div>\n",
       "<style scoped>\n",
       "    .dataframe tbody tr th:only-of-type {\n",
       "        vertical-align: middle;\n",
       "    }\n",
       "\n",
       "    .dataframe tbody tr th {\n",
       "        vertical-align: top;\n",
       "    }\n",
       "\n",
       "    .dataframe thead th {\n",
       "        text-align: right;\n",
       "    }\n",
       "</style>\n",
       "<table border=\"1\" class=\"dataframe\">\n",
       "  <thead>\n",
       "    <tr style=\"text-align: right;\">\n",
       "      <th></th>\n",
       "      <th>age</th>\n",
       "      <th>sex</th>\n",
       "      <th>plan</th>\n",
       "      <th>company</th>\n",
       "      <th>provider_name</th>\n",
       "      <th>patient_encounter_date</th>\n",
       "      <th>medical_claims_submission_date</th>\n",
       "      <th>payment_date</th>\n",
       "      <th>service_type</th>\n",
       "      <th>diagnosis</th>\n",
       "      <th>total_price</th>\n",
       "    </tr>\n",
       "  </thead>\n",
       "  <tbody>\n",
       "    <tr>\n",
       "      <td>0</td>\n",
       "      <td>23</td>\n",
       "      <td>M</td>\n",
       "      <td>RED Individual</td>\n",
       "      <td>RETAIL</td>\n",
       "      <td>SHAKIRAT  HOSPITAL - EGBEDA</td>\n",
       "      <td>1998-02-04</td>\n",
       "      <td>1998-02-16</td>\n",
       "      <td>1998-02-21</td>\n",
       "      <td>Outpatient</td>\n",
       "      <td>Plasmodiasis R/O Enteric Fever,Gastro oesphagu...</td>\n",
       "      <td>5143.80</td>\n",
       "    </tr>\n",
       "    <tr>\n",
       "      <td>1</td>\n",
       "      <td>30</td>\n",
       "      <td>M</td>\n",
       "      <td>Yellow Individual</td>\n",
       "      <td>RETAIL</td>\n",
       "      <td>RECOVERY MEDICAL SERVICES LTD</td>\n",
       "      <td>1998-02-06</td>\n",
       "      <td>1998-02-21</td>\n",
       "      <td>1998-02-21</td>\n",
       "      <td>Outpatient</td>\n",
       "      <td>HEADACHE AND SINUSITIS</td>\n",
       "      <td>18580.00</td>\n",
       "    </tr>\n",
       "    <tr>\n",
       "      <td>2</td>\n",
       "      <td>3</td>\n",
       "      <td>M</td>\n",
       "      <td>RED Individual</td>\n",
       "      <td>RETAIL</td>\n",
       "      <td>SOLUTIONS SPECIALIST HOSPITAL</td>\n",
       "      <td>1998-02-21</td>\n",
       "      <td>1998-02-22</td>\n",
       "      <td>1998-02-22</td>\n",
       "      <td>Outpatient</td>\n",
       "      <td>Acute  tonsillitis , severe malaria + urti</td>\n",
       "      <td>4834.95</td>\n",
       "    </tr>\n",
       "    <tr>\n",
       "      <td>3</td>\n",
       "      <td>28</td>\n",
       "      <td>M</td>\n",
       "      <td>RED Individual</td>\n",
       "      <td>RETAIL</td>\n",
       "      <td>HONEY  HOSPITAL</td>\n",
       "      <td>1998-02-26</td>\n",
       "      <td>1998-02-26</td>\n",
       "      <td>1998-03-03</td>\n",
       "      <td>Outpatient</td>\n",
       "      <td>Dermatitis</td>\n",
       "      <td>2300.00</td>\n",
       "    </tr>\n",
       "    <tr>\n",
       "      <td>4</td>\n",
       "      <td>7</td>\n",
       "      <td>F</td>\n",
       "      <td>Yellow Individual</td>\n",
       "      <td>RETAIL</td>\n",
       "      <td>HOSANNA  CHILDREN'S HOSPITAL- OKOTA</td>\n",
       "      <td>1998-02-20</td>\n",
       "      <td>1998-03-01</td>\n",
       "      <td>1998-03-03</td>\n",
       "      <td>Outpatient</td>\n",
       "      <td>FOREIGN BODY IN THROAT</td>\n",
       "      <td>4375.00</td>\n",
       "    </tr>\n",
       "  </tbody>\n",
       "</table>\n",
       "</div>"
      ],
      "text/plain": [
       "   age sex               plan company                        provider_name  \\\n",
       "0   23   M     RED Individual  RETAIL          SHAKIRAT  HOSPITAL - EGBEDA   \n",
       "1   30   M  Yellow Individual  RETAIL        RECOVERY MEDICAL SERVICES LTD   \n",
       "2    3   M     RED Individual  RETAIL        SOLUTIONS SPECIALIST HOSPITAL   \n",
       "3   28   M     RED Individual  RETAIL                      HONEY  HOSPITAL   \n",
       "4    7   F  Yellow Individual  RETAIL  HOSANNA  CHILDREN'S HOSPITAL- OKOTA   \n",
       "\n",
       "  patient_encounter_date medical_claims_submission_date payment_date  \\\n",
       "0             1998-02-04                     1998-02-16   1998-02-21   \n",
       "1             1998-02-06                     1998-02-21   1998-02-21   \n",
       "2             1998-02-21                     1998-02-22   1998-02-22   \n",
       "3             1998-02-26                     1998-02-26   1998-03-03   \n",
       "4             1998-02-20                     1998-03-01   1998-03-03   \n",
       "\n",
       "  service_type                                          diagnosis  total_price  \n",
       "0   Outpatient  Plasmodiasis R/O Enteric Fever,Gastro oesphagu...      5143.80  \n",
       "1   Outpatient                             HEADACHE AND SINUSITIS     18580.00  \n",
       "2   Outpatient         Acute  tonsillitis , severe malaria + urti      4834.95  \n",
       "3   Outpatient                                         Dermatitis      2300.00  \n",
       "4   Outpatient                             FOREIGN BODY IN THROAT      4375.00  "
      ]
     },
     "execution_count": 8,
     "metadata": {},
     "output_type": "execute_result"
    }
   ],
   "source": [
    "#Reatil Users df\n",
    "\n",
    "retail_df = data[data['company'] == 'RETAIL'].copy()\n",
    "retail_df.reset_index(drop=True).head()"
   ]
  },
  {
   "cell_type": "code",
   "execution_count": 9,
   "metadata": {},
   "outputs": [
    {
     "data": {
      "text/plain": [
       "RED Individual       611\n",
       "Yellow Individual    404\n",
       "Name: plan, dtype: int64"
      ]
     },
     "execution_count": 9,
     "metadata": {},
     "output_type": "execute_result"
    }
   ],
   "source": [
    "#Understanding the most common plan among retail users\n",
    "\n",
    "retail_df.plan.value_counts()"
   ]
  },
  {
   "cell_type": "markdown",
   "metadata": {},
   "source": [
    "The RED Individual appears to be most common among retail subscribers. We then go ahead to see its ditribution among the groups- Age and Sex"
   ]
  },
  {
   "cell_type": "code",
   "execution_count": 10,
   "metadata": {},
   "outputs": [
    {
     "data": {
      "text/html": [
       "<div>\n",
       "<style scoped>\n",
       "    .dataframe tbody tr th:only-of-type {\n",
       "        vertical-align: middle;\n",
       "    }\n",
       "\n",
       "    .dataframe tbody tr th {\n",
       "        vertical-align: top;\n",
       "    }\n",
       "\n",
       "    .dataframe thead th {\n",
       "        text-align: right;\n",
       "    }\n",
       "</style>\n",
       "<table border=\"1\" class=\"dataframe\">\n",
       "  <thead>\n",
       "    <tr style=\"text-align: right;\">\n",
       "      <th>sex</th>\n",
       "      <th>F</th>\n",
       "      <th>M</th>\n",
       "    </tr>\n",
       "    <tr>\n",
       "      <th>age</th>\n",
       "      <th></th>\n",
       "      <th></th>\n",
       "    </tr>\n",
       "  </thead>\n",
       "  <tbody>\n",
       "    <tr>\n",
       "      <td>1</td>\n",
       "      <td>0</td>\n",
       "      <td>3</td>\n",
       "    </tr>\n",
       "    <tr>\n",
       "      <td>2</td>\n",
       "      <td>21</td>\n",
       "      <td>11</td>\n",
       "    </tr>\n",
       "    <tr>\n",
       "      <td>3</td>\n",
       "      <td>10</td>\n",
       "      <td>16</td>\n",
       "    </tr>\n",
       "    <tr>\n",
       "      <td>4</td>\n",
       "      <td>7</td>\n",
       "      <td>9</td>\n",
       "    </tr>\n",
       "    <tr>\n",
       "      <td>5</td>\n",
       "      <td>6</td>\n",
       "      <td>7</td>\n",
       "    </tr>\n",
       "  </tbody>\n",
       "</table>\n",
       "</div>"
      ],
      "text/plain": [
       "sex   F   M\n",
       "age        \n",
       "1     0   3\n",
       "2    21  11\n",
       "3    10  16\n",
       "4     7   9\n",
       "5     6   7"
      ]
     },
     "execution_count": 10,
     "metadata": {},
     "output_type": "execute_result"
    }
   ],
   "source": [
    "#Distribution of the most common Retail Plan between Age and Sex\n",
    "\n",
    "retail_mode = retail_df[retail_df['plan']=='RED Individual'].copy()\n",
    "\n",
    "#grouping the data by Age and Sex\n",
    "retail_mode_grp = retail_mode.groupby(by=['age','sex'])['plan'].size()\n",
    "\n",
    "red_plan = retail_mode_grp.unstack(fill_value=0)\n",
    "red_plan.head()"
   ]
  },
  {
   "cell_type": "code",
   "execution_count": 11,
   "metadata": {},
   "outputs": [
    {
     "data": {
      "image/png": "[encoded data removed]",
      "text/plain": [
       "<Figure size 1152x576 with 1 Axes>"
      ]
     },
     "metadata": {
      "needs_background": "light"
     },
     "output_type": "display_data"
    }
   ],
   "source": [
    "#Visual display of the variation of RED_Individual Plan between groups- Age and Sex\n",
    "\n",
    "red_plan.plot(kind='bar', stacked=True, figsize=(16,8))\n",
    "plt.title(\"Distribution of RED_Individual Plan by Age and Sex\", size=15)\n",
    "plt.xlabel('Age', size=12)\n",
    "plt.ylabel('Number of plans', size=12)\n",
    "plt.grid(which='major', axis='y')"
   ]
  },
  {
   "cell_type": "markdown",
   "metadata": {},
   "source": [
    "#### Q2: Relationship Between Total_Price, Plan and Provider "
   ]
  },
  {
   "cell_type": "code",
   "execution_count": 12,
   "metadata": {},
   "outputs": [
    {
     "data": {
      "text/html": [
       "<div>\n",
       "<style scoped>\n",
       "    .dataframe tbody tr th:only-of-type {\n",
       "        vertical-align: middle;\n",
       "    }\n",
       "\n",
       "    .dataframe tbody tr th {\n",
       "        vertical-align: top;\n",
       "    }\n",
       "\n",
       "    .dataframe thead th {\n",
       "        text-align: right;\n",
       "    }\n",
       "</style>\n",
       "<table border=\"1\" class=\"dataframe\">\n",
       "  <thead>\n",
       "    <tr style=\"text-align: right;\">\n",
       "      <th></th>\n",
       "      <th>plan</th>\n",
       "      <th>provider_name</th>\n",
       "      <th>total_price</th>\n",
       "    </tr>\n",
       "  </thead>\n",
       "  <tbody>\n",
       "    <tr>\n",
       "      <td>0</td>\n",
       "      <td>RED Individual</td>\n",
       "      <td>JOY HOSPITAL-LAGOS</td>\n",
       "      <td>17000.00</td>\n",
       "    </tr>\n",
       "    <tr>\n",
       "      <td>1</td>\n",
       "      <td>Yellow Individual</td>\n",
       "      <td>CHARMAINE HOSPITAL</td>\n",
       "      <td>20000.00</td>\n",
       "    </tr>\n",
       "    <tr>\n",
       "      <td>2</td>\n",
       "      <td>Yellow Individual</td>\n",
       "      <td>CHARMAINE HOSPITAL</td>\n",
       "      <td>15000.00</td>\n",
       "    </tr>\n",
       "    <tr>\n",
       "      <td>3</td>\n",
       "      <td>Yellow Individual</td>\n",
       "      <td>CILANTRO HOSPITAL</td>\n",
       "      <td>2160.00</td>\n",
       "    </tr>\n",
       "    <tr>\n",
       "      <td>4</td>\n",
       "      <td>RED Individual</td>\n",
       "      <td>JOY HOSPITAL-LAGOS</td>\n",
       "      <td>10399.99</td>\n",
       "    </tr>\n",
       "  </tbody>\n",
       "</table>\n",
       "</div>"
      ],
      "text/plain": [
       "                plan       provider_name  total_price\n",
       "0     RED Individual  JOY HOSPITAL-LAGOS     17000.00\n",
       "1  Yellow Individual  CHARMAINE HOSPITAL     20000.00\n",
       "2  Yellow Individual  CHARMAINE HOSPITAL     15000.00\n",
       "3  Yellow Individual   CILANTRO HOSPITAL      2160.00\n",
       "4     RED Individual  JOY HOSPITAL-LAGOS     10399.99"
      ]
     },
     "execution_count": 12,
     "metadata": {},
     "output_type": "execute_result"
    }
   ],
   "source": [
    "# Create a new dataframe with three features, plan, provider_name and total_price\n",
    "relate_ppp = data[['plan', 'provider_name', 'total_price']].copy()\n",
    "relate_ppp.head()"
   ]
  },
  {
   "cell_type": "code",
   "execution_count": 13,
   "metadata": {},
   "outputs": [
    {
     "name": "stdout",
     "output_type": "stream",
     "text": [
      "There are 302 different unique Service Providers in our dataset \n",
      "\n",
      "There are 58 different unique Plans that we offer\n"
     ]
    }
   ],
   "source": [
    "print('There are {} different unique Service Providers in our dataset \\n'.format(relate_ppp.provider_name.value_counts().count()))\n",
    "print('There are {} different unique Plans that we offer'.format(relate_ppp.plan.value_counts().count()))"
   ]
  },
  {
   "cell_type": "markdown",
   "metadata": {},
   "source": [
    "To find the relationship between these features plan, provider and total price, we will transform the categorical features into numerical values"
   ]
  },
  {
   "cell_type": "code",
   "execution_count": 14,
   "metadata": {},
   "outputs": [],
   "source": [
    "# First, convert to categorical dtype and export to list\n",
    "plan_label = relate_ppp['plan'].astype('category').cat.categories.tolist()\n",
    "provider_label =  relate_ppp['provider_name'].astype('category').cat.categories.tolist()"
   ]
  },
  {
   "cell_type": "code",
   "execution_count": 17,
   "metadata": {},
   "outputs": [],
   "source": [
    "# Create a dictionary as the replacement parameter\n",
    "plan_repl = {'plan':{k:v for k,v in zip(plan_label, list(range(1, len(plan_label)+1 )))}}\n",
    "provider_repl = {'provider_name':{k:v for k,v in zip(provider_label, list(range(1, len(provider_label)+1 )))}}"
   ]
  },
  {
   "cell_type": "code",
   "execution_count": 18,
   "metadata": {},
   "outputs": [],
   "source": [
    "#I will be making use of the \"Replace\" method to achieve my objective\n",
    "relate_ppp_new = relate_ppp.copy()"
   ]
  },
  {
   "cell_type": "code",
   "execution_count": 19,
   "metadata": {},
   "outputs": [
    {
     "name": "stdout",
     "output_type": "stream",
     "text": [
      "   plan  provider_name  total_price\n",
      "0    43            131     17000.00\n",
      "1    57             47     20000.00\n",
      "2    57             47     15000.00\n",
      "3    57             50      2160.00\n",
      "4    43            131     10399.99\n"
     ]
    }
   ],
   "source": [
    "relate_ppp_new.replace(plan_repl, inplace=True)\n",
    "relate_ppp_new.replace(provider_repl, inplace=True)\n",
    "\n",
    "print(relate_ppp_new.head())"
   ]
  },
  {
   "cell_type": "code",
   "execution_count": 20,
   "metadata": {},
   "outputs": [
    {
     "data": {
      "text/html": [
       "<div>\n",
       "<style scoped>\n",
       "    .dataframe tbody tr th:only-of-type {\n",
       "        vertical-align: middle;\n",
       "    }\n",
       "\n",
       "    .dataframe tbody tr th {\n",
       "        vertical-align: top;\n",
       "    }\n",
       "\n",
       "    .dataframe thead th {\n",
       "        text-align: right;\n",
       "    }\n",
       "</style>\n",
       "<table border=\"1\" class=\"dataframe\">\n",
       "  <thead>\n",
       "    <tr style=\"text-align: right;\">\n",
       "      <th></th>\n",
       "      <th>plan</th>\n",
       "      <th>provider_name</th>\n",
       "      <th>total_price</th>\n",
       "    </tr>\n",
       "  </thead>\n",
       "  <tbody>\n",
       "    <tr>\n",
       "      <td>plan</td>\n",
       "      <td>1.000000</td>\n",
       "      <td>-0.106094</td>\n",
       "      <td>-0.097464</td>\n",
       "    </tr>\n",
       "    <tr>\n",
       "      <td>provider_name</td>\n",
       "      <td>-0.106094</td>\n",
       "      <td>1.000000</td>\n",
       "      <td>0.028224</td>\n",
       "    </tr>\n",
       "    <tr>\n",
       "      <td>total_price</td>\n",
       "      <td>-0.097464</td>\n",
       "      <td>0.028224</td>\n",
       "      <td>1.000000</td>\n",
       "    </tr>\n",
       "  </tbody>\n",
       "</table>\n",
       "</div>"
      ],
      "text/plain": [
       "                   plan  provider_name  total_price\n",
       "plan           1.000000      -0.106094    -0.097464\n",
       "provider_name -0.106094       1.000000     0.028224\n",
       "total_price   -0.097464       0.028224     1.000000"
      ]
     },
     "execution_count": 20,
     "metadata": {},
     "output_type": "execute_result"
    }
   ],
   "source": [
    "#Evaluate Pearson's correlation between Features of Plan, Provider and Total Price\n",
    "relate_ppp_new.corr()"
   ]
  },
  {
   "cell_type": "markdown",
   "metadata": {},
   "source": [
    "There is a low positive correlation between Total Price and Provider, 0.028224\n",
    "while\n",
    "There is a low negative correlation between Total Price and Plan,  -0.097464"
   ]
  },
  {
   "cell_type": "code",
   "execution_count": 21,
   "metadata": {},
   "outputs": [
    {
     "name": "stdout",
     "output_type": "stream",
     "text": [
      "The Pearson Correlation Coefficient between Plan and Total Price is -0.09746433061161174  with a P-value of P = 4.96779947662878e-12\n"
     ]
    }
   ],
   "source": [
    "# Now, let's test for the significance of these correlations using p-value from stats\n",
    "\n",
    "pearson_coef, pval = stats.pearsonr(relate_ppp_new['plan'], relate_ppp_new['total_price'])\n",
    "print(\"The Pearson Correlation Coefficient between Plan and Total Price is\", pearson_coef, \n",
    "      \" with a P-value of P =\", pval) "
   ]
  },
  {
   "cell_type": "code",
   "execution_count": 22,
   "metadata": {},
   "outputs": [
    {
     "name": "stdout",
     "output_type": "stream",
     "text": [
      "The Pearson Correlation Coefficient between Provider and Total Price is 0.02822426872088471  with a P-value of P = 0.045971409726753225\n"
     ]
    }
   ],
   "source": [
    "pearson_coef, pval = stats.pearsonr(relate_ppp_new['provider_name'], relate_ppp_new['total_price'])\n",
    "print(\"The Pearson Correlation Coefficient between Provider and Total Price is\", pearson_coef, \n",
    "      \" with a P-value of P =\", pval) "
   ]
  },
  {
   "cell_type": "code",
   "execution_count": 23,
   "metadata": {},
   "outputs": [
    {
     "name": "stdout",
     "output_type": "stream",
     "text": [
      "The Pearson Correlation Coefficient between Provider and Plan is -0.10609435087064517  with a P-value of P = 5.4208037815818255e-14\n"
     ]
    }
   ],
   "source": [
    "pearson_coef, pval = stats.pearsonr(relate_ppp_new['provider_name'], relate_ppp_new['plan'])\n",
    "print(\"The Pearson Correlation Coefficient between Provider and Plan is\", pearson_coef, \n",
    "      \" with a P-value of P =\", pval) "
   ]
  },
  {
   "cell_type": "markdown",
   "metadata": {},
   "source": [
    "From the above\n",
    "<ul>\n",
    "    <li>p-value for Plan-Total_price is $<$ 0.001, ie 4.96779947662878e-12: there is strong evidence that the correlation is significant.</li>\n",
    "</ul>\n",
    "\n",
    "<ul>\n",
    "    <li>p-value for Provider-Total_price is $<$ 0.05, ie 0.045971409726753225: there is moderate evidence that the correlation is significant.</li>\n",
    "</ul>\n",
    "\n",
    "<ul>\n",
    "    <li>p-value for Plan-Provider is $<$ 0.001, ie 5.4208037815818255e-14: there is strong evidence that the correlation is significant.</li>\n",
    "</ul>"
   ]
  },
  {
   "cell_type": "markdown",
   "metadata": {},
   "source": [
    "<b/>Visual representation of relationships between Plan, Provider and Total Price"
   ]
  },
  {
   "cell_type": "code",
   "execution_count": 24,
   "metadata": {},
   "outputs": [
    {
     "data": {
      "text/plain": [
       "Text(0, 0.5, 'Total price')"
      ]
     },
     "execution_count": 24,
     "metadata": {},
     "output_type": "execute_result"
    },
    {
     "data": {
      "image/png": "[encoded data removed]",
      "text/plain": [
       "<Figure size 576x432 with 1 Axes>"
      ]
     },
     "metadata": {
      "needs_background": "light"
     },
     "output_type": "display_data"
    }
   ],
   "source": [
    "plt.figure(figsize=(8,6))\n",
    "sns.regplot(x='plan', y='total_price', data=relate_ppp_new, marker='.')\n",
    "plt.title('Plan vs Totoal Price', size=15)\n",
    "plt.xlabel('Plan', size=12)\n",
    "plt.ylabel('Total price', size=12)"
   ]
  },
  {
   "cell_type": "code",
   "execution_count": 25,
   "metadata": {},
   "outputs": [
    {
     "data": {
      "text/plain": [
       "Text(0, 0.5, 'Total price')"
      ]
     },
     "execution_count": 25,
     "metadata": {},
     "output_type": "execute_result"
    },
    {
     "data": {
      "image/png": "[encoded data removed]",
      "text/plain": [
       "<Figure size 576x432 with 1 Axes>"
      ]
     },
     "metadata": {
      "needs_background": "light"
     },
     "output_type": "display_data"
    }
   ],
   "source": [
    "plt.figure(figsize=(8,6))\n",
    "sns.regplot(x='provider_name', y='total_price', data=relate_ppp_new, marker='.')\n",
    "plt.title('Provider vs Total Price', size=15)\n",
    "plt.xlabel('Provider', size=12)\n",
    "plt.ylabel('Total price', size=12)"
   ]
  },
  {
   "cell_type": "code",
   "execution_count": 26,
   "metadata": {},
   "outputs": [
    {
     "data": {
      "text/plain": [
       "plan\n",
       "Yellow FAMILY OF 4                    496214.10\n",
       "GREEN Family (1 spouse, 1 child)      601401.50\n",
       "BLUE Individual                       663896.71\n",
       "MALTA RED PLAN (Family)               809810.34\n",
       "Yellow Family                        1701635.67\n",
       "GREEN Individual                     3403354.92\n",
       "Yellow Individual                    6644136.89\n",
       "GREEN Family                         8369846.52\n",
       "RED Individual                       9495551.61\n",
       "RED Family                          11240310.07\n",
       "Name: total_price, dtype: float64"
      ]
     },
     "execution_count": 26,
     "metadata": {},
     "output_type": "execute_result"
    }
   ],
   "source": [
    "#Top performing plans\n",
    "top_ten_plans = relate_ppp.groupby(by='plan')['total_price'].sum().sort_values()[-10:]\n",
    "\n",
    "top_ten_plans"
   ]
  },
  {
   "cell_type": "code",
   "execution_count": 27,
   "metadata": {},
   "outputs": [
    {
     "data": {
      "image/png": "[encoded data removed]",
      "text/plain": [
       "<Figure size 864x576 with 1 Axes>"
      ]
     },
     "metadata": {
      "needs_background": "light"
     },
     "output_type": "display_data"
    }
   ],
   "source": [
    "plt.figure(figsize=(12,8))\n",
    "top_ten_plans.plot(kind='barh', color='green')\n",
    "plt.title('Total Sum contribution by Plan', size=20)\n",
    "plt.xticks(ticks=[0.2e7,0.4e7,0.6e7,0.8e7,1e7], labels=['2M', '4M', '6M', '8M', '10M'], size=12)\n",
    "plt.ylabel('Plans', size=15)\n",
    "plt.xlabel('Total Price', size=15)\n",
    "plt.grid(axis='x', which='major')"
   ]
  },
  {
   "cell_type": "code",
   "execution_count": 28,
   "metadata": {},
   "outputs": [
    {
     "data": {
      "text/plain": [
       "provider_name\n",
       "KEZIAH HOSPITAL                     908698.85\n",
       "LEILA CHILDREN HOSPITAL             987270.00\n",
       "URSULA HOSPITAL LIMITED             996455.50\n",
       "WELLNESS CLINICS                   1123538.00\n",
       "LEILA CHILDREN HOSPITAL - LEKKI    1125497.50\n",
       "IGWE HOSPITAL NIG. LTD             1135886.25\n",
       "SPARKLE SPECIALIST HOSPITAL        1313285.77\n",
       "RIBENA  HOSPITAL                   1319355.20\n",
       "STAGE HEALTH                       1403366.12\n",
       "CHARMAINE HOSPITAL                 1471730.00\n",
       "Name: total_price, dtype: float64"
      ]
     },
     "execution_count": 28,
     "metadata": {},
     "output_type": "execute_result"
    }
   ],
   "source": [
    "# Top providers by sum total price\n",
    "top_ten_providers_price = relate_ppp.groupby(by='provider_name')['total_price'].sum().sort_values()[-10:]\n",
    "\n",
    "top_ten_providers_price"
   ]
  },
  {
   "cell_type": "code",
   "execution_count": 29,
   "metadata": {},
   "outputs": [
    {
     "data": {
      "image/png": "[encoded data removed]",
      "text/plain": [
       "<Figure size 864x576 with 1 Axes>"
      ]
     },
     "metadata": {
      "needs_background": "light"
     },
     "output_type": "display_data"
    }
   ],
   "source": [
    "plt.figure(figsize=(12,8))\n",
    "top_ten_providers_price.plot(kind='barh', color='blue')\n",
    "plt.title('Total Sum contribution by Providers', size=20)\n",
    "plt.xticks(ticks=[0.2e6,0.4e6,0.6e6,0.8e6,1e6,1.2e6,1.4e6], labels=['200k', '400k', '600k', '800k', '1M','1.2M','1.4M'], size=12)\n",
    "plt.ylabel('Providers', size=15)\n",
    "plt.xlabel('Total Price', size=15)\n",
    "plt.grid(axis='x', which='major')"
   ]
  },
  {
   "cell_type": "code",
   "execution_count": 30,
   "metadata": {},
   "outputs": [
    {
     "data": {
      "text/plain": [
       "MORTAL HOSPITAL                    94\n",
       "LILAC  HOSPITAL                    95\n",
       "SEYCHELLES GYM                    105\n",
       "SPIRIT HOSPITAL                   105\n",
       "JOEY HOSPITAL                     107\n",
       "LOYOLA SPECIALIST HOSPITAL        111\n",
       "ORCHID HOSPITALS                  113\n",
       "RAMORAY HOSPITAL AND MATERNITY    118\n",
       "SPARKLE SPECIALIST HOSPITAL       151\n",
       "IGWE HOSPITAL NIG. LTD            175\n",
       "Name: provider_name, dtype: int64"
      ]
     },
     "execution_count": 30,
     "metadata": {},
     "output_type": "execute_result"
    }
   ],
   "source": [
    "# Top most popular providers\n",
    "top_ten_providers = relate_ppp['provider_name'].value_counts().sort_values()[-10:]\n",
    "\n",
    "top_ten_providers"
   ]
  },
  {
   "cell_type": "code",
   "execution_count": 31,
   "metadata": {},
   "outputs": [
    {
     "data": {
      "image/png": "[encoded data removed]",
      "text/plain": [
       "<Figure size 864x576 with 1 Axes>"
      ]
     },
     "metadata": {
      "needs_background": "light"
     },
     "output_type": "display_data"
    }
   ],
   "source": [
    "plt.figure(figsize=(12,8))\n",
    "top_ten_providers.plot(kind='barh', color='red')\n",
    "plt.title('Most popular Providers by Occurence', size=20)\n",
    "#plt.xticks(ticks=[0.2e6,0.4e6,0.6e6,0.8e6,1e6,1.2e6,1.4e6], labels=['200k', '400k', '600k', '800k', '1M','1.2M','1.4M'], size=12)\n",
    "plt.ylabel('Providers', size=15)\n",
    "plt.xlabel('Number of claims', size=15)\n",
    "plt.grid(axis='x', which='major')"
   ]
  },
  {
   "cell_type": "code",
   "execution_count": 32,
   "metadata": {},
   "outputs": [
    {
     "name": "stdout",
     "output_type": "stream",
     "text": [
      "RED Family           1469\n",
      "RED Individual       1365\n",
      "Yellow Individual     580\n",
      "GREEN Family          412\n",
      "GREEN Individual      331\n",
      "Name: plan, dtype: int64\n"
     ]
    }
   ],
   "source": [
    "#Frequency distribution of each plan\n",
    "print(relate_ppp.plan.value_counts().head())"
   ]
  },
  {
   "cell_type": "code",
   "execution_count": 33,
   "metadata": {},
   "outputs": [
    {
     "data": {
      "text/plain": [
       "Text(0, 0.5, 'Total Price')"
      ]
     },
     "execution_count": 33,
     "metadata": {},
     "output_type": "execute_result"
    },
    {
     "data": {
      "image/png": "[encoded data removed]",
      "text/plain": [
       "<Figure size 1008x432 with 1 Axes>"
      ]
     },
     "metadata": {
      "needs_background": "light"
     },
     "output_type": "display_data"
    }
   ],
   "source": [
    "fig, ax1= plt.subplots(figsize=(14,6))\n",
    "sns.boxplot(x='plan', y='total_price', data=relate_ppp_new, ax=ax1)\n",
    "plt.title(\"A Boxplot of Plan against Total Price\", size= 20)\n",
    "plt.xticks(rotation=90)\n",
    "plt.xlabel('Plan', size=15)\n",
    "plt.ylabel('Total Price', size=15)"
   ]
  },
  {
   "cell_type": "markdown",
   "metadata": {},
   "source": [
    "#### Q3. Relationship between Submission Gap and Diagnosis"
   ]
  },
  {
   "cell_type": "code",
   "execution_count": 34,
   "metadata": {},
   "outputs": [
    {
     "data": {
      "text/html": [
       "<div>\n",
       "<style scoped>\n",
       "    .dataframe tbody tr th:only-of-type {\n",
       "        vertical-align: middle;\n",
       "    }\n",
       "\n",
       "    .dataframe tbody tr th {\n",
       "        vertical-align: top;\n",
       "    }\n",
       "\n",
       "    .dataframe thead th {\n",
       "        text-align: right;\n",
       "    }\n",
       "</style>\n",
       "<table border=\"1\" class=\"dataframe\">\n",
       "  <thead>\n",
       "    <tr style=\"text-align: right;\">\n",
       "      <th></th>\n",
       "      <th>age</th>\n",
       "      <th>sex</th>\n",
       "      <th>plan</th>\n",
       "      <th>company</th>\n",
       "      <th>provider_name</th>\n",
       "      <th>patient_encounter_date</th>\n",
       "      <th>medical_claims_submission_date</th>\n",
       "      <th>payment_date</th>\n",
       "      <th>service_type</th>\n",
       "      <th>diagnosis</th>\n",
       "      <th>total_price</th>\n",
       "      <th>submission_gap</th>\n",
       "    </tr>\n",
       "  </thead>\n",
       "  <tbody>\n",
       "    <tr>\n",
       "      <td>0</td>\n",
       "      <td>29</td>\n",
       "      <td>M</td>\n",
       "      <td>RED Individual</td>\n",
       "      <td>CORPORATE</td>\n",
       "      <td>JOY HOSPITAL-LAGOS</td>\n",
       "      <td>1997-12-12</td>\n",
       "      <td>1998-01-02</td>\n",
       "      <td>1998-01-02</td>\n",
       "      <td>Outpatient</td>\n",
       "      <td>ACUTE MALARIA WITH URTI</td>\n",
       "      <td>17000.00</td>\n",
       "      <td>21 days</td>\n",
       "    </tr>\n",
       "    <tr>\n",
       "      <td>1</td>\n",
       "      <td>31</td>\n",
       "      <td>F</td>\n",
       "      <td>Yellow Individual</td>\n",
       "      <td>CORPORATE</td>\n",
       "      <td>CHARMAINE HOSPITAL</td>\n",
       "      <td>1997-12-24</td>\n",
       "      <td>1998-01-02</td>\n",
       "      <td>1998-01-02</td>\n",
       "      <td>Outpatient</td>\n",
       "      <td>LEFT MODERATE TO PROFOUND SNHL</td>\n",
       "      <td>20000.00</td>\n",
       "      <td>9 days</td>\n",
       "    </tr>\n",
       "    <tr>\n",
       "      <td>2</td>\n",
       "      <td>31</td>\n",
       "      <td>F</td>\n",
       "      <td>Yellow Individual</td>\n",
       "      <td>CORPORATE</td>\n",
       "      <td>CHARMAINE HOSPITAL</td>\n",
       "      <td>1997-12-28</td>\n",
       "      <td>1998-01-02</td>\n",
       "      <td>1998-01-02</td>\n",
       "      <td>Inpatient</td>\n",
       "      <td>LEFT MODERATE TO PROFOUND SNHL</td>\n",
       "      <td>15000.00</td>\n",
       "      <td>5 days</td>\n",
       "    </tr>\n",
       "    <tr>\n",
       "      <td>3</td>\n",
       "      <td>23</td>\n",
       "      <td>M</td>\n",
       "      <td>Yellow Individual</td>\n",
       "      <td>CORPORATE</td>\n",
       "      <td>CILANTRO HOSPITAL</td>\n",
       "      <td>1997-12-19</td>\n",
       "      <td>1998-01-03</td>\n",
       "      <td>1998-01-09</td>\n",
       "      <td>Outpatient</td>\n",
       "      <td>URTI</td>\n",
       "      <td>2160.00</td>\n",
       "      <td>15 days</td>\n",
       "    </tr>\n",
       "    <tr>\n",
       "      <td>4</td>\n",
       "      <td>30</td>\n",
       "      <td>F</td>\n",
       "      <td>RED Individual</td>\n",
       "      <td>CORPORATE</td>\n",
       "      <td>JOY HOSPITAL-LAGOS</td>\n",
       "      <td>1997-12-01</td>\n",
       "      <td>1998-01-04</td>\n",
       "      <td>1998-01-09</td>\n",
       "      <td>Outpatient</td>\n",
       "      <td>PLASMODIASIS</td>\n",
       "      <td>10399.99</td>\n",
       "      <td>34 days</td>\n",
       "    </tr>\n",
       "  </tbody>\n",
       "</table>\n",
       "</div>"
      ],
      "text/plain": [
       "   age sex               plan    company       provider_name  \\\n",
       "0   29   M     RED Individual  CORPORATE  JOY HOSPITAL-LAGOS   \n",
       "1   31   F  Yellow Individual  CORPORATE  CHARMAINE HOSPITAL   \n",
       "2   31   F  Yellow Individual  CORPORATE  CHARMAINE HOSPITAL   \n",
       "3   23   M  Yellow Individual  CORPORATE   CILANTRO HOSPITAL   \n",
       "4   30   F     RED Individual  CORPORATE  JOY HOSPITAL-LAGOS   \n",
       "\n",
       "  patient_encounter_date medical_claims_submission_date payment_date  \\\n",
       "0             1997-12-12                     1998-01-02   1998-01-02   \n",
       "1             1997-12-24                     1998-01-02   1998-01-02   \n",
       "2             1997-12-28                     1998-01-02   1998-01-02   \n",
       "3             1997-12-19                     1998-01-03   1998-01-09   \n",
       "4             1997-12-01                     1998-01-04   1998-01-09   \n",
       "\n",
       "  service_type                       diagnosis  total_price submission_gap  \n",
       "0   Outpatient         ACUTE MALARIA WITH URTI     17000.00        21 days  \n",
       "1   Outpatient  LEFT MODERATE TO PROFOUND SNHL     20000.00         9 days  \n",
       "2    Inpatient  LEFT MODERATE TO PROFOUND SNHL     15000.00         5 days  \n",
       "3   Outpatient                            URTI      2160.00        15 days  \n",
       "4   Outpatient                    PLASMODIASIS     10399.99        34 days  "
      ]
     },
     "execution_count": 34,
     "metadata": {},
     "output_type": "execute_result"
    }
   ],
   "source": [
    "sub_gap = data.copy()\n",
    "sub_gap['submission_gap'] = sub_gap['medical_claims_submission_date'] - sub_gap['patient_encounter_date']\n",
    "\n",
    "sub_gap.head()"
   ]
  },
  {
   "cell_type": "code",
   "execution_count": 35,
   "metadata": {},
   "outputs": [
    {
     "data": {
      "text/html": [
       "<div>\n",
       "<style scoped>\n",
       "    .dataframe tbody tr th:only-of-type {\n",
       "        vertical-align: middle;\n",
       "    }\n",
       "\n",
       "    .dataframe tbody tr th {\n",
       "        vertical-align: top;\n",
       "    }\n",
       "\n",
       "    .dataframe thead th {\n",
       "        text-align: right;\n",
       "    }\n",
       "</style>\n",
       "<table border=\"1\" class=\"dataframe\">\n",
       "  <thead>\n",
       "    <tr style=\"text-align: right;\">\n",
       "      <th></th>\n",
       "      <th>age</th>\n",
       "      <th>sex</th>\n",
       "      <th>plan</th>\n",
       "      <th>company</th>\n",
       "      <th>provider_name</th>\n",
       "      <th>patient_encounter_date</th>\n",
       "      <th>medical_claims_submission_date</th>\n",
       "      <th>payment_date</th>\n",
       "      <th>service_type</th>\n",
       "      <th>diagnosis</th>\n",
       "      <th>total_price</th>\n",
       "      <th>submission_gap</th>\n",
       "    </tr>\n",
       "  </thead>\n",
       "  <tbody>\n",
       "    <tr>\n",
       "      <td>0</td>\n",
       "      <td>29</td>\n",
       "      <td>M</td>\n",
       "      <td>RED Individual</td>\n",
       "      <td>CORPORATE</td>\n",
       "      <td>JOY HOSPITAL-LAGOS</td>\n",
       "      <td>1997-12-12</td>\n",
       "      <td>1998-01-02</td>\n",
       "      <td>1998-01-02</td>\n",
       "      <td>Outpatient</td>\n",
       "      <td>ACUTE MALARIA WITH URTI</td>\n",
       "      <td>17000.00</td>\n",
       "      <td>21</td>\n",
       "    </tr>\n",
       "    <tr>\n",
       "      <td>1</td>\n",
       "      <td>31</td>\n",
       "      <td>F</td>\n",
       "      <td>Yellow Individual</td>\n",
       "      <td>CORPORATE</td>\n",
       "      <td>CHARMAINE HOSPITAL</td>\n",
       "      <td>1997-12-24</td>\n",
       "      <td>1998-01-02</td>\n",
       "      <td>1998-01-02</td>\n",
       "      <td>Outpatient</td>\n",
       "      <td>LEFT MODERATE TO PROFOUND SNHL</td>\n",
       "      <td>20000.00</td>\n",
       "      <td>9</td>\n",
       "    </tr>\n",
       "    <tr>\n",
       "      <td>2</td>\n",
       "      <td>31</td>\n",
       "      <td>F</td>\n",
       "      <td>Yellow Individual</td>\n",
       "      <td>CORPORATE</td>\n",
       "      <td>CHARMAINE HOSPITAL</td>\n",
       "      <td>1997-12-28</td>\n",
       "      <td>1998-01-02</td>\n",
       "      <td>1998-01-02</td>\n",
       "      <td>Inpatient</td>\n",
       "      <td>LEFT MODERATE TO PROFOUND SNHL</td>\n",
       "      <td>15000.00</td>\n",
       "      <td>5</td>\n",
       "    </tr>\n",
       "    <tr>\n",
       "      <td>3</td>\n",
       "      <td>23</td>\n",
       "      <td>M</td>\n",
       "      <td>Yellow Individual</td>\n",
       "      <td>CORPORATE</td>\n",
       "      <td>CILANTRO HOSPITAL</td>\n",
       "      <td>1997-12-19</td>\n",
       "      <td>1998-01-03</td>\n",
       "      <td>1998-01-09</td>\n",
       "      <td>Outpatient</td>\n",
       "      <td>URTI</td>\n",
       "      <td>2160.00</td>\n",
       "      <td>15</td>\n",
       "    </tr>\n",
       "    <tr>\n",
       "      <td>4</td>\n",
       "      <td>30</td>\n",
       "      <td>F</td>\n",
       "      <td>RED Individual</td>\n",
       "      <td>CORPORATE</td>\n",
       "      <td>JOY HOSPITAL-LAGOS</td>\n",
       "      <td>1997-12-01</td>\n",
       "      <td>1998-01-04</td>\n",
       "      <td>1998-01-09</td>\n",
       "      <td>Outpatient</td>\n",
       "      <td>PLASMODIASIS</td>\n",
       "      <td>10399.99</td>\n",
       "      <td>34</td>\n",
       "    </tr>\n",
       "  </tbody>\n",
       "</table>\n",
       "</div>"
      ],
      "text/plain": [
       "   age sex               plan    company       provider_name  \\\n",
       "0   29   M     RED Individual  CORPORATE  JOY HOSPITAL-LAGOS   \n",
       "1   31   F  Yellow Individual  CORPORATE  CHARMAINE HOSPITAL   \n",
       "2   31   F  Yellow Individual  CORPORATE  CHARMAINE HOSPITAL   \n",
       "3   23   M  Yellow Individual  CORPORATE   CILANTRO HOSPITAL   \n",
       "4   30   F     RED Individual  CORPORATE  JOY HOSPITAL-LAGOS   \n",
       "\n",
       "  patient_encounter_date medical_claims_submission_date payment_date  \\\n",
       "0             1997-12-12                     1998-01-02   1998-01-02   \n",
       "1             1997-12-24                     1998-01-02   1998-01-02   \n",
       "2             1997-12-28                     1998-01-02   1998-01-02   \n",
       "3             1997-12-19                     1998-01-03   1998-01-09   \n",
       "4             1997-12-01                     1998-01-04   1998-01-09   \n",
       "\n",
       "  service_type                       diagnosis  total_price  submission_gap  \n",
       "0   Outpatient         ACUTE MALARIA WITH URTI     17000.00              21  \n",
       "1   Outpatient  LEFT MODERATE TO PROFOUND SNHL     20000.00               9  \n",
       "2    Inpatient  LEFT MODERATE TO PROFOUND SNHL     15000.00               5  \n",
       "3   Outpatient                            URTI      2160.00              15  \n",
       "4   Outpatient                    PLASMODIASIS     10399.99              34  "
      ]
     },
     "execution_count": 35,
     "metadata": {},
     "output_type": "execute_result"
    }
   ],
   "source": [
    "# convert timedeltas to int\n",
    "sub_gap['submission_gap'] = (sub_gap.submission_gap/np.timedelta64(1, 'D')).astype(int)\n",
    "sub_gap.head()"
   ]
  },
  {
   "cell_type": "code",
   "execution_count": 36,
   "metadata": {},
   "outputs": [
    {
     "data": {
      "text/plain": [
       "diagnosis\n",
       "IMMUNIZATION                                      AUTHORIZATION DODE: PA/D14CCF    389.0\n",
       "Plasmodiasis/PID                                                                   213.0\n",
       "Perineal candidiasis with secondary  Bacteria infection/Malaria fever              213.0\n",
       "SKIN RASH, TINEA CORPORIS                                                          205.0\n",
       "URTI/FOLLICULITIS                                                                  193.0\n",
       "Myopia and Presbyopia                                                              170.0\n",
       "BLOOD TEST                                                                         132.0\n",
       "acute plasmodiasis\\r\\nr/o enteric fever                                            123.0\n",
       "Malaria, uretritis,, htn                                                           120.0\n",
       "UTI, MALARIA                                                                       120.0\n",
       "Hyperopic astigmatism, CVS                                                         119.0\n",
       "HYPERTENSION\\ MUSCULOSKELETAL PAIN                                                 114.0\n",
       "Hyperopia and Presbyopia                                                           114.0\n",
       "URTI\\r\\nMalaria fever                                                              114.0\n",
       "Severe Hypertension                                                                112.0\n",
       "Otitis media\\r\\nHypertension                                                       108.0\n",
       "Acute Plasmodiasis\\r\\nSepsis\\r\\nHypoglycemia\\r\\nAnaemia                            108.0\n",
       "PUD kiv Helminthiasis plasmodiasis                                                 105.0\n",
       "AMETROPIAS                                                                         105.0\n",
       "INGUINAL SWELLING                                                                  105.0\n",
       "Name: submission_gap, dtype: float64"
      ]
     },
     "execution_count": 36,
     "metadata": {},
     "output_type": "execute_result"
    }
   ],
   "source": [
    "\n",
    "diagnosis_ = sub_gap.groupby(by='diagnosis')['submission_gap'].mean().sort_values(ascending=False)\n",
    "diagnosis_[:20]"
   ]
  },
  {
   "cell_type": "code",
   "execution_count": 37,
   "metadata": {},
   "outputs": [
    {
     "data": {
      "text/plain": [
       "count    3622.000000\n",
       "mean       20.187449\n",
       "std        21.258578\n",
       "min        -1.000000\n",
       "25%         4.000000\n",
       "50%        15.000000\n",
       "75%        30.000000\n",
       "max       389.000000\n",
       "Name: submission_gap, dtype: float64"
      ]
     },
     "execution_count": 37,
     "metadata": {},
     "output_type": "execute_result"
    }
   ],
   "source": [
    "diagnosis_.describe()"
   ]
  },
  {
   "cell_type": "code",
   "execution_count": 38,
   "metadata": {},
   "outputs": [
    {
     "data": {
      "text/plain": [
       "Text(0.5, 0, 'Diagnosis')"
      ]
     },
     "execution_count": 38,
     "metadata": {},
     "output_type": "execute_result"
    },
    {
     "name": "stderr",
     "output_type": "stream",
     "text": [
      "C:\\Users\\ChiefCollins\\Anaconda3\\lib\\site-packages\\matplotlib\\backends\\backend_agg.py:211: RuntimeWarning: Glyph 13 missing from current font.\n",
      "  font.set_text(s, 0.0, flags=flags)\n",
      "C:\\Users\\ChiefCollins\\Anaconda3\\lib\\site-packages\\matplotlib\\backends\\backend_agg.py:180: RuntimeWarning: Glyph 13 missing from current font.\n",
      "  font.set_text(s, 0, flags=flags)\n"
     ]
    },
    {
     "data": {
      "image/png": "[encoded data removed]",
      "text/plain": [
       "<Figure size 864x432 with 1 Axes>"
      ]
     },
     "metadata": {
      "needs_background": "light"
     },
     "output_type": "display_data"
    }
   ],
   "source": [
    "fig, ax = plt.subplots(figsize=(12,6))\n",
    "diagnosis_[:10].plot(ax=ax, kind='bar')\n",
    "plt.ylabel('Submission Gaps in days', size=15)\n",
    "plt.title('Top ten delayed submissions and Name of Diagnosis')\n",
    "plt.xlabel('Diagnosis', size=15)"
   ]
  },
  {
   "cell_type": "markdown",
   "metadata": {},
   "source": [
    "#### Q4. Relationship Between Patient Encounter date and Diagnosis"
   ]
  },
  {
   "cell_type": "code",
   "execution_count": 39,
   "metadata": {},
   "outputs": [
    {
     "data": {
      "text/html": [
       "<div>\n",
       "<style scoped>\n",
       "    .dataframe tbody tr th:only-of-type {\n",
       "        vertical-align: middle;\n",
       "    }\n",
       "\n",
       "    .dataframe tbody tr th {\n",
       "        vertical-align: top;\n",
       "    }\n",
       "\n",
       "    .dataframe thead th {\n",
       "        text-align: right;\n",
       "    }\n",
       "</style>\n",
       "<table border=\"1\" class=\"dataframe\">\n",
       "  <thead>\n",
       "    <tr style=\"text-align: right;\">\n",
       "      <th></th>\n",
       "      <th>patient_encounter_date</th>\n",
       "      <th>diagnosis</th>\n",
       "    </tr>\n",
       "  </thead>\n",
       "  <tbody>\n",
       "    <tr>\n",
       "      <td>0</td>\n",
       "      <td>1997-12-12</td>\n",
       "      <td>ACUTE MALARIA WITH URTI</td>\n",
       "    </tr>\n",
       "    <tr>\n",
       "      <td>1</td>\n",
       "      <td>1997-12-24</td>\n",
       "      <td>LEFT MODERATE TO PROFOUND SNHL</td>\n",
       "    </tr>\n",
       "    <tr>\n",
       "      <td>2</td>\n",
       "      <td>1997-12-28</td>\n",
       "      <td>LEFT MODERATE TO PROFOUND SNHL</td>\n",
       "    </tr>\n",
       "    <tr>\n",
       "      <td>3</td>\n",
       "      <td>1997-12-19</td>\n",
       "      <td>URTI</td>\n",
       "    </tr>\n",
       "    <tr>\n",
       "      <td>4</td>\n",
       "      <td>1997-12-01</td>\n",
       "      <td>PLASMODIASIS</td>\n",
       "    </tr>\n",
       "  </tbody>\n",
       "</table>\n",
       "</div>"
      ],
      "text/plain": [
       "  patient_encounter_date                       diagnosis\n",
       "0             1997-12-12         ACUTE MALARIA WITH URTI\n",
       "1             1997-12-24  LEFT MODERATE TO PROFOUND SNHL\n",
       "2             1997-12-28  LEFT MODERATE TO PROFOUND SNHL\n",
       "3             1997-12-19                            URTI\n",
       "4             1997-12-01                    PLASMODIASIS"
      ]
     },
     "execution_count": 39,
     "metadata": {},
     "output_type": "execute_result"
    }
   ],
   "source": [
    "patient_ = data.copy()\n",
    "patient_dgns = patient_[['patient_encounter_date', 'diagnosis']]\n",
    "patient_dgns.head()"
   ]
  },
  {
   "cell_type": "code",
   "execution_count": 40,
   "metadata": {},
   "outputs": [
    {
     "name": "stderr",
     "output_type": "stream",
     "text": [
      "C:\\Users\\ChiefCollins\\Anaconda3\\lib\\site-packages\\ipykernel_launcher.py:1: SettingWithCopyWarning: \n",
      "A value is trying to be set on a copy of a slice from a DataFrame.\n",
      "Try using .loc[row_indexer,col_indexer] = value instead\n",
      "\n",
      "See the caveats in the documentation: http://pandas.pydata.org/pandas-docs/stable/user_guide/indexing.html#returning-a-view-versus-a-copy\n",
      "  \"\"\"Entry point for launching an IPython kernel.\n",
      "C:\\Users\\ChiefCollins\\Anaconda3\\lib\\site-packages\\ipykernel_launcher.py:2: SettingWithCopyWarning: \n",
      "A value is trying to be set on a copy of a slice from a DataFrame.\n",
      "Try using .loc[row_indexer,col_indexer] = value instead\n",
      "\n",
      "See the caveats in the documentation: http://pandas.pydata.org/pandas-docs/stable/user_guide/indexing.html#returning-a-view-versus-a-copy\n",
      "  \n",
      "C:\\Users\\ChiefCollins\\Anaconda3\\lib\\site-packages\\ipykernel_launcher.py:3: SettingWithCopyWarning: \n",
      "A value is trying to be set on a copy of a slice from a DataFrame.\n",
      "Try using .loc[row_indexer,col_indexer] = value instead\n",
      "\n",
      "See the caveats in the documentation: http://pandas.pydata.org/pandas-docs/stable/user_guide/indexing.html#returning-a-view-versus-a-copy\n",
      "  This is separate from the ipykernel package so we can avoid doing imports until\n",
      "C:\\Users\\ChiefCollins\\Anaconda3\\lib\\site-packages\\ipykernel_launcher.py:4: SettingWithCopyWarning: \n",
      "A value is trying to be set on a copy of a slice from a DataFrame.\n",
      "Try using .loc[row_indexer,col_indexer] = value instead\n",
      "\n",
      "See the caveats in the documentation: http://pandas.pydata.org/pandas-docs/stable/user_guide/indexing.html#returning-a-view-versus-a-copy\n",
      "  after removing the cwd from sys.path.\n",
      "C:\\Users\\ChiefCollins\\Anaconda3\\lib\\site-packages\\ipykernel_launcher.py:5: SettingWithCopyWarning: \n",
      "A value is trying to be set on a copy of a slice from a DataFrame.\n",
      "Try using .loc[row_indexer,col_indexer] = value instead\n",
      "\n",
      "See the caveats in the documentation: http://pandas.pydata.org/pandas-docs/stable/user_guide/indexing.html#returning-a-view-versus-a-copy\n",
      "  \"\"\"\n"
     ]
    }
   ],
   "source": [
    "patient_dgns['pxt_month'] = patient_dgns.patient_encounter_date.dt.month\n",
    "patient_dgns['pxt_week'] = patient_dgns.patient_encounter_date.dt.week\n",
    "patient_dgns['pxt_day'] = patient_dgns.patient_encounter_date.dt.day\n",
    "patient_dgns['pxt_dayofweek'] = patient_dgns.patient_encounter_date.dt.dayofweek\n",
    "patient_dgns['pxt_week_day'] = patient_dgns.patient_encounter_date.dt.weekday_name"
   ]
  },
  {
   "cell_type": "code",
   "execution_count": 41,
   "metadata": {},
   "outputs": [
    {
     "data": {
      "text/html": [
       "<div>\n",
       "<style scoped>\n",
       "    .dataframe tbody tr th:only-of-type {\n",
       "        vertical-align: middle;\n",
       "    }\n",
       "\n",
       "    .dataframe tbody tr th {\n",
       "        vertical-align: top;\n",
       "    }\n",
       "\n",
       "    .dataframe thead th {\n",
       "        text-align: right;\n",
       "    }\n",
       "</style>\n",
       "<table border=\"1\" class=\"dataframe\">\n",
       "  <thead>\n",
       "    <tr style=\"text-align: right;\">\n",
       "      <th></th>\n",
       "      <th>patient_encounter_date</th>\n",
       "      <th>diagnosis</th>\n",
       "      <th>pxt_month</th>\n",
       "      <th>pxt_week</th>\n",
       "      <th>pxt_day</th>\n",
       "      <th>pxt_dayofweek</th>\n",
       "      <th>pxt_week_day</th>\n",
       "    </tr>\n",
       "  </thead>\n",
       "  <tbody>\n",
       "    <tr>\n",
       "      <td>0</td>\n",
       "      <td>1997-12-12</td>\n",
       "      <td>ACUTE MALARIA WITH URTI</td>\n",
       "      <td>12</td>\n",
       "      <td>50</td>\n",
       "      <td>12</td>\n",
       "      <td>4</td>\n",
       "      <td>Friday</td>\n",
       "    </tr>\n",
       "    <tr>\n",
       "      <td>1</td>\n",
       "      <td>1997-12-24</td>\n",
       "      <td>LEFT MODERATE TO PROFOUND SNHL</td>\n",
       "      <td>12</td>\n",
       "      <td>52</td>\n",
       "      <td>24</td>\n",
       "      <td>2</td>\n",
       "      <td>Wednesday</td>\n",
       "    </tr>\n",
       "    <tr>\n",
       "      <td>2</td>\n",
       "      <td>1997-12-28</td>\n",
       "      <td>LEFT MODERATE TO PROFOUND SNHL</td>\n",
       "      <td>12</td>\n",
       "      <td>52</td>\n",
       "      <td>28</td>\n",
       "      <td>6</td>\n",
       "      <td>Sunday</td>\n",
       "    </tr>\n",
       "    <tr>\n",
       "      <td>3</td>\n",
       "      <td>1997-12-19</td>\n",
       "      <td>URTI</td>\n",
       "      <td>12</td>\n",
       "      <td>51</td>\n",
       "      <td>19</td>\n",
       "      <td>4</td>\n",
       "      <td>Friday</td>\n",
       "    </tr>\n",
       "    <tr>\n",
       "      <td>4</td>\n",
       "      <td>1997-12-01</td>\n",
       "      <td>PLASMODIASIS</td>\n",
       "      <td>12</td>\n",
       "      <td>49</td>\n",
       "      <td>1</td>\n",
       "      <td>0</td>\n",
       "      <td>Monday</td>\n",
       "    </tr>\n",
       "  </tbody>\n",
       "</table>\n",
       "</div>"
      ],
      "text/plain": [
       "  patient_encounter_date                       diagnosis  pxt_month  pxt_week  \\\n",
       "0             1997-12-12         ACUTE MALARIA WITH URTI         12        50   \n",
       "1             1997-12-24  LEFT MODERATE TO PROFOUND SNHL         12        52   \n",
       "2             1997-12-28  LEFT MODERATE TO PROFOUND SNHL         12        52   \n",
       "3             1997-12-19                            URTI         12        51   \n",
       "4             1997-12-01                    PLASMODIASIS         12        49   \n",
       "\n",
       "   pxt_day  pxt_dayofweek pxt_week_day  \n",
       "0       12              4       Friday  \n",
       "1       24              2    Wednesday  \n",
       "2       28              6       Sunday  \n",
       "3       19              4       Friday  \n",
       "4        1              0       Monday  "
      ]
     },
     "execution_count": 41,
     "metadata": {},
     "output_type": "execute_result"
    }
   ],
   "source": [
    "patient_dgns.head()"
   ]
  },
  {
   "cell_type": "code",
   "execution_count": 42,
   "metadata": {},
   "outputs": [
    {
     "data": {
      "text/plain": [
       "pxt_month  diagnosis                                                              \n",
       "1          MALARIA                                                                    25\n",
       "           URTI                                                                       13\n",
       "           gym                                                                        13\n",
       "           Reimbursement Claim                                                         9\n",
       "           IMMUNIZATION                                                                7\n",
       "                                                                                      ..\n",
       "12         urti/skin sepsis                                                            1\n",
       "           uti, pudx                                                                   1\n",
       "           vertigo ? cause, low back pain ? cause, malaria fever r/o typhoid fever     1\n",
       "           vomiting in a neonate ?cause kiv pyloric stenosis,malaria                   1\n",
       "           xray                                                                        1\n",
       "Name: diagnosis, Length: 4194, dtype: int64"
      ]
     },
     "execution_count": 42,
     "metadata": {},
     "output_type": "execute_result"
    }
   ],
   "source": [
    "# group the diagnosis by month of encounter\n",
    "patient_dgns_grp = patient_dgns.groupby(by='pxt_month')['diagnosis'].value_counts()\n",
    "patient_dgns_grp"
   ]
  },
  {
   "cell_type": "code",
   "execution_count": 43,
   "metadata": {},
   "outputs": [
    {
     "name": "stdout",
     "output_type": "stream",
     "text": [
      "pxt_month\n",
      "1     778\n",
      "2     451\n",
      "3      90\n",
      "4      99\n",
      "5     158\n",
      "6     423\n",
      "7      87\n",
      "8      93\n",
      "9     506\n",
      "10    834\n",
      "11    773\n",
      "12    708\n",
      "Name: diagnosis, dtype: int64\n"
     ]
    }
   ],
   "source": [
    "# Actual group by encounter month\n",
    "patient_dgns_grp_month = patient_dgns_grp.groupby(level=0).sum()\n",
    "print(patient_dgns_grp_month)"
   ]
  },
  {
   "cell_type": "code",
   "execution_count": 45,
   "metadata": {},
   "outputs": [
    {
     "data": {
      "image/png": "[encoded data removed]",
      "text/plain": [
       "<Figure size 720x576 with 1 Axes>"
      ]
     },
     "metadata": {
      "needs_background": "light"
     },
     "output_type": "display_data"
    }
   ],
   "source": [
    "plt.figure(figsize=(10,8))\n",
    "patient_dgns_grp_month.plot(kind='bar', color='blue')\n",
    "plt.title('Number of diagnosis by month', size=20)\n",
    "plt.xlabel('Month', size=15)\n",
    "plt.ylabel('Number of Diagnosis', size=15)\n",
    "plt.xticks(ticks=[0,1,2,3,4,5,6,7,8,9,10,11], labels=['Jan','Feb','Mar','Apr','May','Jun',\n",
    "                                                       'Jul','Aug','Sep','Oct','Nov','Dec'])\n",
    "plt.grid(axis='y', which='major')"
   ]
  },
  {
   "cell_type": "markdown",
   "metadata": {},
   "source": [
    "From the visual above, we see that the month of October recorded the most Diagnosis. that is, the month patient encountered the service provider"
   ]
  },
  {
   "cell_type": "code",
   "execution_count": 46,
   "metadata": {},
   "outputs": [
    {
     "data": {
      "text/plain": [
       "pxt_week_day  diagnosis                            \n",
       "Friday        MALARIA                                  22\n",
       "              GYM                                      15\n",
       "              gym                                      11\n",
       "              IMMUNIZATION                              7\n",
       "              PLASMODIASIS                              7\n",
       "                                                       ..\n",
       "Wednesday     trauma secondary piercing nail injury     1\n",
       "              urti ,malaria fever                       1\n",
       "              urti/musculoskeletal pain                 1\n",
       "              uti                                       1\n",
       "              uti,plasmodiasis,sepsis                   1\n",
       "Name: diagnosis, Length: 4182, dtype: int64"
      ]
     },
     "execution_count": 46,
     "metadata": {},
     "output_type": "execute_result"
    }
   ],
   "source": [
    "# group the diagnosis by Weekday of encounter\n",
    "patient_dgns_grp_wkday = patient_dgns.groupby(by='pxt_week_day')['diagnosis'].value_counts()\n",
    "patient_dgns_grp_wkday"
   ]
  },
  {
   "cell_type": "code",
   "execution_count": 47,
   "metadata": {},
   "outputs": [
    {
     "name": "stdout",
     "output_type": "stream",
     "text": [
      "pxt_week_day\n",
      "Friday       784\n",
      "Monday       677\n",
      "Saturday     797\n",
      "Sunday       800\n",
      "Thursday     854\n",
      "Tuesday      630\n",
      "Wednesday    458\n",
      "Name: diagnosis, dtype: int64\n"
     ]
    }
   ],
   "source": [
    "# Actual group by encounter weekday\n",
    "patient_dgns_grp_wkday = patient_dgns_grp_wkday.groupby(level=0).sum()\n",
    "print(patient_dgns_grp_wkday)"
   ]
  },
  {
   "cell_type": "code",
   "execution_count": 48,
   "metadata": {},
   "outputs": [
    {
     "data": {
      "image/png": "[encoded data removed]",
      "text/plain": [
       "<Figure size 720x576 with 1 Axes>"
      ]
     },
     "metadata": {
      "needs_background": "light"
     },
     "output_type": "display_data"
    }
   ],
   "source": [
    "plt.figure(figsize=(10,8))\n",
    "patient_dgns_grp_wkday.plot(kind='bar', color='orange')\n",
    "plt.title('Number of diagnosis by WeekDay', size=20)\n",
    "plt.xlabel('WeekDay', size=15)\n",
    "plt.ylabel('Number of Diagnosis', size=15)\n",
    "plt.grid(axis='y', which='major')"
   ]
  },
  {
   "cell_type": "markdown",
   "metadata": {},
   "source": [
    "From the visual above, we see that most patients had an encounter with the physician mostly on Thursday for a diagnosis. Wednesday had the least number of visits for a diagnosis"
   ]
  },
  {
   "cell_type": "markdown",
   "metadata": {},
   "source": [
    "#### Q5. Service Type vs Company type analysis"
   ]
  },
  {
   "cell_type": "code",
   "execution_count": 49,
   "metadata": {},
   "outputs": [
    {
     "data": {
      "text/html": [
       "<div>\n",
       "<style scoped>\n",
       "    .dataframe tbody tr th:only-of-type {\n",
       "        vertical-align: middle;\n",
       "    }\n",
       "\n",
       "    .dataframe tbody tr th {\n",
       "        vertical-align: top;\n",
       "    }\n",
       "\n",
       "    .dataframe thead th {\n",
       "        text-align: right;\n",
       "    }\n",
       "</style>\n",
       "<table border=\"1\" class=\"dataframe\">\n",
       "  <thead>\n",
       "    <tr style=\"text-align: right;\">\n",
       "      <th></th>\n",
       "      <th>age</th>\n",
       "      <th>sex</th>\n",
       "      <th>plan</th>\n",
       "      <th>company</th>\n",
       "      <th>provider_name</th>\n",
       "      <th>patient_encounter_date</th>\n",
       "      <th>medical_claims_submission_date</th>\n",
       "      <th>payment_date</th>\n",
       "      <th>service_type</th>\n",
       "      <th>diagnosis</th>\n",
       "      <th>total_price</th>\n",
       "    </tr>\n",
       "  </thead>\n",
       "  <tbody>\n",
       "    <tr>\n",
       "      <td>0</td>\n",
       "      <td>29</td>\n",
       "      <td>M</td>\n",
       "      <td>RED Individual</td>\n",
       "      <td>CORPORATE</td>\n",
       "      <td>JOY HOSPITAL-LAGOS</td>\n",
       "      <td>1997-12-12</td>\n",
       "      <td>1998-01-02</td>\n",
       "      <td>1998-01-02</td>\n",
       "      <td>Outpatient</td>\n",
       "      <td>ACUTE MALARIA WITH URTI</td>\n",
       "      <td>17000.00</td>\n",
       "    </tr>\n",
       "    <tr>\n",
       "      <td>1</td>\n",
       "      <td>31</td>\n",
       "      <td>F</td>\n",
       "      <td>Yellow Individual</td>\n",
       "      <td>CORPORATE</td>\n",
       "      <td>CHARMAINE HOSPITAL</td>\n",
       "      <td>1997-12-24</td>\n",
       "      <td>1998-01-02</td>\n",
       "      <td>1998-01-02</td>\n",
       "      <td>Outpatient</td>\n",
       "      <td>LEFT MODERATE TO PROFOUND SNHL</td>\n",
       "      <td>20000.00</td>\n",
       "    </tr>\n",
       "    <tr>\n",
       "      <td>2</td>\n",
       "      <td>31</td>\n",
       "      <td>F</td>\n",
       "      <td>Yellow Individual</td>\n",
       "      <td>CORPORATE</td>\n",
       "      <td>CHARMAINE HOSPITAL</td>\n",
       "      <td>1997-12-28</td>\n",
       "      <td>1998-01-02</td>\n",
       "      <td>1998-01-02</td>\n",
       "      <td>Inpatient</td>\n",
       "      <td>LEFT MODERATE TO PROFOUND SNHL</td>\n",
       "      <td>15000.00</td>\n",
       "    </tr>\n",
       "    <tr>\n",
       "      <td>3</td>\n",
       "      <td>23</td>\n",
       "      <td>M</td>\n",
       "      <td>Yellow Individual</td>\n",
       "      <td>CORPORATE</td>\n",
       "      <td>CILANTRO HOSPITAL</td>\n",
       "      <td>1997-12-19</td>\n",
       "      <td>1998-01-03</td>\n",
       "      <td>1998-01-09</td>\n",
       "      <td>Outpatient</td>\n",
       "      <td>URTI</td>\n",
       "      <td>2160.00</td>\n",
       "    </tr>\n",
       "    <tr>\n",
       "      <td>4</td>\n",
       "      <td>30</td>\n",
       "      <td>F</td>\n",
       "      <td>RED Individual</td>\n",
       "      <td>CORPORATE</td>\n",
       "      <td>JOY HOSPITAL-LAGOS</td>\n",
       "      <td>1997-12-01</td>\n",
       "      <td>1998-01-04</td>\n",
       "      <td>1998-01-09</td>\n",
       "      <td>Outpatient</td>\n",
       "      <td>PLASMODIASIS</td>\n",
       "      <td>10399.99</td>\n",
       "    </tr>\n",
       "  </tbody>\n",
       "</table>\n",
       "</div>"
      ],
      "text/plain": [
       "   age sex               plan    company       provider_name  \\\n",
       "0   29   M     RED Individual  CORPORATE  JOY HOSPITAL-LAGOS   \n",
       "1   31   F  Yellow Individual  CORPORATE  CHARMAINE HOSPITAL   \n",
       "2   31   F  Yellow Individual  CORPORATE  CHARMAINE HOSPITAL   \n",
       "3   23   M  Yellow Individual  CORPORATE   CILANTRO HOSPITAL   \n",
       "4   30   F     RED Individual  CORPORATE  JOY HOSPITAL-LAGOS   \n",
       "\n",
       "  patient_encounter_date medical_claims_submission_date payment_date  \\\n",
       "0             1997-12-12                     1998-01-02   1998-01-02   \n",
       "1             1997-12-24                     1998-01-02   1998-01-02   \n",
       "2             1997-12-28                     1998-01-02   1998-01-02   \n",
       "3             1997-12-19                     1998-01-03   1998-01-09   \n",
       "4             1997-12-01                     1998-01-04   1998-01-09   \n",
       "\n",
       "  service_type                       diagnosis  total_price  \n",
       "0   Outpatient         ACUTE MALARIA WITH URTI     17000.00  \n",
       "1   Outpatient  LEFT MODERATE TO PROFOUND SNHL     20000.00  \n",
       "2    Inpatient  LEFT MODERATE TO PROFOUND SNHL     15000.00  \n",
       "3   Outpatient                            URTI      2160.00  \n",
       "4   Outpatient                    PLASMODIASIS     10399.99  "
      ]
     },
     "execution_count": 49,
     "metadata": {},
     "output_type": "execute_result"
    }
   ],
   "source": [
    "data.head()"
   ]
  },
  {
   "cell_type": "code",
   "execution_count": 50,
   "metadata": {},
   "outputs": [
    {
     "data": {
      "text/plain": [
       "service_type  sex\n",
       "Inpatient     M       184\n",
       "              F       154\n",
       "Outpatient    M      2589\n",
       "              F      2073\n",
       "Name: sex, dtype: int64"
      ]
     },
     "execution_count": 50,
     "metadata": {},
     "output_type": "execute_result"
    }
   ],
   "source": [
    "service_ = data.groupby(by='service_type')['sex'].value_counts()\n",
    "service_"
   ]
  },
  {
   "cell_type": "code",
   "execution_count": 51,
   "metadata": {},
   "outputs": [
    {
     "data": {
      "text/plain": [
       "Text(0, 0.5, 'Number of Claims')"
      ]
     },
     "execution_count": 51,
     "metadata": {},
     "output_type": "execute_result"
    },
    {
     "data": {
      "image/png": "[encoded data removed]",
      "text/plain": [
       "<Figure size 432x288 with 2 Axes>"
      ]
     },
     "metadata": {
      "needs_background": "light"
     },
     "output_type": "display_data"
    }
   ],
   "source": [
    "service_.unstack(level=0).plot(kind='bar', subplots=True)\n",
    "plt.ylabel('Number of Claims')"
   ]
  },
  {
   "cell_type": "markdown",
   "metadata": {},
   "source": [
    "As we can see from the visualization above, Most of the Outpatient claims are males. Same goes for the Inpatient claims.\n",
    "The sum of claims from Outpatient is more compared to Inpatient claims from both genders"
   ]
  },
  {
   "cell_type": "raw",
   "metadata": {},
   "source": []
  },
  {
   "cell_type": "markdown",
   "metadata": {},
   "source": [
    "## Machine Learning "
   ]
  },
  {
   "cell_type": "markdown",
   "metadata": {},
   "source": [
    "### Data Preparation"
   ]
  },
  {
   "cell_type": "markdown",
   "metadata": {},
   "source": [
    "Going into the machine learning model development, it is pertinent tha we first prepare the data features and make them ready for an ML algorithm -Regression"
   ]
  },
  {
   "cell_type": "code",
   "execution_count": 52,
   "metadata": {},
   "outputs": [],
   "source": [
    "data_ml = data.copy()"
   ]
  },
  {
   "cell_type": "code",
   "execution_count": 53,
   "metadata": {},
   "outputs": [
    {
     "data": {
      "text/html": [
       "<div>\n",
       "<style scoped>\n",
       "    .dataframe tbody tr th:only-of-type {\n",
       "        vertical-align: middle;\n",
       "    }\n",
       "\n",
       "    .dataframe tbody tr th {\n",
       "        vertical-align: top;\n",
       "    }\n",
       "\n",
       "    .dataframe thead th {\n",
       "        text-align: right;\n",
       "    }\n",
       "</style>\n",
       "<table border=\"1\" class=\"dataframe\">\n",
       "  <thead>\n",
       "    <tr style=\"text-align: right;\">\n",
       "      <th></th>\n",
       "      <th>age</th>\n",
       "      <th>sex</th>\n",
       "      <th>plan</th>\n",
       "      <th>company</th>\n",
       "      <th>provider_name</th>\n",
       "      <th>patient_encounter_date</th>\n",
       "      <th>medical_claims_submission_date</th>\n",
       "      <th>payment_date</th>\n",
       "      <th>service_type</th>\n",
       "      <th>diagnosis</th>\n",
       "      <th>total_price</th>\n",
       "    </tr>\n",
       "  </thead>\n",
       "  <tbody>\n",
       "    <tr>\n",
       "      <td>0</td>\n",
       "      <td>29</td>\n",
       "      <td>M</td>\n",
       "      <td>RED Individual</td>\n",
       "      <td>CORPORATE</td>\n",
       "      <td>JOY HOSPITAL-LAGOS</td>\n",
       "      <td>1997-12-12</td>\n",
       "      <td>1998-01-02</td>\n",
       "      <td>1998-01-02</td>\n",
       "      <td>Outpatient</td>\n",
       "      <td>ACUTE MALARIA WITH URTI</td>\n",
       "      <td>17000.00</td>\n",
       "    </tr>\n",
       "    <tr>\n",
       "      <td>1</td>\n",
       "      <td>31</td>\n",
       "      <td>F</td>\n",
       "      <td>Yellow Individual</td>\n",
       "      <td>CORPORATE</td>\n",
       "      <td>CHARMAINE HOSPITAL</td>\n",
       "      <td>1997-12-24</td>\n",
       "      <td>1998-01-02</td>\n",
       "      <td>1998-01-02</td>\n",
       "      <td>Outpatient</td>\n",
       "      <td>LEFT MODERATE TO PROFOUND SNHL</td>\n",
       "      <td>20000.00</td>\n",
       "    </tr>\n",
       "    <tr>\n",
       "      <td>2</td>\n",
       "      <td>31</td>\n",
       "      <td>F</td>\n",
       "      <td>Yellow Individual</td>\n",
       "      <td>CORPORATE</td>\n",
       "      <td>CHARMAINE HOSPITAL</td>\n",
       "      <td>1997-12-28</td>\n",
       "      <td>1998-01-02</td>\n",
       "      <td>1998-01-02</td>\n",
       "      <td>Inpatient</td>\n",
       "      <td>LEFT MODERATE TO PROFOUND SNHL</td>\n",
       "      <td>15000.00</td>\n",
       "    </tr>\n",
       "    <tr>\n",
       "      <td>3</td>\n",
       "      <td>23</td>\n",
       "      <td>M</td>\n",
       "      <td>Yellow Individual</td>\n",
       "      <td>CORPORATE</td>\n",
       "      <td>CILANTRO HOSPITAL</td>\n",
       "      <td>1997-12-19</td>\n",
       "      <td>1998-01-03</td>\n",
       "      <td>1998-01-09</td>\n",
       "      <td>Outpatient</td>\n",
       "      <td>URTI</td>\n",
       "      <td>2160.00</td>\n",
       "    </tr>\n",
       "    <tr>\n",
       "      <td>4</td>\n",
       "      <td>30</td>\n",
       "      <td>F</td>\n",
       "      <td>RED Individual</td>\n",
       "      <td>CORPORATE</td>\n",
       "      <td>JOY HOSPITAL-LAGOS</td>\n",
       "      <td>1997-12-01</td>\n",
       "      <td>1998-01-04</td>\n",
       "      <td>1998-01-09</td>\n",
       "      <td>Outpatient</td>\n",
       "      <td>PLASMODIASIS</td>\n",
       "      <td>10399.99</td>\n",
       "    </tr>\n",
       "  </tbody>\n",
       "</table>\n",
       "</div>"
      ],
      "text/plain": [
       "   age sex               plan    company       provider_name  \\\n",
       "0   29   M     RED Individual  CORPORATE  JOY HOSPITAL-LAGOS   \n",
       "1   31   F  Yellow Individual  CORPORATE  CHARMAINE HOSPITAL   \n",
       "2   31   F  Yellow Individual  CORPORATE  CHARMAINE HOSPITAL   \n",
       "3   23   M  Yellow Individual  CORPORATE   CILANTRO HOSPITAL   \n",
       "4   30   F     RED Individual  CORPORATE  JOY HOSPITAL-LAGOS   \n",
       "\n",
       "  patient_encounter_date medical_claims_submission_date payment_date  \\\n",
       "0             1997-12-12                     1998-01-02   1998-01-02   \n",
       "1             1997-12-24                     1998-01-02   1998-01-02   \n",
       "2             1997-12-28                     1998-01-02   1998-01-02   \n",
       "3             1997-12-19                     1998-01-03   1998-01-09   \n",
       "4             1997-12-01                     1998-01-04   1998-01-09   \n",
       "\n",
       "  service_type                       diagnosis  total_price  \n",
       "0   Outpatient         ACUTE MALARIA WITH URTI     17000.00  \n",
       "1   Outpatient  LEFT MODERATE TO PROFOUND SNHL     20000.00  \n",
       "2    Inpatient  LEFT MODERATE TO PROFOUND SNHL     15000.00  \n",
       "3   Outpatient                            URTI      2160.00  \n",
       "4   Outpatient                    PLASMODIASIS     10399.99  "
      ]
     },
     "execution_count": 53,
     "metadata": {},
     "output_type": "execute_result"
    }
   ],
   "source": [
    "data_ml.head()"
   ]
  },
  {
   "cell_type": "markdown",
   "metadata": {},
   "source": [
    "One-hot encode the Sex and Service type variable"
   ]
  },
  {
   "cell_type": "code",
   "execution_count": 54,
   "metadata": {},
   "outputs": [],
   "source": [
    "#One-hot encode the Sex and Service type variable\n",
    "data_ml = pd.get_dummies(data= data_ml, columns=['sex', 'service_type'], prefix=['sex','service'])\n",
    "\n",
    "data_ml.columns = data_ml.columns.str.strip().str.lower()\n"
   ]
  },
  {
   "cell_type": "code",
   "execution_count": 55,
   "metadata": {
    "scrolled": true
   },
   "outputs": [
    {
     "data": {
      "text/html": [
       "<div>\n",
       "<style scoped>\n",
       "    .dataframe tbody tr th:only-of-type {\n",
       "        vertical-align: middle;\n",
       "    }\n",
       "\n",
       "    .dataframe tbody tr th {\n",
       "        vertical-align: top;\n",
       "    }\n",
       "\n",
       "    .dataframe thead th {\n",
       "        text-align: right;\n",
       "    }\n",
       "</style>\n",
       "<table border=\"1\" class=\"dataframe\">\n",
       "  <thead>\n",
       "    <tr style=\"text-align: right;\">\n",
       "      <th></th>\n",
       "      <th>age</th>\n",
       "      <th>plan</th>\n",
       "      <th>company</th>\n",
       "      <th>provider_name</th>\n",
       "      <th>patient_encounter_date</th>\n",
       "      <th>medical_claims_submission_date</th>\n",
       "      <th>payment_date</th>\n",
       "      <th>diagnosis</th>\n",
       "      <th>total_price</th>\n",
       "      <th>sex_f</th>\n",
       "      <th>sex_m</th>\n",
       "      <th>service_inpatient</th>\n",
       "      <th>service_outpatient</th>\n",
       "    </tr>\n",
       "  </thead>\n",
       "  <tbody>\n",
       "    <tr>\n",
       "      <td>0</td>\n",
       "      <td>29</td>\n",
       "      <td>RED Individual</td>\n",
       "      <td>CORPORATE</td>\n",
       "      <td>JOY HOSPITAL-LAGOS</td>\n",
       "      <td>1997-12-12</td>\n",
       "      <td>1998-01-02</td>\n",
       "      <td>1998-01-02</td>\n",
       "      <td>ACUTE MALARIA WITH URTI</td>\n",
       "      <td>17000.00</td>\n",
       "      <td>0</td>\n",
       "      <td>1</td>\n",
       "      <td>0</td>\n",
       "      <td>1</td>\n",
       "    </tr>\n",
       "    <tr>\n",
       "      <td>1</td>\n",
       "      <td>31</td>\n",
       "      <td>Yellow Individual</td>\n",
       "      <td>CORPORATE</td>\n",
       "      <td>CHARMAINE HOSPITAL</td>\n",
       "      <td>1997-12-24</td>\n",
       "      <td>1998-01-02</td>\n",
       "      <td>1998-01-02</td>\n",
       "      <td>LEFT MODERATE TO PROFOUND SNHL</td>\n",
       "      <td>20000.00</td>\n",
       "      <td>1</td>\n",
       "      <td>0</td>\n",
       "      <td>0</td>\n",
       "      <td>1</td>\n",
       "    </tr>\n",
       "    <tr>\n",
       "      <td>2</td>\n",
       "      <td>31</td>\n",
       "      <td>Yellow Individual</td>\n",
       "      <td>CORPORATE</td>\n",
       "      <td>CHARMAINE HOSPITAL</td>\n",
       "      <td>1997-12-28</td>\n",
       "      <td>1998-01-02</td>\n",
       "      <td>1998-01-02</td>\n",
       "      <td>LEFT MODERATE TO PROFOUND SNHL</td>\n",
       "      <td>15000.00</td>\n",
       "      <td>1</td>\n",
       "      <td>0</td>\n",
       "      <td>1</td>\n",
       "      <td>0</td>\n",
       "    </tr>\n",
       "    <tr>\n",
       "      <td>3</td>\n",
       "      <td>23</td>\n",
       "      <td>Yellow Individual</td>\n",
       "      <td>CORPORATE</td>\n",
       "      <td>CILANTRO HOSPITAL</td>\n",
       "      <td>1997-12-19</td>\n",
       "      <td>1998-01-03</td>\n",
       "      <td>1998-01-09</td>\n",
       "      <td>URTI</td>\n",
       "      <td>2160.00</td>\n",
       "      <td>0</td>\n",
       "      <td>1</td>\n",
       "      <td>0</td>\n",
       "      <td>1</td>\n",
       "    </tr>\n",
       "    <tr>\n",
       "      <td>4</td>\n",
       "      <td>30</td>\n",
       "      <td>RED Individual</td>\n",
       "      <td>CORPORATE</td>\n",
       "      <td>JOY HOSPITAL-LAGOS</td>\n",
       "      <td>1997-12-01</td>\n",
       "      <td>1998-01-04</td>\n",
       "      <td>1998-01-09</td>\n",
       "      <td>PLASMODIASIS</td>\n",
       "      <td>10399.99</td>\n",
       "      <td>1</td>\n",
       "      <td>0</td>\n",
       "      <td>0</td>\n",
       "      <td>1</td>\n",
       "    </tr>\n",
       "  </tbody>\n",
       "</table>\n",
       "</div>"
      ],
      "text/plain": [
       "   age               plan    company       provider_name  \\\n",
       "0   29     RED Individual  CORPORATE  JOY HOSPITAL-LAGOS   \n",
       "1   31  Yellow Individual  CORPORATE  CHARMAINE HOSPITAL   \n",
       "2   31  Yellow Individual  CORPORATE  CHARMAINE HOSPITAL   \n",
       "3   23  Yellow Individual  CORPORATE   CILANTRO HOSPITAL   \n",
       "4   30     RED Individual  CORPORATE  JOY HOSPITAL-LAGOS   \n",
       "\n",
       "  patient_encounter_date medical_claims_submission_date payment_date  \\\n",
       "0             1997-12-12                     1998-01-02   1998-01-02   \n",
       "1             1997-12-24                     1998-01-02   1998-01-02   \n",
       "2             1997-12-28                     1998-01-02   1998-01-02   \n",
       "3             1997-12-19                     1998-01-03   1998-01-09   \n",
       "4             1997-12-01                     1998-01-04   1998-01-09   \n",
       "\n",
       "                        diagnosis  total_price  sex_f  sex_m  \\\n",
       "0         ACUTE MALARIA WITH URTI     17000.00      0      1   \n",
       "1  LEFT MODERATE TO PROFOUND SNHL     20000.00      1      0   \n",
       "2  LEFT MODERATE TO PROFOUND SNHL     15000.00      1      0   \n",
       "3                            URTI      2160.00      0      1   \n",
       "4                    PLASMODIASIS     10399.99      1      0   \n",
       "\n",
       "   service_inpatient  service_outpatient  \n",
       "0                  0                   1  \n",
       "1                  0                   1  \n",
       "2                  1                   0  \n",
       "3                  0                   1  \n",
       "4                  0                   1  "
      ]
     },
     "execution_count": 55,
     "metadata": {},
     "output_type": "execute_result"
    }
   ],
   "source": [
    "data_ml.head()"
   ]
  },
  {
   "cell_type": "markdown",
   "metadata": {},
   "source": [
    "Transform Plan, Provider and Company columns into numerically coded values "
   ]
  },
  {
   "cell_type": "code",
   "execution_count": 56,
   "metadata": {},
   "outputs": [],
   "source": [
    "# Transform Plan, Provider and Company columns into numerically coded values \n",
    "mlplan_label = data_ml['plan'].astype('category').cat.categories.tolist()\n",
    "mlprovider_label =  data_ml['provider_name'].astype('category').cat.categories.tolist()\n",
    "mlcompany_label = data_ml['company'].astype('category').cat.categories.tolist()"
   ]
  },
  {
   "cell_type": "code",
   "execution_count": 57,
   "metadata": {},
   "outputs": [],
   "source": [
    "# Create a dictionary as the replacement parameter\n",
    "mlplan_repl = {'plan':{k:v for k,v in zip(mlplan_label, list(range(1, len(mlplan_label)+1 )))}}\n",
    "mlprovider_repl = {'provider_name':{k:v for k,v in zip(mlprovider_label, list(range(1, len(mlprovider_label)+1 )))}}\n",
    "mlcompany_repl = {'company':{k:v for k,v in zip(mlcompany_label, list(range(1, len(mlcompany_label)+1 )))}}"
   ]
  },
  {
   "cell_type": "code",
   "execution_count": 58,
   "metadata": {},
   "outputs": [],
   "source": [
    "# Carry out columns value replacement operation\n",
    "\n",
    "data_ml.replace(mlplan_repl, inplace=True)\n",
    "data_ml.replace(mlprovider_repl, inplace=True)\n",
    "data_ml.replace(mlcompany_repl, inplace=True)\n"
   ]
  },
  {
   "cell_type": "code",
   "execution_count": 59,
   "metadata": {},
   "outputs": [
    {
     "data": {
      "text/html": [
       "<div>\n",
       "<style scoped>\n",
       "    .dataframe tbody tr th:only-of-type {\n",
       "        vertical-align: middle;\n",
       "    }\n",
       "\n",
       "    .dataframe tbody tr th {\n",
       "        vertical-align: top;\n",
       "    }\n",
       "\n",
       "    .dataframe thead th {\n",
       "        text-align: right;\n",
       "    }\n",
       "</style>\n",
       "<table border=\"1\" class=\"dataframe\">\n",
       "  <thead>\n",
       "    <tr style=\"text-align: right;\">\n",
       "      <th></th>\n",
       "      <th>age</th>\n",
       "      <th>plan</th>\n",
       "      <th>company</th>\n",
       "      <th>provider_name</th>\n",
       "      <th>patient_encounter_date</th>\n",
       "      <th>medical_claims_submission_date</th>\n",
       "      <th>payment_date</th>\n",
       "      <th>diagnosis</th>\n",
       "      <th>total_price</th>\n",
       "      <th>sex_f</th>\n",
       "      <th>sex_m</th>\n",
       "      <th>service_inpatient</th>\n",
       "      <th>service_outpatient</th>\n",
       "    </tr>\n",
       "  </thead>\n",
       "  <tbody>\n",
       "    <tr>\n",
       "      <td>0</td>\n",
       "      <td>29</td>\n",
       "      <td>43</td>\n",
       "      <td>1</td>\n",
       "      <td>131</td>\n",
       "      <td>1997-12-12</td>\n",
       "      <td>1998-01-02</td>\n",
       "      <td>1998-01-02</td>\n",
       "      <td>ACUTE MALARIA WITH URTI</td>\n",
       "      <td>17000.00</td>\n",
       "      <td>0</td>\n",
       "      <td>1</td>\n",
       "      <td>0</td>\n",
       "      <td>1</td>\n",
       "    </tr>\n",
       "    <tr>\n",
       "      <td>1</td>\n",
       "      <td>31</td>\n",
       "      <td>57</td>\n",
       "      <td>1</td>\n",
       "      <td>47</td>\n",
       "      <td>1997-12-24</td>\n",
       "      <td>1998-01-02</td>\n",
       "      <td>1998-01-02</td>\n",
       "      <td>LEFT MODERATE TO PROFOUND SNHL</td>\n",
       "      <td>20000.00</td>\n",
       "      <td>1</td>\n",
       "      <td>0</td>\n",
       "      <td>0</td>\n",
       "      <td>1</td>\n",
       "    </tr>\n",
       "    <tr>\n",
       "      <td>2</td>\n",
       "      <td>31</td>\n",
       "      <td>57</td>\n",
       "      <td>1</td>\n",
       "      <td>47</td>\n",
       "      <td>1997-12-28</td>\n",
       "      <td>1998-01-02</td>\n",
       "      <td>1998-01-02</td>\n",
       "      <td>LEFT MODERATE TO PROFOUND SNHL</td>\n",
       "      <td>15000.00</td>\n",
       "      <td>1</td>\n",
       "      <td>0</td>\n",
       "      <td>1</td>\n",
       "      <td>0</td>\n",
       "    </tr>\n",
       "    <tr>\n",
       "      <td>3</td>\n",
       "      <td>23</td>\n",
       "      <td>57</td>\n",
       "      <td>1</td>\n",
       "      <td>50</td>\n",
       "      <td>1997-12-19</td>\n",
       "      <td>1998-01-03</td>\n",
       "      <td>1998-01-09</td>\n",
       "      <td>URTI</td>\n",
       "      <td>2160.00</td>\n",
       "      <td>0</td>\n",
       "      <td>1</td>\n",
       "      <td>0</td>\n",
       "      <td>1</td>\n",
       "    </tr>\n",
       "    <tr>\n",
       "      <td>4</td>\n",
       "      <td>30</td>\n",
       "      <td>43</td>\n",
       "      <td>1</td>\n",
       "      <td>131</td>\n",
       "      <td>1997-12-01</td>\n",
       "      <td>1998-01-04</td>\n",
       "      <td>1998-01-09</td>\n",
       "      <td>PLASMODIASIS</td>\n",
       "      <td>10399.99</td>\n",
       "      <td>1</td>\n",
       "      <td>0</td>\n",
       "      <td>0</td>\n",
       "      <td>1</td>\n",
       "    </tr>\n",
       "  </tbody>\n",
       "</table>\n",
       "</div>"
      ],
      "text/plain": [
       "   age  plan  company  provider_name patient_encounter_date  \\\n",
       "0   29    43        1            131             1997-12-12   \n",
       "1   31    57        1             47             1997-12-24   \n",
       "2   31    57        1             47             1997-12-28   \n",
       "3   23    57        1             50             1997-12-19   \n",
       "4   30    43        1            131             1997-12-01   \n",
       "\n",
       "  medical_claims_submission_date payment_date                       diagnosis  \\\n",
       "0                     1998-01-02   1998-01-02         ACUTE MALARIA WITH URTI   \n",
       "1                     1998-01-02   1998-01-02  LEFT MODERATE TO PROFOUND SNHL   \n",
       "2                     1998-01-02   1998-01-02  LEFT MODERATE TO PROFOUND SNHL   \n",
       "3                     1998-01-03   1998-01-09                            URTI   \n",
       "4                     1998-01-04   1998-01-09                    PLASMODIASIS   \n",
       "\n",
       "   total_price  sex_f  sex_m  service_inpatient  service_outpatient  \n",
       "0     17000.00      0      1                  0                   1  \n",
       "1     20000.00      1      0                  0                   1  \n",
       "2     15000.00      1      0                  1                   0  \n",
       "3      2160.00      0      1                  0                   1  \n",
       "4     10399.99      1      0                  0                   1  "
      ]
     },
     "execution_count": 59,
     "metadata": {},
     "output_type": "execute_result"
    }
   ],
   "source": [
    "data_ml.head()"
   ]
  },
  {
   "cell_type": "markdown",
   "metadata": {},
   "source": [
    "We now go on to extract date features from Patient_encounter, medical_claims_submission and payment dates"
   ]
  },
  {
   "cell_type": "code",
   "execution_count": 60,
   "metadata": {},
   "outputs": [],
   "source": [
    "# Extracting date features from datetime columns\n",
    "\n",
    "# patient_encounter_date feature\n",
    "data_ml['pxt_month'] = data_ml.patient_encounter_date.dt.month\n",
    "data_ml['pxt_week'] = data_ml.patient_encounter_date.dt.week\n",
    "data_ml['pxt_day'] = data_ml.patient_encounter_date.dt.day\n",
    "data_ml['pxt_dayofweek'] = data_ml.patient_encounter_date.dt.dayofweek\n",
    "\n",
    "# medical_claims_submission_date feature\n",
    "data_ml['med_subm_month'] = data_ml.medical_claims_submission_date.dt.month\n",
    "data_ml['med_subm_week'] = data_ml.medical_claims_submission_date.dt.week\n",
    "data_ml['med_subm_day'] = data_ml.medical_claims_submission_date.dt.day\n",
    "data_ml['med_subm_dayofweek'] = data_ml.medical_claims_submission_date.dt.month\n",
    "\n",
    "#payment_date feature\n",
    "data_ml['payment_month']= data_ml.payment_date.dt.month\n",
    "data_ml['payment_week']= data_ml.payment_date.dt.week\n",
    "data_ml['payment_day']= data_ml.payment_date.dt.day\n",
    "data_ml['payment_dayofweek']= data_ml.payment_date.dt.dayofweek\n"
   ]
  },
  {
   "cell_type": "code",
   "execution_count": 61,
   "metadata": {},
   "outputs": [
    {
     "data": {
      "text/html": [
       "<div>\n",
       "<style scoped>\n",
       "    .dataframe tbody tr th:only-of-type {\n",
       "        vertical-align: middle;\n",
       "    }\n",
       "\n",
       "    .dataframe tbody tr th {\n",
       "        vertical-align: top;\n",
       "    }\n",
       "\n",
       "    .dataframe thead th {\n",
       "        text-align: right;\n",
       "    }\n",
       "</style>\n",
       "<table border=\"1\" class=\"dataframe\">\n",
       "  <thead>\n",
       "    <tr style=\"text-align: right;\">\n",
       "      <th></th>\n",
       "      <th>age</th>\n",
       "      <th>plan</th>\n",
       "      <th>company</th>\n",
       "      <th>provider_name</th>\n",
       "      <th>patient_encounter_date</th>\n",
       "      <th>medical_claims_submission_date</th>\n",
       "      <th>payment_date</th>\n",
       "      <th>diagnosis</th>\n",
       "      <th>total_price</th>\n",
       "      <th>sex_f</th>\n",
       "      <th>...</th>\n",
       "      <th>pxt_day</th>\n",
       "      <th>pxt_dayofweek</th>\n",
       "      <th>med_subm_month</th>\n",
       "      <th>med_subm_week</th>\n",
       "      <th>med_subm_day</th>\n",
       "      <th>med_subm_dayofweek</th>\n",
       "      <th>payment_month</th>\n",
       "      <th>payment_week</th>\n",
       "      <th>payment_day</th>\n",
       "      <th>payment_dayofweek</th>\n",
       "    </tr>\n",
       "  </thead>\n",
       "  <tbody>\n",
       "    <tr>\n",
       "      <td>0</td>\n",
       "      <td>29</td>\n",
       "      <td>43</td>\n",
       "      <td>1</td>\n",
       "      <td>131</td>\n",
       "      <td>1997-12-12</td>\n",
       "      <td>1998-01-02</td>\n",
       "      <td>1998-01-02</td>\n",
       "      <td>ACUTE MALARIA WITH URTI</td>\n",
       "      <td>17000.00</td>\n",
       "      <td>0</td>\n",
       "      <td>...</td>\n",
       "      <td>12</td>\n",
       "      <td>4</td>\n",
       "      <td>1</td>\n",
       "      <td>1</td>\n",
       "      <td>2</td>\n",
       "      <td>1</td>\n",
       "      <td>1</td>\n",
       "      <td>1</td>\n",
       "      <td>2</td>\n",
       "      <td>4</td>\n",
       "    </tr>\n",
       "    <tr>\n",
       "      <td>1</td>\n",
       "      <td>31</td>\n",
       "      <td>57</td>\n",
       "      <td>1</td>\n",
       "      <td>47</td>\n",
       "      <td>1997-12-24</td>\n",
       "      <td>1998-01-02</td>\n",
       "      <td>1998-01-02</td>\n",
       "      <td>LEFT MODERATE TO PROFOUND SNHL</td>\n",
       "      <td>20000.00</td>\n",
       "      <td>1</td>\n",
       "      <td>...</td>\n",
       "      <td>24</td>\n",
       "      <td>2</td>\n",
       "      <td>1</td>\n",
       "      <td>1</td>\n",
       "      <td>2</td>\n",
       "      <td>1</td>\n",
       "      <td>1</td>\n",
       "      <td>1</td>\n",
       "      <td>2</td>\n",
       "      <td>4</td>\n",
       "    </tr>\n",
       "    <tr>\n",
       "      <td>2</td>\n",
       "      <td>31</td>\n",
       "      <td>57</td>\n",
       "      <td>1</td>\n",
       "      <td>47</td>\n",
       "      <td>1997-12-28</td>\n",
       "      <td>1998-01-02</td>\n",
       "      <td>1998-01-02</td>\n",
       "      <td>LEFT MODERATE TO PROFOUND SNHL</td>\n",
       "      <td>15000.00</td>\n",
       "      <td>1</td>\n",
       "      <td>...</td>\n",
       "      <td>28</td>\n",
       "      <td>6</td>\n",
       "      <td>1</td>\n",
       "      <td>1</td>\n",
       "      <td>2</td>\n",
       "      <td>1</td>\n",
       "      <td>1</td>\n",
       "      <td>1</td>\n",
       "      <td>2</td>\n",
       "      <td>4</td>\n",
       "    </tr>\n",
       "    <tr>\n",
       "      <td>3</td>\n",
       "      <td>23</td>\n",
       "      <td>57</td>\n",
       "      <td>1</td>\n",
       "      <td>50</td>\n",
       "      <td>1997-12-19</td>\n",
       "      <td>1998-01-03</td>\n",
       "      <td>1998-01-09</td>\n",
       "      <td>URTI</td>\n",
       "      <td>2160.00</td>\n",
       "      <td>0</td>\n",
       "      <td>...</td>\n",
       "      <td>19</td>\n",
       "      <td>4</td>\n",
       "      <td>1</td>\n",
       "      <td>1</td>\n",
       "      <td>3</td>\n",
       "      <td>1</td>\n",
       "      <td>1</td>\n",
       "      <td>2</td>\n",
       "      <td>9</td>\n",
       "      <td>4</td>\n",
       "    </tr>\n",
       "    <tr>\n",
       "      <td>4</td>\n",
       "      <td>30</td>\n",
       "      <td>43</td>\n",
       "      <td>1</td>\n",
       "      <td>131</td>\n",
       "      <td>1997-12-01</td>\n",
       "      <td>1998-01-04</td>\n",
       "      <td>1998-01-09</td>\n",
       "      <td>PLASMODIASIS</td>\n",
       "      <td>10399.99</td>\n",
       "      <td>1</td>\n",
       "      <td>...</td>\n",
       "      <td>1</td>\n",
       "      <td>0</td>\n",
       "      <td>1</td>\n",
       "      <td>1</td>\n",
       "      <td>4</td>\n",
       "      <td>1</td>\n",
       "      <td>1</td>\n",
       "      <td>2</td>\n",
       "      <td>9</td>\n",
       "      <td>4</td>\n",
       "    </tr>\n",
       "  </tbody>\n",
       "</table>\n",
       "<p>5 rows × 25 columns</p>\n",
       "</div>"
      ],
      "text/plain": [
       "   age  plan  company  provider_name patient_encounter_date  \\\n",
       "0   29    43        1            131             1997-12-12   \n",
       "1   31    57        1             47             1997-12-24   \n",
       "2   31    57        1             47             1997-12-28   \n",
       "3   23    57        1             50             1997-12-19   \n",
       "4   30    43        1            131             1997-12-01   \n",
       "\n",
       "  medical_claims_submission_date payment_date                       diagnosis  \\\n",
       "0                     1998-01-02   1998-01-02         ACUTE MALARIA WITH URTI   \n",
       "1                     1998-01-02   1998-01-02  LEFT MODERATE TO PROFOUND SNHL   \n",
       "2                     1998-01-02   1998-01-02  LEFT MODERATE TO PROFOUND SNHL   \n",
       "3                     1998-01-03   1998-01-09                            URTI   \n",
       "4                     1998-01-04   1998-01-09                    PLASMODIASIS   \n",
       "\n",
       "   total_price  sex_f  ...  pxt_day  pxt_dayofweek  med_subm_month  \\\n",
       "0     17000.00      0  ...       12              4               1   \n",
       "1     20000.00      1  ...       24              2               1   \n",
       "2     15000.00      1  ...       28              6               1   \n",
       "3      2160.00      0  ...       19              4               1   \n",
       "4     10399.99      1  ...        1              0               1   \n",
       "\n",
       "   med_subm_week  med_subm_day  med_subm_dayofweek  payment_month  \\\n",
       "0              1             2                   1              1   \n",
       "1              1             2                   1              1   \n",
       "2              1             2                   1              1   \n",
       "3              1             3                   1              1   \n",
       "4              1             4                   1              1   \n",
       "\n",
       "   payment_week  payment_day  payment_dayofweek  \n",
       "0             1            2                  4  \n",
       "1             1            2                  4  \n",
       "2             1            2                  4  \n",
       "3             2            9                  4  \n",
       "4             2            9                  4  \n",
       "\n",
       "[5 rows x 25 columns]"
      ]
     },
     "execution_count": 61,
     "metadata": {},
     "output_type": "execute_result"
    }
   ],
   "source": [
    "data_ml.head()"
   ]
  },
  {
   "cell_type": "code",
   "execution_count": 62,
   "metadata": {},
   "outputs": [],
   "source": [
    "data_ml_final = data_ml.select_dtypes(exclude=['datetime64[ns]', 'object'])"
   ]
  },
  {
   "cell_type": "code",
   "execution_count": 63,
   "metadata": {},
   "outputs": [
    {
     "data": {
      "text/html": [
       "<div>\n",
       "<style scoped>\n",
       "    .dataframe tbody tr th:only-of-type {\n",
       "        vertical-align: middle;\n",
       "    }\n",
       "\n",
       "    .dataframe tbody tr th {\n",
       "        vertical-align: top;\n",
       "    }\n",
       "\n",
       "    .dataframe thead th {\n",
       "        text-align: right;\n",
       "    }\n",
       "</style>\n",
       "<table border=\"1\" class=\"dataframe\">\n",
       "  <thead>\n",
       "    <tr style=\"text-align: right;\">\n",
       "      <th></th>\n",
       "      <th>age</th>\n",
       "      <th>plan</th>\n",
       "      <th>company</th>\n",
       "      <th>provider_name</th>\n",
       "      <th>total_price</th>\n",
       "      <th>sex_f</th>\n",
       "      <th>sex_m</th>\n",
       "      <th>service_inpatient</th>\n",
       "      <th>service_outpatient</th>\n",
       "      <th>pxt_month</th>\n",
       "      <th>...</th>\n",
       "      <th>pxt_day</th>\n",
       "      <th>pxt_dayofweek</th>\n",
       "      <th>med_subm_month</th>\n",
       "      <th>med_subm_week</th>\n",
       "      <th>med_subm_day</th>\n",
       "      <th>med_subm_dayofweek</th>\n",
       "      <th>payment_month</th>\n",
       "      <th>payment_week</th>\n",
       "      <th>payment_day</th>\n",
       "      <th>payment_dayofweek</th>\n",
       "    </tr>\n",
       "  </thead>\n",
       "  <tbody>\n",
       "    <tr>\n",
       "      <td>0</td>\n",
       "      <td>29</td>\n",
       "      <td>43</td>\n",
       "      <td>1</td>\n",
       "      <td>131</td>\n",
       "      <td>17000.00</td>\n",
       "      <td>0</td>\n",
       "      <td>1</td>\n",
       "      <td>0</td>\n",
       "      <td>1</td>\n",
       "      <td>12</td>\n",
       "      <td>...</td>\n",
       "      <td>12</td>\n",
       "      <td>4</td>\n",
       "      <td>1</td>\n",
       "      <td>1</td>\n",
       "      <td>2</td>\n",
       "      <td>1</td>\n",
       "      <td>1</td>\n",
       "      <td>1</td>\n",
       "      <td>2</td>\n",
       "      <td>4</td>\n",
       "    </tr>\n",
       "    <tr>\n",
       "      <td>1</td>\n",
       "      <td>31</td>\n",
       "      <td>57</td>\n",
       "      <td>1</td>\n",
       "      <td>47</td>\n",
       "      <td>20000.00</td>\n",
       "      <td>1</td>\n",
       "      <td>0</td>\n",
       "      <td>0</td>\n",
       "      <td>1</td>\n",
       "      <td>12</td>\n",
       "      <td>...</td>\n",
       "      <td>24</td>\n",
       "      <td>2</td>\n",
       "      <td>1</td>\n",
       "      <td>1</td>\n",
       "      <td>2</td>\n",
       "      <td>1</td>\n",
       "      <td>1</td>\n",
       "      <td>1</td>\n",
       "      <td>2</td>\n",
       "      <td>4</td>\n",
       "    </tr>\n",
       "    <tr>\n",
       "      <td>2</td>\n",
       "      <td>31</td>\n",
       "      <td>57</td>\n",
       "      <td>1</td>\n",
       "      <td>47</td>\n",
       "      <td>15000.00</td>\n",
       "      <td>1</td>\n",
       "      <td>0</td>\n",
       "      <td>1</td>\n",
       "      <td>0</td>\n",
       "      <td>12</td>\n",
       "      <td>...</td>\n",
       "      <td>28</td>\n",
       "      <td>6</td>\n",
       "      <td>1</td>\n",
       "      <td>1</td>\n",
       "      <td>2</td>\n",
       "      <td>1</td>\n",
       "      <td>1</td>\n",
       "      <td>1</td>\n",
       "      <td>2</td>\n",
       "      <td>4</td>\n",
       "    </tr>\n",
       "    <tr>\n",
       "      <td>3</td>\n",
       "      <td>23</td>\n",
       "      <td>57</td>\n",
       "      <td>1</td>\n",
       "      <td>50</td>\n",
       "      <td>2160.00</td>\n",
       "      <td>0</td>\n",
       "      <td>1</td>\n",
       "      <td>0</td>\n",
       "      <td>1</td>\n",
       "      <td>12</td>\n",
       "      <td>...</td>\n",
       "      <td>19</td>\n",
       "      <td>4</td>\n",
       "      <td>1</td>\n",
       "      <td>1</td>\n",
       "      <td>3</td>\n",
       "      <td>1</td>\n",
       "      <td>1</td>\n",
       "      <td>2</td>\n",
       "      <td>9</td>\n",
       "      <td>4</td>\n",
       "    </tr>\n",
       "    <tr>\n",
       "      <td>4</td>\n",
       "      <td>30</td>\n",
       "      <td>43</td>\n",
       "      <td>1</td>\n",
       "      <td>131</td>\n",
       "      <td>10399.99</td>\n",
       "      <td>1</td>\n",
       "      <td>0</td>\n",
       "      <td>0</td>\n",
       "      <td>1</td>\n",
       "      <td>12</td>\n",
       "      <td>...</td>\n",
       "      <td>1</td>\n",
       "      <td>0</td>\n",
       "      <td>1</td>\n",
       "      <td>1</td>\n",
       "      <td>4</td>\n",
       "      <td>1</td>\n",
       "      <td>1</td>\n",
       "      <td>2</td>\n",
       "      <td>9</td>\n",
       "      <td>4</td>\n",
       "    </tr>\n",
       "  </tbody>\n",
       "</table>\n",
       "<p>5 rows × 21 columns</p>\n",
       "</div>"
      ],
      "text/plain": [
       "   age  plan  company  provider_name  total_price  sex_f  sex_m  \\\n",
       "0   29    43        1            131     17000.00      0      1   \n",
       "1   31    57        1             47     20000.00      1      0   \n",
       "2   31    57        1             47     15000.00      1      0   \n",
       "3   23    57        1             50      2160.00      0      1   \n",
       "4   30    43        1            131     10399.99      1      0   \n",
       "\n",
       "   service_inpatient  service_outpatient  pxt_month  ...  pxt_day  \\\n",
       "0                  0                   1         12  ...       12   \n",
       "1                  0                   1         12  ...       24   \n",
       "2                  1                   0         12  ...       28   \n",
       "3                  0                   1         12  ...       19   \n",
       "4                  0                   1         12  ...        1   \n",
       "\n",
       "   pxt_dayofweek  med_subm_month  med_subm_week  med_subm_day  \\\n",
       "0              4               1              1             2   \n",
       "1              2               1              1             2   \n",
       "2              6               1              1             2   \n",
       "3              4               1              1             3   \n",
       "4              0               1              1             4   \n",
       "\n",
       "   med_subm_dayofweek  payment_month  payment_week  payment_day  \\\n",
       "0                   1              1             1            2   \n",
       "1                   1              1             1            2   \n",
       "2                   1              1             1            2   \n",
       "3                   1              1             2            9   \n",
       "4                   1              1             2            9   \n",
       "\n",
       "   payment_dayofweek  \n",
       "0                  4  \n",
       "1                  4  \n",
       "2                  4  \n",
       "3                  4  \n",
       "4                  4  \n",
       "\n",
       "[5 rows x 21 columns]"
      ]
     },
     "execution_count": 63,
     "metadata": {},
     "output_type": "execute_result"
    }
   ],
   "source": [
    "data_ml_final.head()"
   ]
  },
  {
   "cell_type": "code",
   "execution_count": 64,
   "metadata": {},
   "outputs": [],
   "source": [
    "# rearranging the dataframe columns, such that we have the predicted column at the end\n",
    "\n",
    "data_ml_final = data_ml_final[[col for col in data_ml_final.columns if col!= 'total_price'] + ['total_price']]"
   ]
  },
  {
   "cell_type": "code",
   "execution_count": 65,
   "metadata": {},
   "outputs": [
    {
     "data": {
      "text/html": [
       "<div>\n",
       "<style scoped>\n",
       "    .dataframe tbody tr th:only-of-type {\n",
       "        vertical-align: middle;\n",
       "    }\n",
       "\n",
       "    .dataframe tbody tr th {\n",
       "        vertical-align: top;\n",
       "    }\n",
       "\n",
       "    .dataframe thead th {\n",
       "        text-align: right;\n",
       "    }\n",
       "</style>\n",
       "<table border=\"1\" class=\"dataframe\">\n",
       "  <thead>\n",
       "    <tr style=\"text-align: right;\">\n",
       "      <th></th>\n",
       "      <th>age</th>\n",
       "      <th>plan</th>\n",
       "      <th>company</th>\n",
       "      <th>provider_name</th>\n",
       "      <th>sex_f</th>\n",
       "      <th>sex_m</th>\n",
       "      <th>service_inpatient</th>\n",
       "      <th>service_outpatient</th>\n",
       "      <th>pxt_month</th>\n",
       "      <th>pxt_week</th>\n",
       "      <th>...</th>\n",
       "      <th>pxt_dayofweek</th>\n",
       "      <th>med_subm_month</th>\n",
       "      <th>med_subm_week</th>\n",
       "      <th>med_subm_day</th>\n",
       "      <th>med_subm_dayofweek</th>\n",
       "      <th>payment_month</th>\n",
       "      <th>payment_week</th>\n",
       "      <th>payment_day</th>\n",
       "      <th>payment_dayofweek</th>\n",
       "      <th>total_price</th>\n",
       "    </tr>\n",
       "  </thead>\n",
       "  <tbody>\n",
       "    <tr>\n",
       "      <td>0</td>\n",
       "      <td>29</td>\n",
       "      <td>43</td>\n",
       "      <td>1</td>\n",
       "      <td>131</td>\n",
       "      <td>0</td>\n",
       "      <td>1</td>\n",
       "      <td>0</td>\n",
       "      <td>1</td>\n",
       "      <td>12</td>\n",
       "      <td>50</td>\n",
       "      <td>...</td>\n",
       "      <td>4</td>\n",
       "      <td>1</td>\n",
       "      <td>1</td>\n",
       "      <td>2</td>\n",
       "      <td>1</td>\n",
       "      <td>1</td>\n",
       "      <td>1</td>\n",
       "      <td>2</td>\n",
       "      <td>4</td>\n",
       "      <td>17000.00</td>\n",
       "    </tr>\n",
       "    <tr>\n",
       "      <td>1</td>\n",
       "      <td>31</td>\n",
       "      <td>57</td>\n",
       "      <td>1</td>\n",
       "      <td>47</td>\n",
       "      <td>1</td>\n",
       "      <td>0</td>\n",
       "      <td>0</td>\n",
       "      <td>1</td>\n",
       "      <td>12</td>\n",
       "      <td>52</td>\n",
       "      <td>...</td>\n",
       "      <td>2</td>\n",
       "      <td>1</td>\n",
       "      <td>1</td>\n",
       "      <td>2</td>\n",
       "      <td>1</td>\n",
       "      <td>1</td>\n",
       "      <td>1</td>\n",
       "      <td>2</td>\n",
       "      <td>4</td>\n",
       "      <td>20000.00</td>\n",
       "    </tr>\n",
       "    <tr>\n",
       "      <td>2</td>\n",
       "      <td>31</td>\n",
       "      <td>57</td>\n",
       "      <td>1</td>\n",
       "      <td>47</td>\n",
       "      <td>1</td>\n",
       "      <td>0</td>\n",
       "      <td>1</td>\n",
       "      <td>0</td>\n",
       "      <td>12</td>\n",
       "      <td>52</td>\n",
       "      <td>...</td>\n",
       "      <td>6</td>\n",
       "      <td>1</td>\n",
       "      <td>1</td>\n",
       "      <td>2</td>\n",
       "      <td>1</td>\n",
       "      <td>1</td>\n",
       "      <td>1</td>\n",
       "      <td>2</td>\n",
       "      <td>4</td>\n",
       "      <td>15000.00</td>\n",
       "    </tr>\n",
       "    <tr>\n",
       "      <td>3</td>\n",
       "      <td>23</td>\n",
       "      <td>57</td>\n",
       "      <td>1</td>\n",
       "      <td>50</td>\n",
       "      <td>0</td>\n",
       "      <td>1</td>\n",
       "      <td>0</td>\n",
       "      <td>1</td>\n",
       "      <td>12</td>\n",
       "      <td>51</td>\n",
       "      <td>...</td>\n",
       "      <td>4</td>\n",
       "      <td>1</td>\n",
       "      <td>1</td>\n",
       "      <td>3</td>\n",
       "      <td>1</td>\n",
       "      <td>1</td>\n",
       "      <td>2</td>\n",
       "      <td>9</td>\n",
       "      <td>4</td>\n",
       "      <td>2160.00</td>\n",
       "    </tr>\n",
       "    <tr>\n",
       "      <td>4</td>\n",
       "      <td>30</td>\n",
       "      <td>43</td>\n",
       "      <td>1</td>\n",
       "      <td>131</td>\n",
       "      <td>1</td>\n",
       "      <td>0</td>\n",
       "      <td>0</td>\n",
       "      <td>1</td>\n",
       "      <td>12</td>\n",
       "      <td>49</td>\n",
       "      <td>...</td>\n",
       "      <td>0</td>\n",
       "      <td>1</td>\n",
       "      <td>1</td>\n",
       "      <td>4</td>\n",
       "      <td>1</td>\n",
       "      <td>1</td>\n",
       "      <td>2</td>\n",
       "      <td>9</td>\n",
       "      <td>4</td>\n",
       "      <td>10399.99</td>\n",
       "    </tr>\n",
       "  </tbody>\n",
       "</table>\n",
       "<p>5 rows × 21 columns</p>\n",
       "</div>"
      ],
      "text/plain": [
       "   age  plan  company  provider_name  sex_f  sex_m  service_inpatient  \\\n",
       "0   29    43        1            131      0      1                  0   \n",
       "1   31    57        1             47      1      0                  0   \n",
       "2   31    57        1             47      1      0                  1   \n",
       "3   23    57        1             50      0      1                  0   \n",
       "4   30    43        1            131      1      0                  0   \n",
       "\n",
       "   service_outpatient  pxt_month  pxt_week  ...  pxt_dayofweek  \\\n",
       "0                   1         12        50  ...              4   \n",
       "1                   1         12        52  ...              2   \n",
       "2                   0         12        52  ...              6   \n",
       "3                   1         12        51  ...              4   \n",
       "4                   1         12        49  ...              0   \n",
       "\n",
       "   med_subm_month  med_subm_week  med_subm_day  med_subm_dayofweek  \\\n",
       "0               1              1             2                   1   \n",
       "1               1              1             2                   1   \n",
       "2               1              1             2                   1   \n",
       "3               1              1             3                   1   \n",
       "4               1              1             4                   1   \n",
       "\n",
       "   payment_month  payment_week  payment_day  payment_dayofweek  total_price  \n",
       "0              1             1            2                  4     17000.00  \n",
       "1              1             1            2                  4     20000.00  \n",
       "2              1             1            2                  4     15000.00  \n",
       "3              1             2            9                  4      2160.00  \n",
       "4              1             2            9                  4     10399.99  \n",
       "\n",
       "[5 rows x 21 columns]"
      ]
     },
     "execution_count": 65,
     "metadata": {},
     "output_type": "execute_result"
    }
   ],
   "source": [
    "data_ml_final.head()"
   ]
  },
  {
   "cell_type": "markdown",
   "metadata": {},
   "source": [
    "### Data Standardization"
   ]
  },
  {
   "cell_type": "markdown",
   "metadata": {},
   "source": [
    "Before going ahead to group into clusters, we first standardize the dataset to avoid bias, especially when the intended algorithm does not have a built-in function to accommodate this tendency."
   ]
  },
  {
   "cell_type": "code",
   "execution_count": 66,
   "metadata": {},
   "outputs": [
    {
     "data": {
      "text/plain": [
       "array([ 0., -0., -0.,  0., -0.,  0.,  0., -0., -0., -0., -0., -0.,  0.,\n",
       "       -0., -0.,  0.,  0., -0.,  0.,  0., -0.])"
      ]
     },
     "execution_count": 66,
     "metadata": {},
     "output_type": "execute_result"
    }
   ],
   "source": [
    "x_sca = data_ml_final.values\n",
    "\n",
    "scale = StandardScaler()\n",
    "standard = scale.fit_transform(x_sca)\n",
    "\n",
    "standard.mean(axis=0).round(2)    #check that the means are equal to zero(0)"
   ]
  },
  {
   "cell_type": "code",
   "execution_count": 67,
   "metadata": {},
   "outputs": [
    {
     "data": {
      "text/plain": [
       "array([1., 1., 1., 1., 1., 1., 1., 1., 1., 1., 1., 1., 1., 1., 1., 1., 1.,\n",
       "       1., 1., 1., 1.])"
      ]
     },
     "execution_count": 67,
     "metadata": {},
     "output_type": "execute_result"
    }
   ],
   "source": [
    "standard.std(axis=0).round(2)     #check that the standard deviations are equal to one(1)"
   ]
  },
  {
   "cell_type": "code",
   "execution_count": 69,
   "metadata": {},
   "outputs": [
    {
     "data": {
      "text/html": [
       "<div>\n",
       "<style scoped>\n",
       "    .dataframe tbody tr th:only-of-type {\n",
       "        vertical-align: middle;\n",
       "    }\n",
       "\n",
       "    .dataframe tbody tr th {\n",
       "        vertical-align: top;\n",
       "    }\n",
       "\n",
       "    .dataframe thead th {\n",
       "        text-align: right;\n",
       "    }\n",
       "</style>\n",
       "<table border=\"1\" class=\"dataframe\">\n",
       "  <thead>\n",
       "    <tr style=\"text-align: right;\">\n",
       "      <th></th>\n",
       "      <th>age</th>\n",
       "      <th>plan</th>\n",
       "      <th>company</th>\n",
       "      <th>provider_name</th>\n",
       "      <th>sex_f</th>\n",
       "      <th>sex_m</th>\n",
       "      <th>service_inpatient</th>\n",
       "      <th>service_outpatient</th>\n",
       "      <th>pxt_month</th>\n",
       "      <th>pxt_week</th>\n",
       "      <th>...</th>\n",
       "      <th>pxt_dayofweek</th>\n",
       "      <th>med_subm_month</th>\n",
       "      <th>med_subm_week</th>\n",
       "      <th>med_subm_day</th>\n",
       "      <th>med_subm_dayofweek</th>\n",
       "      <th>payment_month</th>\n",
       "      <th>payment_week</th>\n",
       "      <th>payment_day</th>\n",
       "      <th>payment_dayofweek</th>\n",
       "      <th>total_price</th>\n",
       "    </tr>\n",
       "  </thead>\n",
       "  <tbody>\n",
       "    <tr>\n",
       "      <td>0</td>\n",
       "      <td>-0.096448</td>\n",
       "      <td>0.551068</td>\n",
       "      <td>-0.837749</td>\n",
       "      <td>-0.277585</td>\n",
       "      <td>-0.896159</td>\n",
       "      <td>0.896159</td>\n",
       "      <td>-0.269260</td>\n",
       "      <td>0.269260</td>\n",
       "      <td>1.142471</td>\n",
       "      <td>1.070673</td>\n",
       "      <td>...</td>\n",
       "      <td>0.39679</td>\n",
       "      <td>-1.348576</td>\n",
       "      <td>-1.467748</td>\n",
       "      <td>-1.475514</td>\n",
       "      <td>-1.348576</td>\n",
       "      <td>-1.299600</td>\n",
       "      <td>-1.420138</td>\n",
       "      <td>-1.593895</td>\n",
       "      <td>0.140508</td>\n",
       "      <td>0.413317</td>\n",
       "    </tr>\n",
       "    <tr>\n",
       "      <td>1</td>\n",
       "      <td>0.035636</td>\n",
       "      <td>1.514980</td>\n",
       "      <td>-0.837749</td>\n",
       "      <td>-1.279404</td>\n",
       "      <td>1.115873</td>\n",
       "      <td>-1.115873</td>\n",
       "      <td>-0.269260</td>\n",
       "      <td>0.269260</td>\n",
       "      <td>1.142471</td>\n",
       "      <td>1.183262</td>\n",
       "      <td>...</td>\n",
       "      <td>-0.60243</td>\n",
       "      <td>-1.348576</td>\n",
       "      <td>-1.467748</td>\n",
       "      <td>-1.475514</td>\n",
       "      <td>-1.348576</td>\n",
       "      <td>-1.299600</td>\n",
       "      <td>-1.420138</td>\n",
       "      <td>-1.593895</td>\n",
       "      <td>0.140508</td>\n",
       "      <td>0.580620</td>\n",
       "    </tr>\n",
       "    <tr>\n",
       "      <td>2</td>\n",
       "      <td>0.035636</td>\n",
       "      <td>1.514980</td>\n",
       "      <td>-0.837749</td>\n",
       "      <td>-1.279404</td>\n",
       "      <td>1.115873</td>\n",
       "      <td>-1.115873</td>\n",
       "      <td>3.713879</td>\n",
       "      <td>-3.713879</td>\n",
       "      <td>1.142471</td>\n",
       "      <td>1.183262</td>\n",
       "      <td>...</td>\n",
       "      <td>1.39601</td>\n",
       "      <td>-1.348576</td>\n",
       "      <td>-1.467748</td>\n",
       "      <td>-1.475514</td>\n",
       "      <td>-1.348576</td>\n",
       "      <td>-1.299600</td>\n",
       "      <td>-1.420138</td>\n",
       "      <td>-1.593895</td>\n",
       "      <td>0.140508</td>\n",
       "      <td>0.301782</td>\n",
       "    </tr>\n",
       "    <tr>\n",
       "      <td>3</td>\n",
       "      <td>-0.492701</td>\n",
       "      <td>1.514980</td>\n",
       "      <td>-0.837749</td>\n",
       "      <td>-1.243625</td>\n",
       "      <td>-0.896159</td>\n",
       "      <td>0.896159</td>\n",
       "      <td>-0.269260</td>\n",
       "      <td>0.269260</td>\n",
       "      <td>1.142471</td>\n",
       "      <td>1.126968</td>\n",
       "      <td>...</td>\n",
       "      <td>0.39679</td>\n",
       "      <td>-1.348576</td>\n",
       "      <td>-1.467748</td>\n",
       "      <td>-1.363405</td>\n",
       "      <td>-1.348576</td>\n",
       "      <td>-1.299600</td>\n",
       "      <td>-1.367794</td>\n",
       "      <td>-0.767566</td>\n",
       "      <td>0.140508</td>\n",
       "      <td>-0.414273</td>\n",
       "    </tr>\n",
       "    <tr>\n",
       "      <td>4</td>\n",
       "      <td>-0.030406</td>\n",
       "      <td>0.551068</td>\n",
       "      <td>-0.837749</td>\n",
       "      <td>-0.277585</td>\n",
       "      <td>1.115873</td>\n",
       "      <td>-1.115873</td>\n",
       "      <td>-0.269260</td>\n",
       "      <td>0.269260</td>\n",
       "      <td>1.142471</td>\n",
       "      <td>1.014378</td>\n",
       "      <td>...</td>\n",
       "      <td>-1.60165</td>\n",
       "      <td>-1.348576</td>\n",
       "      <td>-1.467748</td>\n",
       "      <td>-1.251296</td>\n",
       "      <td>-1.348576</td>\n",
       "      <td>-1.299600</td>\n",
       "      <td>-1.367794</td>\n",
       "      <td>-0.767566</td>\n",
       "      <td>0.140508</td>\n",
       "      <td>0.045251</td>\n",
       "    </tr>\n",
       "    <tr>\n",
       "      <td>...</td>\n",
       "      <td>...</td>\n",
       "      <td>...</td>\n",
       "      <td>...</td>\n",
       "      <td>...</td>\n",
       "      <td>...</td>\n",
       "      <td>...</td>\n",
       "      <td>...</td>\n",
       "      <td>...</td>\n",
       "      <td>...</td>\n",
       "      <td>...</td>\n",
       "      <td>...</td>\n",
       "      <td>...</td>\n",
       "      <td>...</td>\n",
       "      <td>...</td>\n",
       "      <td>...</td>\n",
       "      <td>...</td>\n",
       "      <td>...</td>\n",
       "      <td>...</td>\n",
       "      <td>...</td>\n",
       "      <td>...</td>\n",
       "      <td>...</td>\n",
       "    </tr>\n",
       "    <tr>\n",
       "      <td>4995</td>\n",
       "      <td>-1.879585</td>\n",
       "      <td>1.170726</td>\n",
       "      <td>-0.837749</td>\n",
       "      <td>-0.206026</td>\n",
       "      <td>1.115873</td>\n",
       "      <td>-1.115873</td>\n",
       "      <td>-0.269260</td>\n",
       "      <td>0.269260</td>\n",
       "      <td>-1.332553</td>\n",
       "      <td>-1.293713</td>\n",
       "      <td>...</td>\n",
       "      <td>-1.60165</td>\n",
       "      <td>-1.115983</td>\n",
       "      <td>-1.098336</td>\n",
       "      <td>1.327216</td>\n",
       "      <td>-1.115983</td>\n",
       "      <td>-1.068765</td>\n",
       "      <td>-1.053727</td>\n",
       "      <td>1.357281</td>\n",
       "      <td>0.620712</td>\n",
       "      <td>-0.408697</td>\n",
       "    </tr>\n",
       "    <tr>\n",
       "      <td>4996</td>\n",
       "      <td>-1.879585</td>\n",
       "      <td>1.170726</td>\n",
       "      <td>-0.837749</td>\n",
       "      <td>-0.206026</td>\n",
       "      <td>1.115873</td>\n",
       "      <td>-1.115873</td>\n",
       "      <td>-0.269260</td>\n",
       "      <td>0.269260</td>\n",
       "      <td>-1.332553</td>\n",
       "      <td>-1.462598</td>\n",
       "      <td>...</td>\n",
       "      <td>-0.10282</td>\n",
       "      <td>-1.115983</td>\n",
       "      <td>-1.098336</td>\n",
       "      <td>1.327216</td>\n",
       "      <td>-1.115983</td>\n",
       "      <td>-1.068765</td>\n",
       "      <td>-1.053727</td>\n",
       "      <td>1.357281</td>\n",
       "      <td>0.620712</td>\n",
       "      <td>-0.340660</td>\n",
       "    </tr>\n",
       "    <tr>\n",
       "      <td>4997</td>\n",
       "      <td>0.431889</td>\n",
       "      <td>0.551068</td>\n",
       "      <td>1.684072</td>\n",
       "      <td>-0.289511</td>\n",
       "      <td>-0.896159</td>\n",
       "      <td>0.896159</td>\n",
       "      <td>-0.269260</td>\n",
       "      <td>0.269260</td>\n",
       "      <td>-1.332553</td>\n",
       "      <td>-1.293713</td>\n",
       "      <td>...</td>\n",
       "      <td>-0.10282</td>\n",
       "      <td>-1.115983</td>\n",
       "      <td>-1.098336</td>\n",
       "      <td>1.327216</td>\n",
       "      <td>-1.115983</td>\n",
       "      <td>-1.068765</td>\n",
       "      <td>-1.053727</td>\n",
       "      <td>1.357281</td>\n",
       "      <td>0.620712</td>\n",
       "      <td>-0.308436</td>\n",
       "    </tr>\n",
       "    <tr>\n",
       "      <td>4998</td>\n",
       "      <td>-0.096448</td>\n",
       "      <td>-0.137440</td>\n",
       "      <td>0.423161</td>\n",
       "      <td>0.342589</td>\n",
       "      <td>1.115873</td>\n",
       "      <td>-1.115873</td>\n",
       "      <td>-0.269260</td>\n",
       "      <td>0.269260</td>\n",
       "      <td>-1.332553</td>\n",
       "      <td>-1.293713</td>\n",
       "      <td>...</td>\n",
       "      <td>-0.10282</td>\n",
       "      <td>-1.115983</td>\n",
       "      <td>-1.098336</td>\n",
       "      <td>1.327216</td>\n",
       "      <td>-1.115983</td>\n",
       "      <td>-1.068765</td>\n",
       "      <td>-1.053727</td>\n",
       "      <td>1.357281</td>\n",
       "      <td>0.620712</td>\n",
       "      <td>-0.317596</td>\n",
       "    </tr>\n",
       "    <tr>\n",
       "      <td>4999</td>\n",
       "      <td>-1.681459</td>\n",
       "      <td>0.551068</td>\n",
       "      <td>1.684072</td>\n",
       "      <td>-0.289511</td>\n",
       "      <td>-0.896159</td>\n",
       "      <td>0.896159</td>\n",
       "      <td>-0.269260</td>\n",
       "      <td>0.269260</td>\n",
       "      <td>-1.332553</td>\n",
       "      <td>-1.293713</td>\n",
       "      <td>...</td>\n",
       "      <td>-0.10282</td>\n",
       "      <td>-1.115983</td>\n",
       "      <td>-1.098336</td>\n",
       "      <td>1.327216</td>\n",
       "      <td>-1.115983</td>\n",
       "      <td>-1.068765</td>\n",
       "      <td>-1.053727</td>\n",
       "      <td>1.357281</td>\n",
       "      <td>0.620712</td>\n",
       "      <td>-0.367708</td>\n",
       "    </tr>\n",
       "  </tbody>\n",
       "</table>\n",
       "<p>5000 rows × 21 columns</p>\n",
       "</div>"
      ],
      "text/plain": [
       "           age      plan   company  provider_name     sex_f     sex_m  \\\n",
       "0    -0.096448  0.551068 -0.837749      -0.277585 -0.896159  0.896159   \n",
       "1     0.035636  1.514980 -0.837749      -1.279404  1.115873 -1.115873   \n",
       "2     0.035636  1.514980 -0.837749      -1.279404  1.115873 -1.115873   \n",
       "3    -0.492701  1.514980 -0.837749      -1.243625 -0.896159  0.896159   \n",
       "4    -0.030406  0.551068 -0.837749      -0.277585  1.115873 -1.115873   \n",
       "...        ...       ...       ...            ...       ...       ...   \n",
       "4995 -1.879585  1.170726 -0.837749      -0.206026  1.115873 -1.115873   \n",
       "4996 -1.879585  1.170726 -0.837749      -0.206026  1.115873 -1.115873   \n",
       "4997  0.431889  0.551068  1.684072      -0.289511 -0.896159  0.896159   \n",
       "4998 -0.096448 -0.137440  0.423161       0.342589  1.115873 -1.115873   \n",
       "4999 -1.681459  0.551068  1.684072      -0.289511 -0.896159  0.896159   \n",
       "\n",
       "      service_inpatient  service_outpatient  pxt_month  pxt_week  ...  \\\n",
       "0             -0.269260            0.269260   1.142471  1.070673  ...   \n",
       "1             -0.269260            0.269260   1.142471  1.183262  ...   \n",
       "2              3.713879           -3.713879   1.142471  1.183262  ...   \n",
       "3             -0.269260            0.269260   1.142471  1.126968  ...   \n",
       "4             -0.269260            0.269260   1.142471  1.014378  ...   \n",
       "...                 ...                 ...        ...       ...  ...   \n",
       "4995          -0.269260            0.269260  -1.332553 -1.293713  ...   \n",
       "4996          -0.269260            0.269260  -1.332553 -1.462598  ...   \n",
       "4997          -0.269260            0.269260  -1.332553 -1.293713  ...   \n",
       "4998          -0.269260            0.269260  -1.332553 -1.293713  ...   \n",
       "4999          -0.269260            0.269260  -1.332553 -1.293713  ...   \n",
       "\n",
       "      pxt_dayofweek  med_subm_month  med_subm_week  med_subm_day  \\\n",
       "0           0.39679       -1.348576      -1.467748     -1.475514   \n",
       "1          -0.60243       -1.348576      -1.467748     -1.475514   \n",
       "2           1.39601       -1.348576      -1.467748     -1.475514   \n",
       "3           0.39679       -1.348576      -1.467748     -1.363405   \n",
       "4          -1.60165       -1.348576      -1.467748     -1.251296   \n",
       "...             ...             ...            ...           ...   \n",
       "4995       -1.60165       -1.115983      -1.098336      1.327216   \n",
       "4996       -0.10282       -1.115983      -1.098336      1.327216   \n",
       "4997       -0.10282       -1.115983      -1.098336      1.327216   \n",
       "4998       -0.10282       -1.115983      -1.098336      1.327216   \n",
       "4999       -0.10282       -1.115983      -1.098336      1.327216   \n",
       "\n",
       "      med_subm_dayofweek  payment_month  payment_week  payment_day  \\\n",
       "0              -1.348576      -1.299600     -1.420138    -1.593895   \n",
       "1              -1.348576      -1.299600     -1.420138    -1.593895   \n",
       "2              -1.348576      -1.299600     -1.420138    -1.593895   \n",
       "3              -1.348576      -1.299600     -1.367794    -0.767566   \n",
       "4              -1.348576      -1.299600     -1.367794    -0.767566   \n",
       "...                  ...            ...           ...          ...   \n",
       "4995           -1.115983      -1.068765     -1.053727     1.357281   \n",
       "4996           -1.115983      -1.068765     -1.053727     1.357281   \n",
       "4997           -1.115983      -1.068765     -1.053727     1.357281   \n",
       "4998           -1.115983      -1.068765     -1.053727     1.357281   \n",
       "4999           -1.115983      -1.068765     -1.053727     1.357281   \n",
       "\n",
       "      payment_dayofweek  total_price  \n",
       "0              0.140508     0.413317  \n",
       "1              0.140508     0.580620  \n",
       "2              0.140508     0.301782  \n",
       "3              0.140508    -0.414273  \n",
       "4              0.140508     0.045251  \n",
       "...                 ...          ...  \n",
       "4995           0.620712    -0.408697  \n",
       "4996           0.620712    -0.340660  \n",
       "4997           0.620712    -0.308436  \n",
       "4998           0.620712    -0.317596  \n",
       "4999           0.620712    -0.367708  \n",
       "\n",
       "[5000 rows x 21 columns]"
      ]
     },
     "execution_count": 69,
     "metadata": {},
     "output_type": "execute_result"
    }
   ],
   "source": [
    "# Store the scaled dataset in a dataframe\n",
    "\n",
    "standard_df = pd.DataFrame(data= standard, columns= data_ml_final.columns)\n",
    "\n",
    "standard_df"
   ]
  },
  {
   "cell_type": "markdown",
   "metadata": {},
   "source": [
    "### Clustering Groups Using K-Means Algorithm"
   ]
  },
  {
   "cell_type": "code",
   "execution_count": 70,
   "metadata": {},
   "outputs": [
    {
     "data": {
      "text/plain": [
       "array([1, 1, 0, ..., 1, 1, 1])"
      ]
     },
     "execution_count": 70,
     "metadata": {},
     "output_type": "execute_result"
    }
   ],
   "source": [
    "#Declare a Kmeans object with 3 clusters\n",
    "kmeans = KMeans(n_clusters=3, init='k-means++', random_state=42)\n",
    "\n",
    "#fit the model to the dataset and predict clusters\n",
    "clusters = kmeans.fit_predict(standard)\n",
    "\n",
    "clusters"
   ]
  },
  {
   "cell_type": "markdown",
   "metadata": {},
   "source": [
    "We make use of the ELBOW METHOD check to see if using 3 clusters is optimal for the dataset we have at hand"
   ]
  },
  {
   "cell_type": "code",
   "execution_count": 71,
   "metadata": {},
   "outputs": [],
   "source": [
    "# Initialise empty elbow \n",
    "elbow = {}\n",
    "\n",
    "# Fit kmeans and calculate elbow for each cluster\n",
    "for x in range(1, 26):\n",
    "  \n",
    "    # Initialize KMeans with k clusters\n",
    "    kmeans = KMeans(n_clusters=x, random_state=42)\n",
    "    \n",
    "    # Fit KMeans on the standardized dataset\n",
    "    kmeans.fit(standard)\n",
    "    \n",
    "    # Assign sum of squared distances to k element of dictionary\n",
    "    elbow[x] = kmeans.inertia_"
   ]
  },
  {
   "cell_type": "code",
   "execution_count": 73,
   "metadata": {},
   "outputs": [
    {
     "data": {
      "text/plain": [
       "Text(0, 0.5, 'Elbow')"
      ]
     },
     "execution_count": 73,
     "metadata": {},
     "output_type": "execute_result"
    },
    {
     "data": {
      "image/png": "[encoded data removed]",
      "text/plain": [
       "<Figure size 720x504 with 1 Axes>"
      ]
     },
     "metadata": {
      "needs_background": "light"
     },
     "output_type": "display_data"
    }
   ],
   "source": [
    "# Plot elbow for each cluster point\n",
    "plt.figure(figsize=(10,7))\n",
    "sns.pointplot(x=list(elbow.keys()), y=list(elbow.values()), color='red')\n",
    "plt.title('The Elbow Method', size=15)\n",
    "plt.xlabel('Noumber Of Clusters', size=12)\n",
    "plt.ylabel('Elbow', size=12)"
   ]
  },
  {
   "cell_type": "markdown",
   "metadata": {},
   "source": [
    "We see from the elbow method that three clusters is sufficient to decribe the dataset. Beyond the third clusters, there is an intengible value added to clustering"
   ]
  },
  {
   "cell_type": "code",
   "execution_count": 74,
   "metadata": {},
   "outputs": [
    {
     "data": {
      "text/plain": [
       "(5000,)"
      ]
     },
     "execution_count": 74,
     "metadata": {},
     "output_type": "execute_result"
    }
   ],
   "source": [
    "clusters.shape"
   ]
  },
  {
   "cell_type": "code",
   "execution_count": 75,
   "metadata": {},
   "outputs": [
    {
     "data": {
      "text/html": [
       "<div>\n",
       "<style scoped>\n",
       "    .dataframe tbody tr th:only-of-type {\n",
       "        vertical-align: middle;\n",
       "    }\n",
       "\n",
       "    .dataframe tbody tr th {\n",
       "        vertical-align: top;\n",
       "    }\n",
       "\n",
       "    .dataframe thead th {\n",
       "        text-align: right;\n",
       "    }\n",
       "</style>\n",
       "<table border=\"1\" class=\"dataframe\">\n",
       "  <thead>\n",
       "    <tr style=\"text-align: right;\">\n",
       "      <th></th>\n",
       "      <th>age</th>\n",
       "      <th>sex</th>\n",
       "      <th>plan</th>\n",
       "      <th>company</th>\n",
       "      <th>provider_name</th>\n",
       "      <th>patient_encounter_date</th>\n",
       "      <th>medical_claims_submission_date</th>\n",
       "      <th>payment_date</th>\n",
       "      <th>service_type</th>\n",
       "      <th>diagnosis</th>\n",
       "      <th>total_price</th>\n",
       "      <th>clusters</th>\n",
       "    </tr>\n",
       "  </thead>\n",
       "  <tbody>\n",
       "    <tr>\n",
       "      <td>0</td>\n",
       "      <td>29</td>\n",
       "      <td>M</td>\n",
       "      <td>RED Individual</td>\n",
       "      <td>CORPORATE</td>\n",
       "      <td>JOY HOSPITAL-LAGOS</td>\n",
       "      <td>1997-12-12</td>\n",
       "      <td>1998-01-02</td>\n",
       "      <td>1998-01-02</td>\n",
       "      <td>Outpatient</td>\n",
       "      <td>ACUTE MALARIA WITH URTI</td>\n",
       "      <td>17000.00</td>\n",
       "      <td>1</td>\n",
       "    </tr>\n",
       "    <tr>\n",
       "      <td>1</td>\n",
       "      <td>31</td>\n",
       "      <td>F</td>\n",
       "      <td>Yellow Individual</td>\n",
       "      <td>CORPORATE</td>\n",
       "      <td>CHARMAINE HOSPITAL</td>\n",
       "      <td>1997-12-24</td>\n",
       "      <td>1998-01-02</td>\n",
       "      <td>1998-01-02</td>\n",
       "      <td>Outpatient</td>\n",
       "      <td>LEFT MODERATE TO PROFOUND SNHL</td>\n",
       "      <td>20000.00</td>\n",
       "      <td>1</td>\n",
       "    </tr>\n",
       "    <tr>\n",
       "      <td>2</td>\n",
       "      <td>31</td>\n",
       "      <td>F</td>\n",
       "      <td>Yellow Individual</td>\n",
       "      <td>CORPORATE</td>\n",
       "      <td>CHARMAINE HOSPITAL</td>\n",
       "      <td>1997-12-28</td>\n",
       "      <td>1998-01-02</td>\n",
       "      <td>1998-01-02</td>\n",
       "      <td>Inpatient</td>\n",
       "      <td>LEFT MODERATE TO PROFOUND SNHL</td>\n",
       "      <td>15000.00</td>\n",
       "      <td>0</td>\n",
       "    </tr>\n",
       "    <tr>\n",
       "      <td>3</td>\n",
       "      <td>23</td>\n",
       "      <td>M</td>\n",
       "      <td>Yellow Individual</td>\n",
       "      <td>CORPORATE</td>\n",
       "      <td>CILANTRO HOSPITAL</td>\n",
       "      <td>1997-12-19</td>\n",
       "      <td>1998-01-03</td>\n",
       "      <td>1998-01-09</td>\n",
       "      <td>Outpatient</td>\n",
       "      <td>URTI</td>\n",
       "      <td>2160.00</td>\n",
       "      <td>1</td>\n",
       "    </tr>\n",
       "    <tr>\n",
       "      <td>4</td>\n",
       "      <td>30</td>\n",
       "      <td>F</td>\n",
       "      <td>RED Individual</td>\n",
       "      <td>CORPORATE</td>\n",
       "      <td>JOY HOSPITAL-LAGOS</td>\n",
       "      <td>1997-12-01</td>\n",
       "      <td>1998-01-04</td>\n",
       "      <td>1998-01-09</td>\n",
       "      <td>Outpatient</td>\n",
       "      <td>PLASMODIASIS</td>\n",
       "      <td>10399.99</td>\n",
       "      <td>1</td>\n",
       "    </tr>\n",
       "  </tbody>\n",
       "</table>\n",
       "</div>"
      ],
      "text/plain": [
       "   age sex               plan    company       provider_name  \\\n",
       "0   29   M     RED Individual  CORPORATE  JOY HOSPITAL-LAGOS   \n",
       "1   31   F  Yellow Individual  CORPORATE  CHARMAINE HOSPITAL   \n",
       "2   31   F  Yellow Individual  CORPORATE  CHARMAINE HOSPITAL   \n",
       "3   23   M  Yellow Individual  CORPORATE   CILANTRO HOSPITAL   \n",
       "4   30   F     RED Individual  CORPORATE  JOY HOSPITAL-LAGOS   \n",
       "\n",
       "  patient_encounter_date medical_claims_submission_date payment_date  \\\n",
       "0             1997-12-12                     1998-01-02   1998-01-02   \n",
       "1             1997-12-24                     1998-01-02   1998-01-02   \n",
       "2             1997-12-28                     1998-01-02   1998-01-02   \n",
       "3             1997-12-19                     1998-01-03   1998-01-09   \n",
       "4             1997-12-01                     1998-01-04   1998-01-09   \n",
       "\n",
       "  service_type                       diagnosis  total_price  clusters  \n",
       "0   Outpatient         ACUTE MALARIA WITH URTI     17000.00         1  \n",
       "1   Outpatient  LEFT MODERATE TO PROFOUND SNHL     20000.00         1  \n",
       "2    Inpatient  LEFT MODERATE TO PROFOUND SNHL     15000.00         0  \n",
       "3   Outpatient                            URTI      2160.00         1  \n",
       "4   Outpatient                    PLASMODIASIS     10399.99         1  "
      ]
     },
     "execution_count": 75,
     "metadata": {},
     "output_type": "execute_result"
    }
   ],
   "source": [
    "# connect the clusters with the original dataframe \n",
    "\n",
    "data_cluster = data.copy()\n",
    "\n",
    "data_cluster['clusters'] = clusters\n",
    "\n",
    "data_cluster.head()"
   ]
  },
  {
   "cell_type": "code",
   "execution_count": null,
   "metadata": {},
   "outputs": [],
   "source": []
  },
  {
   "cell_type": "code",
   "execution_count": 90,
   "metadata": {},
   "outputs": [
    {
     "data": {
      "text/plain": [
       "Text(0, 0.5, 'Twenty-first Feature')"
      ]
     },
     "execution_count": 90,
     "metadata": {},
     "output_type": "execute_result"
    },
    {
     "data": {
      "image/png": "[encoded data removed]",
      "text/plain": [
       "<Figure size 720x576 with 1 Axes>"
      ]
     },
     "metadata": {
      "needs_background": "light"
     },
     "output_type": "display_data"
    }
   ],
   "source": [
    "plt.figure(figsize = (10,8))\n",
    "\n",
    "plt.scatter(standard[clusters == 0, 3], standard[clusters == 0, 20], alpha=.5, \n",
    "            color = 'orange', label='Group 1')\n",
    "\n",
    "plt.scatter(standard[clusters == 1, 3], standard[clusters == 1, 20], alpha=.5, \n",
    "            color = 'blue', label='Group 2')\n",
    "\n",
    "plt.scatter(standard[clusters == 2, 3], standard[clusters == 2, 20], alpha=.5, \n",
    "            color = 'green', label='Group 3')\n",
    "\n",
    "plt.title('Standardized dataset in 3 Groups', size=15)\n",
    "plt.legend(loc='best', shadow=False, scatterpoints=1)\n",
    "plt.xlabel('Fourth Feature',size=12)\n",
    "plt.ylabel('Twenty-first Feature', size=12)"
   ]
  },
  {
   "cell_type": "code",
   "execution_count": null,
   "metadata": {},
   "outputs": [],
   "source": []
  },
  {
   "cell_type": "markdown",
   "metadata": {},
   "source": [
    "#### Cluster group description/analysis"
   ]
  },
  {
   "cell_type": "code",
   "execution_count": 91,
   "metadata": {},
   "outputs": [],
   "source": [
    "groups = data_cluster.groupby('clusters')"
   ]
  },
  {
   "cell_type": "code",
   "execution_count": 92,
   "metadata": {},
   "outputs": [
    {
     "data": {
      "text/plain": [
       "Text(0.5, 1.0, 'Average Age of Group')"
      ]
     },
     "execution_count": 92,
     "metadata": {},
     "output_type": "execute_result"
    },
    {
     "data": {
      "image/png": "[encoded data removed]",
      "text/plain": [
       "<Figure size 432x288 with 1 Axes>"
      ]
     },
     "metadata": {
      "needs_background": "light"
     },
     "output_type": "display_data"
    }
   ],
   "source": [
    "groups_age = groups['age'].mean().reset_index()\n",
    "\n",
    "sns.barplot(x='clusters', y='age', data=groups_age)\n",
    "plt.title('Average Age of Group')"
   ]
  },
  {
   "cell_type": "code",
   "execution_count": 93,
   "metadata": {},
   "outputs": [
    {
     "data": {
      "text/plain": [
       "Text(0.5, 1.0, 'Average Total Price of Each Group')"
      ]
     },
     "execution_count": 93,
     "metadata": {},
     "output_type": "execute_result"
    },
    {
     "data": {
      "image/png": "[encoded data removed]",
      "text/plain": [
       "<Figure size 432x288 with 1 Axes>"
      ]
     },
     "metadata": {
      "needs_background": "light"
     },
     "output_type": "display_data"
    }
   ],
   "source": [
    "groups_totalprice = groups['total_price'].mean().reset_index()\n",
    "\n",
    "sns.barplot(x='clusters', y='total_price', data=groups_totalprice)\n",
    "plt.title('Average Total Price of Each Group')"
   ]
  },
  {
   "cell_type": "code",
   "execution_count": 94,
   "metadata": {},
   "outputs": [
    {
     "data": {
      "text/plain": [
       "clusters\n",
       "0    RED Family\n",
       "1    RED Family\n",
       "2    RED Family\n",
       "Name: plan, dtype: object"
      ]
     },
     "execution_count": 94,
     "metadata": {},
     "output_type": "execute_result"
    }
   ],
   "source": [
    "# Most popular Health Insurance Plan among each group\n",
    "groups_plan = groups['plan'].agg(pd.Series.mode)\n",
    "\n",
    "groups_plan"
   ]
  },
  {
   "cell_type": "code",
   "execution_count": 95,
   "metadata": {},
   "outputs": [
    {
     "data": {
      "text/plain": [
       "clusters\n",
       "0     Inpatient\n",
       "1    Outpatient\n",
       "2    Outpatient\n",
       "Name: service_type, dtype: object"
      ]
     },
     "execution_count": 95,
     "metadata": {},
     "output_type": "execute_result"
    }
   ],
   "source": [
    "# Most popular Service type among each group\n",
    "groups_servicetype = groups['service_type'].agg(pd.Series.mode)\n",
    "\n",
    "groups_servicetype"
   ]
  },
  {
   "cell_type": "code",
   "execution_count": 96,
   "metadata": {},
   "outputs": [
    {
     "data": {
      "text/plain": [
       "clusters\n",
       "0    CORPORATE\n",
       "1    CORPORATE\n",
       "2    CORPORATE\n",
       "Name: company, dtype: object"
      ]
     },
     "execution_count": 96,
     "metadata": {},
     "output_type": "execute_result"
    }
   ],
   "source": [
    "# Most popular Insurance type (coperate, partnership or individual) among each group\n",
    "groups_company = groups['company'].agg(pd.Series.mode)\n",
    "\n",
    "groups_company"
   ]
  },
  {
   "cell_type": "code",
   "execution_count": 97,
   "metadata": {},
   "outputs": [
    {
     "data": {
      "text/plain": [
       "clusters\n",
       "0                     GLORY SPA\n",
       "1    LOYOLA SPECIALIST HOSPITAL\n",
       "2        IGWE HOSPITAL NIG. LTD\n",
       "Name: provider_name, dtype: object"
      ]
     },
     "execution_count": 97,
     "metadata": {},
     "output_type": "execute_result"
    }
   ],
   "source": [
    "# Most popular Provider among each group\n",
    "groups_provider = groups['provider_name'].agg(pd.Series.mode)\n",
    "\n",
    "groups_provider"
   ]
  },
  {
   "cell_type": "code",
   "execution_count": null,
   "metadata": {},
   "outputs": [],
   "source": []
  },
  {
   "cell_type": "markdown",
   "metadata": {},
   "source": [
    "### Building Predictive Regression model"
   ]
  },
  {
   "cell_type": "markdown",
   "metadata": {},
   "source": [
    "For this exercise, we will be working with at least two regression algorithms, LinearRegression and Support Vector Regressor, from the Scikit-learn library of Python. We then select the better of the two models"
   ]
  },
  {
   "cell_type": "code",
   "execution_count": 98,
   "metadata": {},
   "outputs": [
    {
     "data": {
      "text/html": [
       "<div>\n",
       "<style scoped>\n",
       "    .dataframe tbody tr th:only-of-type {\n",
       "        vertical-align: middle;\n",
       "    }\n",
       "\n",
       "    .dataframe tbody tr th {\n",
       "        vertical-align: top;\n",
       "    }\n",
       "\n",
       "    .dataframe thead th {\n",
       "        text-align: right;\n",
       "    }\n",
       "</style>\n",
       "<table border=\"1\" class=\"dataframe\">\n",
       "  <thead>\n",
       "    <tr style=\"text-align: right;\">\n",
       "      <th></th>\n",
       "      <th>age</th>\n",
       "      <th>plan</th>\n",
       "      <th>company</th>\n",
       "      <th>provider_name</th>\n",
       "      <th>sex_f</th>\n",
       "      <th>sex_m</th>\n",
       "      <th>service_inpatient</th>\n",
       "      <th>service_outpatient</th>\n",
       "      <th>pxt_month</th>\n",
       "      <th>pxt_week</th>\n",
       "      <th>...</th>\n",
       "      <th>pxt_dayofweek</th>\n",
       "      <th>med_subm_month</th>\n",
       "      <th>med_subm_week</th>\n",
       "      <th>med_subm_day</th>\n",
       "      <th>med_subm_dayofweek</th>\n",
       "      <th>payment_month</th>\n",
       "      <th>payment_week</th>\n",
       "      <th>payment_day</th>\n",
       "      <th>payment_dayofweek</th>\n",
       "      <th>total_price</th>\n",
       "    </tr>\n",
       "  </thead>\n",
       "  <tbody>\n",
       "    <tr>\n",
       "      <td>0</td>\n",
       "      <td>29</td>\n",
       "      <td>43</td>\n",
       "      <td>1</td>\n",
       "      <td>131</td>\n",
       "      <td>0</td>\n",
       "      <td>1</td>\n",
       "      <td>0</td>\n",
       "      <td>1</td>\n",
       "      <td>12</td>\n",
       "      <td>50</td>\n",
       "      <td>...</td>\n",
       "      <td>4</td>\n",
       "      <td>1</td>\n",
       "      <td>1</td>\n",
       "      <td>2</td>\n",
       "      <td>1</td>\n",
       "      <td>1</td>\n",
       "      <td>1</td>\n",
       "      <td>2</td>\n",
       "      <td>4</td>\n",
       "      <td>17000.00</td>\n",
       "    </tr>\n",
       "    <tr>\n",
       "      <td>1</td>\n",
       "      <td>31</td>\n",
       "      <td>57</td>\n",
       "      <td>1</td>\n",
       "      <td>47</td>\n",
       "      <td>1</td>\n",
       "      <td>0</td>\n",
       "      <td>0</td>\n",
       "      <td>1</td>\n",
       "      <td>12</td>\n",
       "      <td>52</td>\n",
       "      <td>...</td>\n",
       "      <td>2</td>\n",
       "      <td>1</td>\n",
       "      <td>1</td>\n",
       "      <td>2</td>\n",
       "      <td>1</td>\n",
       "      <td>1</td>\n",
       "      <td>1</td>\n",
       "      <td>2</td>\n",
       "      <td>4</td>\n",
       "      <td>20000.00</td>\n",
       "    </tr>\n",
       "    <tr>\n",
       "      <td>2</td>\n",
       "      <td>31</td>\n",
       "      <td>57</td>\n",
       "      <td>1</td>\n",
       "      <td>47</td>\n",
       "      <td>1</td>\n",
       "      <td>0</td>\n",
       "      <td>1</td>\n",
       "      <td>0</td>\n",
       "      <td>12</td>\n",
       "      <td>52</td>\n",
       "      <td>...</td>\n",
       "      <td>6</td>\n",
       "      <td>1</td>\n",
       "      <td>1</td>\n",
       "      <td>2</td>\n",
       "      <td>1</td>\n",
       "      <td>1</td>\n",
       "      <td>1</td>\n",
       "      <td>2</td>\n",
       "      <td>4</td>\n",
       "      <td>15000.00</td>\n",
       "    </tr>\n",
       "    <tr>\n",
       "      <td>3</td>\n",
       "      <td>23</td>\n",
       "      <td>57</td>\n",
       "      <td>1</td>\n",
       "      <td>50</td>\n",
       "      <td>0</td>\n",
       "      <td>1</td>\n",
       "      <td>0</td>\n",
       "      <td>1</td>\n",
       "      <td>12</td>\n",
       "      <td>51</td>\n",
       "      <td>...</td>\n",
       "      <td>4</td>\n",
       "      <td>1</td>\n",
       "      <td>1</td>\n",
       "      <td>3</td>\n",
       "      <td>1</td>\n",
       "      <td>1</td>\n",
       "      <td>2</td>\n",
       "      <td>9</td>\n",
       "      <td>4</td>\n",
       "      <td>2160.00</td>\n",
       "    </tr>\n",
       "    <tr>\n",
       "      <td>4</td>\n",
       "      <td>30</td>\n",
       "      <td>43</td>\n",
       "      <td>1</td>\n",
       "      <td>131</td>\n",
       "      <td>1</td>\n",
       "      <td>0</td>\n",
       "      <td>0</td>\n",
       "      <td>1</td>\n",
       "      <td>12</td>\n",
       "      <td>49</td>\n",
       "      <td>...</td>\n",
       "      <td>0</td>\n",
       "      <td>1</td>\n",
       "      <td>1</td>\n",
       "      <td>4</td>\n",
       "      <td>1</td>\n",
       "      <td>1</td>\n",
       "      <td>2</td>\n",
       "      <td>9</td>\n",
       "      <td>4</td>\n",
       "      <td>10399.99</td>\n",
       "    </tr>\n",
       "  </tbody>\n",
       "</table>\n",
       "<p>5 rows × 21 columns</p>\n",
       "</div>"
      ],
      "text/plain": [
       "   age  plan  company  provider_name  sex_f  sex_m  service_inpatient  \\\n",
       "0   29    43        1            131      0      1                  0   \n",
       "1   31    57        1             47      1      0                  0   \n",
       "2   31    57        1             47      1      0                  1   \n",
       "3   23    57        1             50      0      1                  0   \n",
       "4   30    43        1            131      1      0                  0   \n",
       "\n",
       "   service_outpatient  pxt_month  pxt_week  ...  pxt_dayofweek  \\\n",
       "0                   1         12        50  ...              4   \n",
       "1                   1         12        52  ...              2   \n",
       "2                   0         12        52  ...              6   \n",
       "3                   1         12        51  ...              4   \n",
       "4                   1         12        49  ...              0   \n",
       "\n",
       "   med_subm_month  med_subm_week  med_subm_day  med_subm_dayofweek  \\\n",
       "0               1              1             2                   1   \n",
       "1               1              1             2                   1   \n",
       "2               1              1             2                   1   \n",
       "3               1              1             3                   1   \n",
       "4               1              1             4                   1   \n",
       "\n",
       "   payment_month  payment_week  payment_day  payment_dayofweek  total_price  \n",
       "0              1             1            2                  4     17000.00  \n",
       "1              1             1            2                  4     20000.00  \n",
       "2              1             1            2                  4     15000.00  \n",
       "3              1             2            9                  4      2160.00  \n",
       "4              1             2            9                  4     10399.99  \n",
       "\n",
       "[5 rows x 21 columns]"
      ]
     },
     "execution_count": 98,
     "metadata": {},
     "output_type": "execute_result"
    }
   ],
   "source": [
    "data_ml_final.head()"
   ]
  },
  {
   "cell_type": "code",
   "execution_count": 99,
   "metadata": {},
   "outputs": [],
   "source": [
    "cols = list(data_ml_final.columns)"
   ]
  },
  {
   "cell_type": "code",
   "execution_count": 100,
   "metadata": {},
   "outputs": [],
   "source": [
    "cols.remove('total_price')"
   ]
  },
  {
   "cell_type": "code",
   "execution_count": 101,
   "metadata": {},
   "outputs": [],
   "source": [
    "# define the data features\n",
    "X = data_ml_final[cols].values\n",
    "Y = data_ml_final['total_price'].values"
   ]
  },
  {
   "cell_type": "code",
   "execution_count": 107,
   "metadata": {},
   "outputs": [],
   "source": [
    "# using the t_t_split module to split the dataset into training and testing datasets\n",
    "X_train, x_test, Y_train, y_test = train_test_split(X, Y, test_size=0.2,random_state=40)"
   ]
  },
  {
   "cell_type": "code",
   "execution_count": 108,
   "metadata": {},
   "outputs": [
    {
     "data": {
      "text/plain": [
       "array([2140.  , 6069.5 , 4834.95, 3068.9 , 5062.4 , 7200.  , 4548.37,\n",
       "       3556.2 , 2977.78, 5627.  ])"
      ]
     },
     "execution_count": 108,
     "metadata": {},
     "output_type": "execute_result"
    }
   ],
   "source": [
    "y_test[:10]"
   ]
  },
  {
   "cell_type": "markdown",
   "metadata": {},
   "source": [
    "We will normalize the data, perform a transform and fit the model simultaneously using Pipeline from the sklearn library"
   ]
  },
  {
   "cell_type": "markdown",
   "metadata": {},
   "source": [
    "LINEAR REGRESSION MODEL"
   ]
  },
  {
   "cell_type": "code",
   "execution_count": 109,
   "metadata": {},
   "outputs": [],
   "source": [
    "# create pipeline feed\n",
    "feed =[('scale',StandardScaler()), ('polynomial', PolynomialFeatures(degree=2, include_bias=True)), ('model',LinearRegression( fit_intercept=False))]"
   ]
  },
  {
   "cell_type": "code",
   "execution_count": 110,
   "metadata": {},
   "outputs": [
    {
     "data": {
      "text/plain": [
       "Pipeline(memory=None,\n",
       "         steps=[('scale',\n",
       "                 StandardScaler(copy=True, with_mean=True, with_std=True)),\n",
       "                ('polynomial',\n",
       "                 PolynomialFeatures(degree=2, include_bias=True,\n",
       "                                    interaction_only=False, order='C')),\n",
       "                ('model',\n",
       "                 LinearRegression(copy_X=True, fit_intercept=False, n_jobs=None,\n",
       "                                  normalize=False))],\n",
       "         verbose=False)"
      ]
     },
     "execution_count": 110,
     "metadata": {},
     "output_type": "execute_result"
    }
   ],
   "source": [
    "# Create pipeline object\n",
    "pipe = Pipeline(feed)\n",
    "pipe"
   ]
  },
  {
   "cell_type": "code",
   "execution_count": 111,
   "metadata": {},
   "outputs": [
    {
     "data": {
      "text/plain": [
       "Pipeline(memory=None,\n",
       "         steps=[('scale',\n",
       "                 StandardScaler(copy=True, with_mean=True, with_std=True)),\n",
       "                ('polynomial',\n",
       "                 PolynomialFeatures(degree=2, include_bias=True,\n",
       "                                    interaction_only=False, order='C')),\n",
       "                ('model',\n",
       "                 LinearRegression(copy_X=True, fit_intercept=False, n_jobs=None,\n",
       "                                  normalize=False))],\n",
       "         verbose=False)"
      ]
     },
     "execution_count": 111,
     "metadata": {},
     "output_type": "execute_result"
    }
   ],
   "source": [
    "# fit the model to the dataset\n",
    "pipe.fit(X_train, Y_train)"
   ]
  },
  {
   "cell_type": "code",
   "execution_count": 112,
   "metadata": {},
   "outputs": [],
   "source": [
    "# Use model to predict Total Price\n",
    "total_price_pred = pipe.predict(x_test)"
   ]
  },
  {
   "cell_type": "code",
   "execution_count": 113,
   "metadata": {},
   "outputs": [
    {
     "name": "stdout",
     "output_type": "stream",
     "text": [
      "The MSE is:  402305208.2364705\n",
      "The MAE is:  7187.871027499999\n"
     ]
    }
   ],
   "source": [
    "print(\"The MSE is: \", mean_squared_error(y_test, total_price_pred))\n",
    "print(\"The MAE is: \", mean_absolute_error(y_test, total_price_pred))"
   ]
  },
  {
   "cell_type": "code",
   "execution_count": 114,
   "metadata": {},
   "outputs": [
    {
     "name": "stdout",
     "output_type": "stream",
     "text": [
      "20057.54741329235\n"
     ]
    }
   ],
   "source": [
    "rmse = sqrt(mean_squared_error(y_test, total_price_pred))\n",
    "\n",
    "print(rmse)"
   ]
  },
  {
   "cell_type": "code",
   "execution_count": 115,
   "metadata": {},
   "outputs": [
    {
     "data": {
      "text/html": [
       "<div>\n",
       "<style scoped>\n",
       "    .dataframe tbody tr th:only-of-type {\n",
       "        vertical-align: middle;\n",
       "    }\n",
       "\n",
       "    .dataframe tbody tr th {\n",
       "        vertical-align: top;\n",
       "    }\n",
       "\n",
       "    .dataframe thead th {\n",
       "        text-align: right;\n",
       "    }\n",
       "</style>\n",
       "<table border=\"1\" class=\"dataframe\">\n",
       "  <thead>\n",
       "    <tr style=\"text-align: right;\">\n",
       "      <th></th>\n",
       "      <th>Actual Price</th>\n",
       "      <th>Predicted Price</th>\n",
       "    </tr>\n",
       "  </thead>\n",
       "  <tbody>\n",
       "    <tr>\n",
       "      <td>0</td>\n",
       "      <td>2140.00</td>\n",
       "      <td>8995.0</td>\n",
       "    </tr>\n",
       "    <tr>\n",
       "      <td>1</td>\n",
       "      <td>6069.50</td>\n",
       "      <td>7372.0</td>\n",
       "    </tr>\n",
       "    <tr>\n",
       "      <td>2</td>\n",
       "      <td>4834.95</td>\n",
       "      <td>-154.0</td>\n",
       "    </tr>\n",
       "    <tr>\n",
       "      <td>3</td>\n",
       "      <td>3068.90</td>\n",
       "      <td>8499.0</td>\n",
       "    </tr>\n",
       "    <tr>\n",
       "      <td>4</td>\n",
       "      <td>5062.40</td>\n",
       "      <td>5458.0</td>\n",
       "    </tr>\n",
       "    <tr>\n",
       "      <td>5</td>\n",
       "      <td>7200.00</td>\n",
       "      <td>3316.0</td>\n",
       "    </tr>\n",
       "    <tr>\n",
       "      <td>6</td>\n",
       "      <td>4548.37</td>\n",
       "      <td>7658.0</td>\n",
       "    </tr>\n",
       "    <tr>\n",
       "      <td>7</td>\n",
       "      <td>3556.20</td>\n",
       "      <td>4633.0</td>\n",
       "    </tr>\n",
       "    <tr>\n",
       "      <td>8</td>\n",
       "      <td>2977.78</td>\n",
       "      <td>10134.0</td>\n",
       "    </tr>\n",
       "    <tr>\n",
       "      <td>9</td>\n",
       "      <td>5627.00</td>\n",
       "      <td>10749.0</td>\n",
       "    </tr>\n",
       "    <tr>\n",
       "      <td>10</td>\n",
       "      <td>2069.62</td>\n",
       "      <td>6523.0</td>\n",
       "    </tr>\n",
       "    <tr>\n",
       "      <td>11</td>\n",
       "      <td>16770.00</td>\n",
       "      <td>3763.0</td>\n",
       "    </tr>\n",
       "    <tr>\n",
       "      <td>12</td>\n",
       "      <td>12000.00</td>\n",
       "      <td>18034.0</td>\n",
       "    </tr>\n",
       "    <tr>\n",
       "      <td>13</td>\n",
       "      <td>2467.50</td>\n",
       "      <td>585.0</td>\n",
       "    </tr>\n",
       "    <tr>\n",
       "      <td>14</td>\n",
       "      <td>13300.00</td>\n",
       "      <td>16554.0</td>\n",
       "    </tr>\n",
       "    <tr>\n",
       "      <td>15</td>\n",
       "      <td>690.15</td>\n",
       "      <td>4111.0</td>\n",
       "    </tr>\n",
       "    <tr>\n",
       "      <td>16</td>\n",
       "      <td>10398.40</td>\n",
       "      <td>4295.0</td>\n",
       "    </tr>\n",
       "    <tr>\n",
       "      <td>17</td>\n",
       "      <td>2749.86</td>\n",
       "      <td>9432.0</td>\n",
       "    </tr>\n",
       "    <tr>\n",
       "      <td>18</td>\n",
       "      <td>2683.14</td>\n",
       "      <td>5836.0</td>\n",
       "    </tr>\n",
       "    <tr>\n",
       "      <td>19</td>\n",
       "      <td>5171.20</td>\n",
       "      <td>4048.0</td>\n",
       "    </tr>\n",
       "  </tbody>\n",
       "</table>\n",
       "</div>"
      ],
      "text/plain": [
       "    Actual Price  Predicted Price\n",
       "0        2140.00           8995.0\n",
       "1        6069.50           7372.0\n",
       "2        4834.95           -154.0\n",
       "3        3068.90           8499.0\n",
       "4        5062.40           5458.0\n",
       "5        7200.00           3316.0\n",
       "6        4548.37           7658.0\n",
       "7        3556.20           4633.0\n",
       "8        2977.78          10134.0\n",
       "9        5627.00          10749.0\n",
       "10       2069.62           6523.0\n",
       "11      16770.00           3763.0\n",
       "12      12000.00          18034.0\n",
       "13       2467.50            585.0\n",
       "14      13300.00          16554.0\n",
       "15        690.15           4111.0\n",
       "16      10398.40           4295.0\n",
       "17       2749.86           9432.0\n",
       "18       2683.14           5836.0\n",
       "19       5171.20           4048.0"
      ]
     },
     "execution_count": 115,
     "metadata": {},
     "output_type": "execute_result"
    }
   ],
   "source": [
    "mlr_df= pd.DataFrame({\"Actual Price\":y_test, \"Predicted Price\":np.round(total_price_pred)})\n",
    "mlr_df.head(20)"
   ]
  },
  {
   "cell_type": "code",
   "execution_count": 128,
   "metadata": {},
   "outputs": [
    {
     "data": {
      "text/plain": [
       "Text(0.5, 0, 'Price')"
      ]
     },
     "execution_count": 128,
     "metadata": {},
     "output_type": "execute_result"
    },
    {
     "data": {
      "image/png": "[encoded data removed]",
      "text/plain": [
       "<Figure size 720x576 with 1 Axes>"
      ]
     },
     "metadata": {
      "needs_background": "light"
     },
     "output_type": "display_data"
    }
   ],
   "source": [
    "plt.figure(figsize=(10,8))\n",
    "ax=sns.distplot(mlr_df['Actual Price'], hist=False, color='red', label='Actual Price') \n",
    "sns.distplot(mlr_df['Predicted Price'], hist=False, color='blue', label='Predicted Price', ax=ax)\n",
    "plt.title('Actual vs Predicted Price: Linear regression model', size=20)\n",
    "plt.xlabel('Price', size=15)"
   ]
  },
  {
   "cell_type": "markdown",
   "metadata": {},
   "source": [
    "SUPPORT VECTOR REGRESSION MODEL"
   ]
  },
  {
   "cell_type": "code",
   "execution_count": 116,
   "metadata": {},
   "outputs": [],
   "source": [
    "# create pipeline feed_svr\n",
    "feed_svr = [('scale', StandardScaler), ('svr_model', SVR(shrinking=True, kernel='poly', gamma=0.01, epsilon=1, degree=5, C=0.1)) ]"
   ]
  },
  {
   "cell_type": "code",
   "execution_count": 117,
   "metadata": {},
   "outputs": [
    {
     "data": {
      "text/plain": [
       "Pipeline(memory=None,\n",
       "         steps=[('scale', <class 'sklearn.preprocessing.data.StandardScaler'>),\n",
       "                ('svr_model',\n",
       "                 SVR(C=0.1, cache_size=200, coef0=0.0, degree=5, epsilon=1,\n",
       "                     gamma=0.01, kernel='poly', max_iter=-1, shrinking=True,\n",
       "                     tol=0.001, verbose=False))],\n",
       "         verbose=False)"
      ]
     },
     "execution_count": 117,
     "metadata": {},
     "output_type": "execute_result"
    }
   ],
   "source": [
    "# Create pipe instance for svr\n",
    "pipe_svr = Pipeline(feed_svr)\n",
    "pipe_svr"
   ]
  },
  {
   "cell_type": "code",
   "execution_count": 118,
   "metadata": {},
   "outputs": [],
   "source": [
    "#fitting the model to the dataset\n",
    "X_train_std = StandardScaler().fit_transform(X_train)\n",
    "x_test_std = StandardScaler().fit_transform(x_test)"
   ]
  },
  {
   "cell_type": "code",
   "execution_count": 119,
   "metadata": {},
   "outputs": [],
   "source": [
    "# The Support Vector Regression model\n",
    "\n",
    "svm_model = SVR(shrinking=True, kernel='poly', gamma=0.01, epsilon=1, degree=5, C=0.1)\n",
    "svm_model.fit(X_train_std, Y_train)\n",
    "\n",
    "total_price_pred_svr = svm_model.predict(x_test)"
   ]
  },
  {
   "cell_type": "code",
   "execution_count": 120,
   "metadata": {},
   "outputs": [
    {
     "name": "stdout",
     "output_type": "stream",
     "text": [
      "The MSE is:  1409967398.8684797\n",
      "The MAE is:  21142.064062195575\n"
     ]
    }
   ],
   "source": [
    "print(\"The MSE is: \", mean_squared_error(y_test, total_price_pred_svr))\n",
    "print(\"The MAE is: \", mean_absolute_error(y_test, total_price_pred_svr))\n"
   ]
  },
  {
   "cell_type": "code",
   "execution_count": 121,
   "metadata": {},
   "outputs": [
    {
     "name": "stdout",
     "output_type": "stream",
     "text": [
      "37549.532605193366\n"
     ]
    }
   ],
   "source": [
    "rmse_svr = sqrt(mean_squared_error(y_test, total_price_pred_svr))\n",
    "\n",
    "print(rmse_svr)"
   ]
  },
  {
   "cell_type": "code",
   "execution_count": 122,
   "metadata": {},
   "outputs": [
    {
     "data": {
      "text/html": [
       "<div>\n",
       "<style scoped>\n",
       "    .dataframe tbody tr th:only-of-type {\n",
       "        vertical-align: middle;\n",
       "    }\n",
       "\n",
       "    .dataframe tbody tr th {\n",
       "        vertical-align: top;\n",
       "    }\n",
       "\n",
       "    .dataframe thead th {\n",
       "        text-align: right;\n",
       "    }\n",
       "</style>\n",
       "<table border=\"1\" class=\"dataframe\">\n",
       "  <thead>\n",
       "    <tr style=\"text-align: right;\">\n",
       "      <th></th>\n",
       "      <th>Actual Price</th>\n",
       "      <th>Predicted Price</th>\n",
       "    </tr>\n",
       "  </thead>\n",
       "  <tbody>\n",
       "    <tr>\n",
       "      <td>0</td>\n",
       "      <td>2140.00</td>\n",
       "      <td>-7709.0</td>\n",
       "    </tr>\n",
       "    <tr>\n",
       "      <td>1</td>\n",
       "      <td>6069.50</td>\n",
       "      <td>3596.0</td>\n",
       "    </tr>\n",
       "    <tr>\n",
       "      <td>2</td>\n",
       "      <td>4834.95</td>\n",
       "      <td>-8137.0</td>\n",
       "    </tr>\n",
       "    <tr>\n",
       "      <td>3</td>\n",
       "      <td>3068.90</td>\n",
       "      <td>-1270.0</td>\n",
       "    </tr>\n",
       "    <tr>\n",
       "      <td>4</td>\n",
       "      <td>5062.40</td>\n",
       "      <td>-3245.0</td>\n",
       "    </tr>\n",
       "    <tr>\n",
       "      <td>5</td>\n",
       "      <td>7200.00</td>\n",
       "      <td>5152.0</td>\n",
       "    </tr>\n",
       "    <tr>\n",
       "      <td>6</td>\n",
       "      <td>4548.37</td>\n",
       "      <td>5268.0</td>\n",
       "    </tr>\n",
       "    <tr>\n",
       "      <td>7</td>\n",
       "      <td>3556.20</td>\n",
       "      <td>-7824.0</td>\n",
       "    </tr>\n",
       "    <tr>\n",
       "      <td>8</td>\n",
       "      <td>2977.78</td>\n",
       "      <td>4008.0</td>\n",
       "    </tr>\n",
       "    <tr>\n",
       "      <td>9</td>\n",
       "      <td>5627.00</td>\n",
       "      <td>-20101.0</td>\n",
       "    </tr>\n",
       "    <tr>\n",
       "      <td>10</td>\n",
       "      <td>2069.62</td>\n",
       "      <td>3919.0</td>\n",
       "    </tr>\n",
       "    <tr>\n",
       "      <td>11</td>\n",
       "      <td>16770.00</td>\n",
       "      <td>-59881.0</td>\n",
       "    </tr>\n",
       "    <tr>\n",
       "      <td>12</td>\n",
       "      <td>12000.00</td>\n",
       "      <td>4037.0</td>\n",
       "    </tr>\n",
       "    <tr>\n",
       "      <td>13</td>\n",
       "      <td>2467.50</td>\n",
       "      <td>2376.0</td>\n",
       "    </tr>\n",
       "    <tr>\n",
       "      <td>14</td>\n",
       "      <td>13300.00</td>\n",
       "      <td>-4586.0</td>\n",
       "    </tr>\n",
       "    <tr>\n",
       "      <td>15</td>\n",
       "      <td>690.15</td>\n",
       "      <td>4755.0</td>\n",
       "    </tr>\n",
       "    <tr>\n",
       "      <td>16</td>\n",
       "      <td>10398.40</td>\n",
       "      <td>-3390.0</td>\n",
       "    </tr>\n",
       "    <tr>\n",
       "      <td>17</td>\n",
       "      <td>2749.86</td>\n",
       "      <td>-13123.0</td>\n",
       "    </tr>\n",
       "    <tr>\n",
       "      <td>18</td>\n",
       "      <td>2683.14</td>\n",
       "      <td>2263.0</td>\n",
       "    </tr>\n",
       "    <tr>\n",
       "      <td>19</td>\n",
       "      <td>5171.20</td>\n",
       "      <td>-6116.0</td>\n",
       "    </tr>\n",
       "  </tbody>\n",
       "</table>\n",
       "</div>"
      ],
      "text/plain": [
       "    Actual Price  Predicted Price\n",
       "0        2140.00          -7709.0\n",
       "1        6069.50           3596.0\n",
       "2        4834.95          -8137.0\n",
       "3        3068.90          -1270.0\n",
       "4        5062.40          -3245.0\n",
       "5        7200.00           5152.0\n",
       "6        4548.37           5268.0\n",
       "7        3556.20          -7824.0\n",
       "8        2977.78           4008.0\n",
       "9        5627.00         -20101.0\n",
       "10       2069.62           3919.0\n",
       "11      16770.00         -59881.0\n",
       "12      12000.00           4037.0\n",
       "13       2467.50           2376.0\n",
       "14      13300.00          -4586.0\n",
       "15        690.15           4755.0\n",
       "16      10398.40          -3390.0\n",
       "17       2749.86         -13123.0\n",
       "18       2683.14           2263.0\n",
       "19       5171.20          -6116.0"
      ]
     },
     "execution_count": 122,
     "metadata": {},
     "output_type": "execute_result"
    }
   ],
   "source": [
    "svr_df= pd.DataFrame({\"Actual Price\":y_test, \"Predicted Price\":np.round(total_price_pred_svr)})\n",
    "svr_df.head(20)"
   ]
  },
  {
   "cell_type": "code",
   "execution_count": 129,
   "metadata": {},
   "outputs": [
    {
     "data": {
      "text/plain": [
       "Text(0.5, 0, 'Price')"
      ]
     },
     "execution_count": 129,
     "metadata": {},
     "output_type": "execute_result"
    },
    {
     "data": {
      "image/png": "[encoded data removed]",
      "text/plain": [
       "<Figure size 720x576 with 1 Axes>"
      ]
     },
     "metadata": {
      "needs_background": "light"
     },
     "output_type": "display_data"
    }
   ],
   "source": [
    "plt.figure(figsize=(10,8))\n",
    "ax2=sns.distplot(svr_df['Actual Price'], hist=False, color='red', label='Actual Price') \n",
    "sns.distplot(svr_df['Predicted Price'], hist=False, color='blue', label='Predicted Price', ax=ax2)\n",
    "plt.title('Actual vs Predicted Price: SVR regression model', size=20)\n",
    "plt.xlabel('Price', size=15)"
   ]
  },
  {
   "cell_type": "markdown",
   "metadata": {},
   "source": [
    "SUPPORT VECTOR LINEAR REGRESSION MODEL"
   ]
  },
  {
   "cell_type": "code",
   "execution_count": 123,
   "metadata": {},
   "outputs": [],
   "source": [
    "svm_model2 = LinearSVR(epsilon=1,  C=1.1, intercept_scaling= 2.5)  \n",
    "svm_model2.fit(X_train_std, Y_train)\n",
    "\n",
    "total_price_pred_svr2 = svm_model2.predict(x_test)"
   ]
  },
  {
   "cell_type": "code",
   "execution_count": 124,
   "metadata": {},
   "outputs": [
    {
     "name": "stdout",
     "output_type": "stream",
     "text": [
      "The MSE is:  896875838.7696615\n",
      "The MAE is:  20063.790594171776\n"
     ]
    }
   ],
   "source": [
    "print(\"The MSE is: \", mean_squared_error(y_test, total_price_pred_svr2))\n",
    "print(\"The MAE is: \", mean_absolute_error(y_test, total_price_pred_svr2))"
   ]
  },
  {
   "cell_type": "code",
   "execution_count": 125,
   "metadata": {},
   "outputs": [
    {
     "name": "stdout",
     "output_type": "stream",
     "text": [
      "29947.885380601776\n"
     ]
    }
   ],
   "source": [
    "rmse_svr2 = sqrt(mean_squared_error(y_test, total_price_pred_svr2))\n",
    "\n",
    "print(rmse_svr2)"
   ]
  },
  {
   "cell_type": "code",
   "execution_count": 126,
   "metadata": {},
   "outputs": [
    {
     "data": {
      "text/html": [
       "<div>\n",
       "<style scoped>\n",
       "    .dataframe tbody tr th:only-of-type {\n",
       "        vertical-align: middle;\n",
       "    }\n",
       "\n",
       "    .dataframe tbody tr th {\n",
       "        vertical-align: top;\n",
       "    }\n",
       "\n",
       "    .dataframe thead th {\n",
       "        text-align: right;\n",
       "    }\n",
       "</style>\n",
       "<table border=\"1\" class=\"dataframe\">\n",
       "  <thead>\n",
       "    <tr style=\"text-align: right;\">\n",
       "      <th></th>\n",
       "      <th>Actual Price</th>\n",
       "      <th>Predicted Price</th>\n",
       "    </tr>\n",
       "  </thead>\n",
       "  <tbody>\n",
       "    <tr>\n",
       "      <td>0</td>\n",
       "      <td>2140.00</td>\n",
       "      <td>-19218.0</td>\n",
       "    </tr>\n",
       "    <tr>\n",
       "      <td>1</td>\n",
       "      <td>6069.50</td>\n",
       "      <td>-27.0</td>\n",
       "    </tr>\n",
       "    <tr>\n",
       "      <td>2</td>\n",
       "      <td>4834.95</td>\n",
       "      <td>-18114.0</td>\n",
       "    </tr>\n",
       "    <tr>\n",
       "      <td>3</td>\n",
       "      <td>3068.90</td>\n",
       "      <td>-10294.0</td>\n",
       "    </tr>\n",
       "    <tr>\n",
       "      <td>4</td>\n",
       "      <td>5062.40</td>\n",
       "      <td>-13107.0</td>\n",
       "    </tr>\n",
       "    <tr>\n",
       "      <td>5</td>\n",
       "      <td>7200.00</td>\n",
       "      <td>-2374.0</td>\n",
       "    </tr>\n",
       "    <tr>\n",
       "      <td>6</td>\n",
       "      <td>4548.37</td>\n",
       "      <td>1232.0</td>\n",
       "    </tr>\n",
       "    <tr>\n",
       "      <td>7</td>\n",
       "      <td>3556.20</td>\n",
       "      <td>-8248.0</td>\n",
       "    </tr>\n",
       "    <tr>\n",
       "      <td>8</td>\n",
       "      <td>2977.78</td>\n",
       "      <td>1585.0</td>\n",
       "    </tr>\n",
       "    <tr>\n",
       "      <td>9</td>\n",
       "      <td>5627.00</td>\n",
       "      <td>-21092.0</td>\n",
       "    </tr>\n",
       "    <tr>\n",
       "      <td>10</td>\n",
       "      <td>2069.62</td>\n",
       "      <td>-6171.0</td>\n",
       "    </tr>\n",
       "    <tr>\n",
       "      <td>11</td>\n",
       "      <td>16770.00</td>\n",
       "      <td>-20045.0</td>\n",
       "    </tr>\n",
       "    <tr>\n",
       "      <td>12</td>\n",
       "      <td>12000.00</td>\n",
       "      <td>1175.0</td>\n",
       "    </tr>\n",
       "    <tr>\n",
       "      <td>13</td>\n",
       "      <td>2467.50</td>\n",
       "      <td>-8328.0</td>\n",
       "    </tr>\n",
       "    <tr>\n",
       "      <td>14</td>\n",
       "      <td>13300.00</td>\n",
       "      <td>-6554.0</td>\n",
       "    </tr>\n",
       "    <tr>\n",
       "      <td>15</td>\n",
       "      <td>690.15</td>\n",
       "      <td>-5643.0</td>\n",
       "    </tr>\n",
       "    <tr>\n",
       "      <td>16</td>\n",
       "      <td>10398.40</td>\n",
       "      <td>-8651.0</td>\n",
       "    </tr>\n",
       "    <tr>\n",
       "      <td>17</td>\n",
       "      <td>2749.86</td>\n",
       "      <td>-21724.0</td>\n",
       "    </tr>\n",
       "    <tr>\n",
       "      <td>18</td>\n",
       "      <td>2683.14</td>\n",
       "      <td>-13869.0</td>\n",
       "    </tr>\n",
       "    <tr>\n",
       "      <td>19</td>\n",
       "      <td>5171.20</td>\n",
       "      <td>-9794.0</td>\n",
       "    </tr>\n",
       "  </tbody>\n",
       "</table>\n",
       "</div>"
      ],
      "text/plain": [
       "    Actual Price  Predicted Price\n",
       "0        2140.00         -19218.0\n",
       "1        6069.50            -27.0\n",
       "2        4834.95         -18114.0\n",
       "3        3068.90         -10294.0\n",
       "4        5062.40         -13107.0\n",
       "5        7200.00          -2374.0\n",
       "6        4548.37           1232.0\n",
       "7        3556.20          -8248.0\n",
       "8        2977.78           1585.0\n",
       "9        5627.00         -21092.0\n",
       "10       2069.62          -6171.0\n",
       "11      16770.00         -20045.0\n",
       "12      12000.00           1175.0\n",
       "13       2467.50          -8328.0\n",
       "14      13300.00          -6554.0\n",
       "15        690.15          -5643.0\n",
       "16      10398.40          -8651.0\n",
       "17       2749.86         -21724.0\n",
       "18       2683.14         -13869.0\n",
       "19       5171.20          -9794.0"
      ]
     },
     "execution_count": 126,
     "metadata": {},
     "output_type": "execute_result"
    }
   ],
   "source": [
    "svlr_df= pd.DataFrame({\"Actual Price\":y_test, \"Predicted Price\":np.round(total_price_pred_svr2)})\n",
    "svlr_df.head(20)"
   ]
  },
  {
   "cell_type": "code",
   "execution_count": 130,
   "metadata": {},
   "outputs": [
    {
     "data": {
      "text/plain": [
       "Text(0.5, 0, 'Price')"
      ]
     },
     "execution_count": 130,
     "metadata": {},
     "output_type": "execute_result"
    },
    {
     "data": {
      "image/png": "[encoded data removed]",
      "text/plain": [
       "<Figure size 720x576 with 1 Axes>"
      ]
     },
     "metadata": {
      "needs_background": "light"
     },
     "output_type": "display_data"
    }
   ],
   "source": [
    "plt.figure(figsize=(10,8))\n",
    "ax3=sns.distplot(svlr_df['Actual Price'], hist=False, color='red', label='Actual Price') \n",
    "sns.distplot(svlr_df['Predicted Price'], hist=False, color='blue', label='Predicted Price', ax=ax3)\n",
    "plt.title('Actual vs Predicted Price: LinearSVR regression model', size=20)\n",
    "plt.xlabel('Price', size=15)"
   ]
  },
  {
   "cell_type": "markdown",
   "metadata": {},
   "source": [
    "Reviewing the three regression models developed, it is evident that the LinearRegression model gave the better prediction of them all. \n",
    "\n",
    "Evidently, given more time, we can tune the parameters of this model to give a better prediction model than currenlty is"
   ]
  },
  {
   "cell_type": "code",
   "execution_count": null,
   "metadata": {},
   "outputs": [],
   "source": []
  }
 ],
 "metadata": {
  "kernelspec": {
   "display_name": "Python 3",
   "language": "python",
   "name": "python3"
  },
  "language_info": {
   "codemirror_mode": {
    "name": "ipython",
    "version": 3
   },
   "file_extension": ".py",
   "mimetype": "text/x-python",
   "name": "python",
   "nbconvert_exporter": "python",
   "pygments_lexer": "ipython3",
   "version": "3.7.4"
  }
 },
 "nbformat": 4,
 "nbformat_minor": 2
}
